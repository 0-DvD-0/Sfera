{
 "cells": [
  {
   "cell_type": "code",
   "execution_count": 2,
   "metadata": {},
   "outputs": [],
   "source": [
    "import matplotlib.pyplot as plt\n",
    "import numpy as np"
   ]
  },
  {
   "cell_type": "code",
   "execution_count": 42,
   "metadata": {},
   "outputs": [],
   "source": [
    "def load_histo(dat_PATH):\n",
    "    data = np.loadtxt(dat_PATH, skiprows=0, comments='==')\n",
    "    noises_edges = np.zeros((int(data.shape[0]/2), data.shape[1]))       #np.array([[]] * int(data.shape[0]/2))\n",
    "    noises_values = np.zeros((int(data.shape[0]/2), data.shape[1]))       #np.array([[]] * int(data.shape[0]/2))\n",
    "\n",
    "    for i in range(int(data.shape[0]/2)):\n",
    "        noises_edges[i] = (data[2 * i])\n",
    "        noises_values[i] = (data[2 * i + 1])\n",
    "\n",
    "    return noises_edges, noises_values\n",
    "\n",
    "\n",
    "def rebin(data, factor):\n",
    "    if len(data) % factor != 0:\n",
    "        raise ValueError(\"Length of data must be divisible by factor.\")\n",
    "    rebinned_data = np.sum(data.reshape(-1, factor), axis=1)\n",
    "    return rebinned_data"
   ]
  },
  {
   "cell_type": "code",
   "execution_count": 49,
   "metadata": {},
   "outputs": [
    {
     "name": "stdout",
     "output_type": "stream",
     "text": [
      "(13, 1000)\n",
      "(13, 1000)\n",
      "(26, 1000)\n"
     ]
    }
   ],
   "source": [
    "PATH_MARTI_1=\"../Dati/Run_chall_ChargeHistos_4_12_2024_10M.dat\"\n",
    "PATH_MARTI_2=\"../Dati/Run_Cs_allch_17M_ChargeHistos_4_12_2024.dat\"\n",
    "PATH_SAM=\"../Dati/12_APR/Run_chall_ChargeHistos_4_12_2024_10M.dat\"\n",
    "edge_N_1, bin_N_1 = load_histo(PATH_MARTI_1)\n",
    "edge_N_2, bin_N_2 = load_histo(PATH_MARTI_2)\n",
    "\n",
    "print(edge_N_1.shape)\n",
    "print(bin_N_1.shape)\n",
    "\n",
    "\n",
    "channels = [0, 2, 3, 4, 5, 6, 7, 8, 9, 10, 11, 14, 15]\n",
    "channel_idx = [0, -1, 1, 2, 3, 4, 5, 6, 7, 8, 9, 10, -1, -1, 11, 12]\n",
    "test_data=[]\n",
    "\n",
    "file_name=\"../Dati/Run_allch_TEST_7M_4_12_2024.dat\"\n",
    "with open(file_name, \"w\") as file:\n",
    "    for i in channels:\n",
    "        test_data.append(edge_N_1[channel_idx[i]])\n",
    "        test_data.append(bin_N_2[channel_idx[i]]-bin_N_1[channel_idx[i]])\n",
    "\n",
    "test_data=np.array(test_data)\n",
    "print(test_data.shape)\n",
    "\n",
    "np.savetxt(file_name, test_data, fmt='%.3f')\n",
    "\n",
    "\n",
    "\n",
    "\n"
   ]
  },
  {
   "cell_type": "code",
   "execution_count": 45,
   "metadata": {},
   "outputs": [],
   "source": [
    "PATH_MARTI=\"../Dati/Run_allch_TEST_7M_4_12_2024.dat\"\n",
    "edge_test, bin_test=load_histo(PATH_MARTI)"
   ]
  },
  {
   "cell_type": "code",
   "execution_count": 60,
   "metadata": {},
   "outputs": [],
   "source": [
    "channel = 3\n",
    "\n",
    "if(channel == 12 or channel == 13 or channel == 1):\n",
    "    exit()\n",
    "\n",
    "channel_idx = [0, -1, 1, 2, 3, 4, 5, 6, 7, 8, 9, 10, -1, -1, 11, 12]\n",
    "\n",
    "    \n",
    "edge_N = edge_test[channel_idx[channel]]\n",
    "bin_N = bin_test[channel_idx[channel]]\n",
    "\n",
    "rebin_fact = 1\n",
    "bin_N = rebin(bin_N, rebin_fact)\n",
    "tmp = []\n",
    "for i in range(len(edge_N)):\n",
    "    if(i % rebin_fact == 0):\n",
    "        tmp.append(edge_N[i])\n",
    "\n",
    "tmp.append(edge_N[-1])\n",
    "edge_N = np.array(tmp)\n",
    "\n",
    "centers_N = np.convolve(edge_N, [0.5, 0.5], \"valid\")\n",
    "err_N = np.sqrt(bin_N)\n"
   ]
  },
  {
   "cell_type": "code",
   "execution_count": 61,
   "metadata": {},
   "outputs": [
    {
     "data": {
      "text/plain": [
       "Text(0, 0.5, 'counts')"
      ]
     },
     "execution_count": 61,
     "metadata": {},
     "output_type": "execute_result"
    },
    {
     "data": {
      "image/png": "[encoded data removed]",
      "text/plain": [
       "<Figure size 640x480 with 1 Axes>"
      ]
     },
     "metadata": {},
     "output_type": "display_data"
    }
   ],
   "source": [
    "lim_list = [[-600, -165],  #ch0\n",
    "            [-1, -1],      #ch1\n",
    "            [-600, -175],  #ch2\n",
    "            [-600, -145],  #ch3\n",
    "            [-500, -165],  #ch4\n",
    "            [-600, -175],  #ch5\n",
    "            [-600, -155],  #ch6\n",
    "            [-500, -180],  #ch7\n",
    "            [-600, -170],  #ch8\n",
    "            [-600, -160],  #ch9\n",
    "            [-600, -120],  #ch10\n",
    "            [-600, -165],  #ch11\n",
    "            [-1, -1],      #ch12\n",
    "            [-1, -1],      #ch13\n",
    "            [-600, -140],  #ch14\n",
    "            [-600, -160]   #ch15\n",
    "            ]\n",
    "\n",
    "\n",
    "lim_N = lim_list[channel]\n",
    "plt.text(centers_N.min() * 0.85, bin_N.max() * 95 / 100, f'{bin_N.sum() = }', fontsize=10, color='black', ha='center',\n",
    "         bbox=dict(facecolor='white', alpha=0.5, edgecolor='blue', boxstyle='round,pad=0.5'))\n",
    "plt.bar(centers_N, bin_N, width = 4)\n",
    "plt.xlim(lim_N)\n",
    "plt.grid()\n",
    "plt.xlabel(\"Charge [pC]\")\n",
    "plt.ylabel(\"counts\")"
   ]
  },
  {
   "cell_type": "code",
   "execution_count": null,
   "metadata": {},
   "outputs": [],
   "source": [
    "lim_list = [[-600, -165],  #ch0\n",
    "            [-1, -1],      #ch1\n",
    "            [-600, -175],  #ch2\n",
    "            [-600, -145],  #ch3\n",
    "            [-500, -165],  #ch4\n",
    "            [-600, -175],  #ch5\n",
    "            [-600, -155],  #ch6\n",
    "            [-500, -180],  #ch7\n",
    "            [-600, -170],  #ch8\n",
    "            [-600, -160],  #ch9\n",
    "            [-600, -120],  #ch10\n",
    "            [-600, -165],  #ch11\n",
    "            [-1, -1],      #ch12\n",
    "            [-1, -1],      #ch13\n",
    "            [-600, -140],  #ch14\n",
    "            [-600, -160]   #ch15\n",
    "            ]\n",
    "\n",
    "\n",
    "lim_N = lim_list[channel]\n",
    "plt.text(centers_N.min() * 0.85, bin_N.max() * 95 / 100, f'{bin_N.sum() = }', fontsize=10, color='black', ha='center',\n",
    "         bbox=dict(facecolor='white', alpha=0.5, edgecolor='blue', boxstyle='round,pad=0.5'))\n",
    "plt.bar(centers_N, bin_N, width = 4)\n",
    "plt.xlim(lim_N)\n",
    "plt.grid()\n",
    "plt.xlabel(\"Charge [pC]\")\n",
    "plt.ylabel(\"counts\")"
   ]
  }
 ],
 "metadata": {
  "kernelspec": {
   "display_name": "base",
   "language": "python",
   "name": "python3"
  },
  "language_info": {
   "codemirror_mode": {
    "name": "ipython",
    "version": 3
   },
   "file_extension": ".py",
   "mimetype": "text/x-python",
   "name": "python",
   "nbconvert_exporter": "python",
   "pygments_lexer": "ipython3",
   "version": "3.10.10"
  }
 },
 "nbformat": 4,
 "nbformat_minor": 2
}
