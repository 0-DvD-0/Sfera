{
 "cells": [
  {
   "cell_type": "code",
   "execution_count": 1,
   "metadata": {},
   "outputs": [
    {
     "name": "stdout",
     "output_type": "stream",
     "text": [
      "Welcome to JupyROOT 6.30/04\n"
     ]
    }
   ],
   "source": [
    "import ROOT\n",
    "import uproot\n",
    "import matplotlib.pyplot as plt\n",
    "import scipy as scp\n",
    "from scipy.integrate import trapezoid\n",
    "import numpy as np\n",
    "import awkward as ak\n"
   ]
  },
  {
   "cell_type": "code",
   "execution_count": 3,
   "metadata": {},
   "outputs": [
    {
     "name": "stdout",
     "output_type": "stream",
     "text": [
      "name                 | typename                 | interpretation                \n",
      "---------------------+--------------------------+-------------------------------\n",
      "ev                   | int32_t                  | AsDtype('>i4')\n",
      "nch                  | int32_t                  | AsDtype('>i4')\n",
      "ch                   | int32_t[]                | AsJagged(AsDtype('>i4'))\n",
      "base                 | float[]                  | AsJagged(AsDtype('>f4'))\n",
      "amp                  | float[]                  | AsJagged(AsDtype('>f4'))\n",
      "charge               | float[]                  | AsJagged(AsDtype('>f4'))\n",
      "letime               | float[]                  | AsJagged(AsDtype('>f4'))\n",
      "tetime               | float[]                  | AsJagged(AsDtype('>f4'))\n",
      "pshape               | float[][1024]            | AsJagged(AsDtype(\"('>f4', (...\n"
     ]
    }
   ],
   "source": [
    "FILE_PATH_ELE = \"../Dati/Run_Na_Prva_Data_5_9_2024_Ascii_0000.root\" #Relative file path\n",
    "FILE_PATH_MARTI = \"../Dati/Run_internal_no_source_Data_5_9_2024_Ascii.root\" #Relative file path\n",
    "file = uproot.open(FILE_PATH_ELE)\n",
    "file[\"tree\"].show() #Display contents"
   ]
  },
  {
   "cell_type": "code",
   "execution_count": 4,
   "metadata": {},
   "outputs": [
    {
     "name": "stdout",
     "output_type": "stream",
     "text": [
      "(7999, 2, 1024)\n",
      "(7999, 2)\n"
     ]
    }
   ],
   "source": [
    "waveform = np.array(file[\"tree\"][\"pshape\"].array()[:-1])\n",
    "print(waveform.shape)\n",
    "std_devs=np.zeros( (20000, 16) )\n",
    "\n",
    "std_devs=np.std(waveform, axis=2)\n",
    "print(std_devs.shape)\n",
    "\n",
    "std_means=np.mean(std_devs, axis=0)"
   ]
  },
  {
   "cell_type": "code",
   "execution_count": 6,
   "metadata": {},
   "outputs": [],
   "source": [
    "baselines = np.array(file[\"tree\"][\"base\"].array()) \n",
    "charges = np.array(file[\"tree\"][\"charge\"].array())\n",
    "amp = np.array(file[\"tree\"][\"amp\"].array())\n",
    "lead_edge = np.array(file[\"tree\"][\"letime\"].array())\n",
    "t_edge = np.array(file[\"tree\"][\"tetime\"].array())\n",
    "channel= np.array(file[\"tree\"][\"ch\"].array())\n",
    "waveform = np.array(file[\"tree\"][\"pshape\"].array())"
   ]
  },
  {
   "cell_type": "code",
   "execution_count": 14,
   "metadata": {},
   "outputs": [
    {
     "name": "stdout",
     "output_type": "stream",
     "text": [
      "(16,)\n",
      "[0.00146046 0.00080266 0.00080036 0.00086336 0.00081332 0.00080123\n",
      " 0.00086653 0.00078382 0.0022469  0.0009465  0.00103487 0.00105601\n",
      " 0.00147908 0.00074666 0.00082993 0.00084697]\n"
     ]
    }
   ],
   "source": [
    "print(std_means.shape)\n",
    "print(std_means)"
   ]
  },
  {
   "cell_type": "code",
   "execution_count": 7,
   "metadata": {},
   "outputs": [
    {
     "data": {
      "text/plain": [
       "(array([[   0.,    0.,    0.,    0.,    0., 8000.,    0.,    0.,    0.,\n",
       "            0.],\n",
       "        [   0.,    0.,    0.,    0.,    0., 8000.,    0.,    0.,    0.,\n",
       "            0.]]),\n",
       " array([-0.5       , -0.40000001, -0.30000001, -0.2       , -0.1       ,\n",
       "         0.        ,  0.1       ,  0.2       ,  0.30000001,  0.40000001,\n",
       "         0.5       ]),\n",
       " <a list of 2 BarContainer objects>)"
      ]
     },
     "execution_count": 7,
     "metadata": {},
     "output_type": "execute_result"
    },
    {
     "data": {
      "image/png": "[encoded data removed]",
      "text/plain": [
       "<Figure size 640x480 with 1 Axes>"
      ]
     },
     "metadata": {},
     "output_type": "display_data"
    }
   ],
   "source": [
    "plt.hist(charges)"
   ]
  },
  {
   "cell_type": "code",
   "execution_count": 15,
   "metadata": {},
   "outputs": [
    {
     "name": "stdout",
     "output_type": "stream",
     "text": [
      "4.199999999999999\n"
     ]
    }
   ],
   "source": [
    "print(1.4*3)"
   ]
  },
  {
   "cell_type": "code",
   "execution_count": null,
   "metadata": {},
   "outputs": [],
   "source": []
  }
 ],
 "metadata": {
  "kernelspec": {
   "display_name": "base",
   "language": "python",
   "name": "python3"
  },
  "language_info": {
   "codemirror_mode": {
    "name": "ipython",
    "version": 3
   },
   "file_extension": ".py",
   "mimetype": "text/x-python",
   "name": "python",
   "nbconvert_exporter": "python",
   "pygments_lexer": "ipython3",
   "version": "3.10.10"
  }
 },
 "nbformat": 4,
 "nbformat_minor": 2
}
