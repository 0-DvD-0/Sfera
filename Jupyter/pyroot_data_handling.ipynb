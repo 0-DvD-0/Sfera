{
 "cells": [
  {
   "cell_type": "code",
   "execution_count": 1,
   "metadata": {},
   "outputs": [
    {
     "name": "stdout",
     "output_type": "stream",
     "text": [
      "Welcome to JupyROOT 6.30/04\n"
     ]
    }
   ],
   "source": [
    "import ROOT\n",
    "import numpy as np"
   ]
  },
  {
   "cell_type": "code",
   "execution_count": 2,
   "metadata": {},
   "outputs": [
    {
     "name": "stdout",
     "output_type": "stream",
     "text": [
      "\u001b[34mAnalysis\u001b[m\u001b[m/                            ax1_figure.png\n",
      "\u001b[34mFit\u001b[m\u001b[m/                                 ax3_figure.pdf\n",
      "Fit completo_ch0_ch1_ch2.ipynb       ax3_figure.png\n",
      "Fit_all_prova_bozza.ipynb            bad_voltage.ipynb\n",
      "InterCalibrazione - Foglio1.csv      batch3.ipynb\n",
      "InterCalibrazione - Test.csv         codice_sam3.ipynb\n",
      "InterCalibrazione-2.xlsx             fit_ch0.ipynb\n",
      "InterCalibrazione.xlsx               fit_ch0_ch1_ch2_bis.ipynb\n",
      "Run_allch_TEST_7M_4_12_2024.dat.npz  fit_ch1.ipynb\n",
      "Spectrum_analysis_general.ipynb      fit_ch2.ipynb\n",
      "Timing carca.ipynb                   fit_ch6.ipynb\n",
      "Timing waveforms copia.ipynb         fit_ch7 .ipynb\n",
      "Timing waveforms.ipynb               intercalibrazione.png\n",
      "Timing waveforms2.ipynb              intercalibrrazione copia.ipynb\n",
      "Timing.ipynb                         intercalibrrazione.ipynb\n",
      "Untitled-1.ipynb                     linearity_Na.ipynb\n",
      "WaveCatcherParams_new.ipynb          rms.ipynb\n",
      "analisi_trigger.ipynb                timing_waveforms_v2.ipynb\n",
      "ax1_figure.pdf\n"
     ]
    }
   ],
   "source": [
    "ls"
   ]
  },
  {
   "cell_type": "code",
   "execution_count": 3,
   "metadata": {},
   "outputs": [
    {
     "name": "stdout",
     "output_type": "stream",
     "text": [
      "Tree Name: tree\n",
      "Number of Entries: 100000\n"
     ]
    }
   ],
   "source": [
    "file = ROOT.TFile.Open(\"../Dati/Run_Na_Couples_CDF20_Data_5_9_2024_Ascii.root\", \"READ\")\n",
    "\n",
    "# Check if the file is open\n",
    "if not file or file.IsZombie():\n",
    "    print(\"Error: Could not open file!\")\n",
    "    exit(1)\n",
    "\n",
    "# Access the tree inside the file\n",
    "tree = file.Get(\"tree\")\n",
    "\n",
    "# Check if the tree exists\n",
    "if not tree or not isinstance(tree, ROOT.TTree):\n",
    "    print(\"Error: Could not find or access tree!\")\n",
    "    file.Close()\n",
    "    exit(1)\n",
    "\n",
    "# Accessing tree properties\n",
    "tree_name = tree.GetName()\n",
    "num_entries = tree.GetEntries()\n",
    "\n",
    "print(f\"Tree Name: {tree_name}\")\n",
    "print(f\"Number of Entries: {num_entries}\")"
   ]
  },
  {
   "cell_type": "code",
   "execution_count": 3,
   "metadata": {},
   "outputs": [
    {
     "name": "stdout",
     "output_type": "stream",
     "text": [
      "Contents of the ROOT file:\n",
      "Name: tree, Class: TTree\n",
      "Name: tree, Class: TTree\n"
     ]
    }
   ],
   "source": [
    "keys = file.GetListOfKeys()\n",
    "\n",
    "print(\"Contents of the ROOT file:\")\n",
    "for key in keys:\n",
    "    obj = key.ReadObj()\n",
    "    name = key.GetName()\n",
    "    obj_class = obj.ClassName()\n",
    "    print(f\"Name: {name}, Class: {obj_class}\")\n",
    "\n"
   ]
  },
  {
   "cell_type": "code",
   "execution_count": 4,
   "metadata": {},
   "outputs": [
    {
     "name": "stdout",
     "output_type": "stream",
     "text": [
      "Entry 0:\n",
      "    ev:  1\n",
      "    nch:  12\n",
      "    ch:  <cppyy.LowLevelView object at 0x14378a330>\n",
      "    base:  <cppyy.LowLevelView object at 0x14378a410>\n",
      "    amp:  <cppyy.LowLevelView object at 0x14378a4f0>\n",
      "    charge:  <cppyy.LowLevelView object at 0x14378a5d0>\n",
      "    letime:  <cppyy.LowLevelView object at 0x14378a560>\n",
      "    tetime:  <cppyy.LowLevelView object at 0x14378a640>\n",
      "    ratecount:  <cppyy.LowLevelView object at 0x14378a720>\n",
      "    pshape:  <cppyy.LowLevelView object at 0x14378a800>\n",
      "\n"
     ]
    }
   ],
   "source": [
    "\n",
    "tree.GetEntry(0)\n",
    "print(f\"Entry {0}:\")\n",
    "# Loop over the branches and print their values\n",
    "for branch in tree.GetListOfBranches():\n",
    "    branch_name = branch.GetName()\n",
    "    branch_value = getattr(tree, branch_name)\n",
    "    print(f\"    {branch_name}:  {branch_value}\")\n",
    "print()  # Print an empty line for better readability"
   ]
  },
  {
   "cell_type": "code",
   "execution_count": 5,
   "metadata": {},
   "outputs": [
    {
     "name": "stdout",
     "output_type": "stream",
     "text": [
      "======> EVENT:0\n",
      " ev              = 1\n",
      " nch             = 12\n",
      " ch              = 4, \n",
      "                  5, 6, 7, 8, 9, 10, 11, 12, 13, 14, \n",
      "                  15\n",
      " base            = 0.000252, \n",
      "                  0.000177, -3e-05, -5.7e-05, 4.2e-05, -0.000263, \n",
      "                  -0.008022, 0.000557, -0.003407, 0.000776, 0.000197, \n",
      "                  0.003689\n",
      " amp             = -0.002783, \n",
      "                  -0.002013, -0.002292, -0.002232, -0.187804, -0.109969, \n",
      "                  -0.005595, -0.00358, -0.002974, -0.002406, -0.002415, \n",
      "                  -0.00321\n",
      " charge          = -0.67, \n",
      "                  1.692, -0.146, 0.266, -374.247, -266.063, \n",
      "                  -1.472, -3.127, -0.873, -0.417, 0.115, \n",
      "                  -2.717\n",
      " letime          = 229.705, \n",
      "                  43.383, 49.445, 117.022, 65.175, 95.25, \n",
      "                  34.197, 310.66, 191.497, 278.911, 138.233, \n",
      "                  81.37\n",
      " tetime          = 230.449, \n",
      "                  44.033, 50.484, 118.745, 154.882, 224.738, \n",
      "                  39.571, 312.199, 192.721, 279.616, 139.008, \n",
      "                  82.802\n",
      " ratecount       = 2231.49, \n",
      "                  2625.07, 1162, 3080.26, 1633.79, 3033.19, \n",
      "                  2200.39, 2399.11, 1539.86, 2403.52, 2536.87, \n",
      "                  2058.37\n",
      " pshape          = 0.000906, \n",
      "                  0.000625, -0.000728, -0.001034, -8.7e-05, 0.000746, \n",
      "                  0.000725, -0.000143, 0.000789, 0.000177, 0.000724, \n",
      "                  -9e-06, 0.000594, -0.000552, 5.2e-05, 0.001248, \n",
      "                  0.000994, 0.0014, 0.001346, 0.000192\n"
     ]
    }
   ],
   "source": [
    "tree.Show()"
   ]
  },
  {
   "cell_type": "code",
   "execution_count": 6,
   "metadata": {},
   "outputs": [
    {
     "data": {
      "text/plain": [
       "vector<string>{ \"amp\", \"base\", \"ch\", \"charge\", \"ev\", \"letime\", \"nch\", \"pshape\", \"ratecount\", \"tetime\" }"
      ]
     },
     "execution_count": 6,
     "metadata": {},
     "output_type": "execute_result"
    }
   ],
   "source": [
    "d = ROOT.RDataFrame(\"tree\", \"Run_Na_Couples_CDF20_Data_5_9_2024_Ascii.root\")\n",
    "d.GetColumnNames()"
   ]
  },
  {
   "cell_type": "code",
   "execution_count": 7,
   "metadata": {},
   "outputs": [
    {
     "name": "stdout",
     "output_type": "stream",
     "text": [
      "+-----+--------------+-----+-------------+---------------+\n",
      "| Row | amp          | ch  | charge      | base          | \n",
      "+-----+--------------+-----+-------------+---------------+\n",
      "| 0   | -0.00278300f | 4   | -0.670000f  | 0.000252000f  | \n",
      "|     | -0.00201300f | 5   | 1.69200f    | 0.000177000f  | \n",
      "|     | -0.00229200f | 6   | -0.146000f  | -3.00000e-05f | \n",
      "|     | -0.00223200f | 7   | 0.266000f   | -5.70000e-05f | \n",
      "|     | -0.187804f   | 8   | -374.247f   | 4.20000e-05f  | \n",
      "|     | -0.109969f   | 9   | -266.063f   | -0.000263000f | \n",
      "|     | -0.00559500f | 10  | -1.47200f   | -0.00802200f  | \n",
      "|     | -0.00358000f | 11  | -3.12700f   | 0.000557000f  | \n",
      "|     | -0.00297400f | 12  | -0.873000f  | -0.00340700f  | \n",
      "|     | -0.00240600f | 13  | -0.417000f  | 0.000776000f  | \n",
      "|     | ...          | ... | ...         | ...           | \n",
      "+-----+--------------+-----+-------------+---------------+\n",
      "| 1   | -0.00265900f | 4   | -1.48400f   | 0.000331000f  | \n",
      "|     | -0.00353900f | 5   | 0.930000f   | 0.000309000f  | \n",
      "|     | -0.00241100f | 6   | -1.49900f   | 0.000230000f  | \n",
      "|     | -0.00220900f | 7   | 0.516000f   | -0.000243000f | \n",
      "|     | -0.190956f   | 8   | -525.583f   | -0.00324500f  | \n",
      "|     | -0.159751f   | 9   | -448.495f   | -1.20000e-05f | \n",
      "|     | -0.00458600f | 10  | 0.731000f   | -0.00835100f  | \n",
      "|     | -0.00238500f | 11  | -1.34600f   | 0.000172000f  | \n",
      "|     | -0.00566600f | 12  | -3.28500f   | -0.00313600f  | \n",
      "|     | -0.00204800f | 13  | 2.42100f    | 0.000168000f  | \n",
      "|     | ...          | ... | ...         | ...           | \n",
      "+-----+--------------+-----+-------------+---------------+\n",
      "| 2   | -0.193293f   | 4   | -500.861f   | 5.20000e-05f  | \n",
      "|     | -0.586097f   | 5   | -1377.67f   | 0.000500000f  | \n",
      "|     | -0.00250700f | 6   | -1.38500f   | 0.000160000f  | \n",
      "|     | -0.00237900f | 7   | 1.03300f    | -0.000165000f | \n",
      "|     | -0.0111280f  | 8   | -2.68500f   | 6.30000e-05f  | \n",
      "|     | -0.00822900f | 9   | 2.65900f    | -0.000719000f | \n",
      "|     | -0.00313300f | 10  | -1.92400f   | -0.00784100f  | \n",
      "|     | -0.00220800f | 11  | -0.681000f  | 9.80000e-05f  | \n",
      "|     | -0.0158340f  | 12  | -1.56000f   | -0.00363400f  | \n",
      "|     | -0.00264000f | 13  | -0.943000f  | 0.000660000f  | \n",
      "|     | ...          | ... | ...         | ...           | \n",
      "+-----+--------------+-----+-------------+---------------+\n",
      "| 3   | -0.00228600f | 4   | -0.0990000f | 0.000154000f  | \n",
      "|     | -0.00400900f | 5   | 0.145000f   | 0.000400000f  | \n",
      "|     | -0.239483f   | 6   | -524.044f   | -0.000137000f | \n",
      "|     | -0.602886f   | 7   | -1771.09f   | 0.000127000f  | \n",
      "|     | -0.0182010f  | 8   | 0.225000f   | -0.00106100f  | \n",
      "|     | -0.0113300f  | 9   | -0.828000f  | -0.000188000f | \n",
      "|     | -0.0117200f  | 10  | -0.322000f  | -0.00827200f  | \n",
      "|     | -0.00381100f | 11  | 1.01700f    | -0.000109000f | \n",
      "|     | -0.00339900f | 12  | 0.442000f   | -0.00365600f  | \n",
      "|     | -0.00518900f | 13  | -1.13300f   | 0.000923000f  | \n",
      "|     | ...          | ... | ...         | ...           | \n",
      "+-----+--------------+-----+-------------+---------------+\n",
      "| 4   | -0.00236600f | 4   | 2.02800f    | -0.000302000f | \n",
      "|     | -0.0210710f  | 5   | -0.918000f  | 0.000189000f  | \n",
      "|     | -0.00401100f | 6   | -0.115000f  | -4.10000e-05f | \n",
      "|     | -0.00270300f | 7   | -0.860000f  | 0.000130000f  | \n",
      "|     | -0.0192190f  | 8   | -7.89700f   | 0.000343000f  | \n",
      "|     | -0.00209100f | 9   | 0.405000f   | -0.000267000f | \n",
      "|     | -0.00294500f | 10  | -0.385000f  | -0.00817800f  | \n",
      "|     | -0.00322100f | 11  | -2.26000f   | 0.000260000f  | \n",
      "|     | -0.258935f   | 12  | -633.258f   | -0.00369500f  | \n",
      "|     | -0.283633f   | 13  | -673.377f   | 0.000612000f  | \n",
      "|     | ...          | ... | ...         | ...           | \n",
      "+-----+--------------+-----+-------------+---------------+\n",
      "| 5   | -0.00376800f | 4   | -1.37100f   | 0.000448000f  | \n",
      "|     | -0.00273400f | 5   | -2.46400f   | 0.000857000f  | \n",
      "|     | -0.00290400f | 6   | 1.84300f    | -0.000378000f | \n",
      "|     | -0.00260200f | 7   | -2.19300f   | 0.000377000f  | \n",
      "|     | -0.0140140f  | 8   | -1.56700f   | 0.000117000f  | \n",
      "|     | -0.00869600f | 9   | -2.02500f   | -0.000183000f | \n",
      "|     | -0.0745340f  | 10  | -184.459f   | -0.00807700f  | \n",
      "|     | -0.347058f   | 11  | -891.509f   | 0.000206000f  | \n",
      "|     | -0.00970800f | 12  | -1.56600f   | -0.00346600f  | \n",
      "|     | -0.00345500f | 13  | -0.794000f  | 0.000826000f  | \n",
      "|     | ...          | ... | ...         | ...           | \n",
      "+-----+--------------+-----+-------------+---------------+\n",
      "| 6   | -0.00296300f | 4   | -0.791000f  | 0.000274000f  | \n",
      "|     | -0.00463000f | 5   | -2.51900f   | 0.000785000f  | \n",
      "|     | -0.00678700f | 6   | -2.25800f   | 0.000421000f  | \n",
      "|     | -0.00517700f | 7   | -2.34200f   | 0.000387000f  | \n",
      "|     | -0.0109010f  | 8   | -1.37300f   | 0.000183000f  | \n",
      "|     | -0.00986400f | 9   | -1.95600f   | 6.70000e-05f  | \n",
      "|     | -0.00256100f | 10  | 2.47600f    | -0.00869000f  | \n",
      "|     | -0.00298800f | 11  | -0.682000f  | 3.60000e-05f  | \n",
      "|     | -0.168511f   | 12  | -414.401f   | -0.00345100f  | \n",
      "|     | -0.566872f   | 13  | -1635.60f   | 0.000718000f  | \n",
      "|     | ...          | ... | ...         | ...           | \n",
      "+-----+--------------+-----+-------------+---------------+\n",
      "| 7   | -0.00306400f | 4   | 0.583000f   | 1.60000e-05f  | \n",
      "|     | -0.00315400f | 5   | -0.568000f  | 0.000384000f  | \n",
      "|     | -0.00400000f | 6   | -2.42900f   | 0.000271000f  | \n",
      "|     | -0.00262500f | 7   | -0.0790000f | -7.40000e-05f | \n",
      "|     | -0.0228380f  | 8   | -8.07700f   | 0.000354000f  | \n",
      "|     | -0.0166150f  | 9   | -1.67700f   | -0.000159000f | \n",
      "|     | -0.00250100f | 10  | -0.833000f  | -0.00810900f  | \n",
      "|     | -0.00247000f | 11  | 0.768000f   | -0.000138000f | \n",
      "|     | -0.139719f   | 12  | -199.994f   | -0.00357100f  | \n",
      "|     | -0.196003f   | 13  | -557.519f   | 0.000701000f  | \n",
      "|     | ...          | ... | ...         | ...           | \n",
      "+-----+--------------+-----+-------------+---------------+\n",
      "| 8   | -0.00335800f | 4   | -0.298000f  | 0.000220000f  | \n",
      "|     | -0.00242100f | 5   | -0.429000f  | 0.000432000f  | \n",
      "|     | -0.00330500f | 6   | 2.17800f    | -0.000339000f | \n",
      "|     | -0.00374100f | 7   | -3.03800f   | 0.000543000f  | \n",
      "|     | -0.0107620f  | 8   | -1.58500f   | -6.50000e-05f | \n",
      "|     | -0.0168910f  | 9   | -1.82000f   | -0.000184000f | \n",
      "|     | -0.00460600f | 10  | -0.859000f  | -0.00812700f  | \n",
      "|     | -0.00251500f | 11  | -1.80500f   | 0.000392000f  | \n",
      "|     | -0.462858f   | 12  | -1050.56f   | -0.00748800f  | \n",
      "|     | -0.242398f   | 13  | -612.021f   | 0.000668000f  | \n",
      "|     | ...          | ... | ...         | ...           | \n",
      "+-----+--------------+-----+-------------+---------------+\n",
      "| 9   | -0.00293800f | 4   | -1.69800f   | 0.000422000f  | \n",
      "|     | -0.00286600f | 5   | 0.915000f   | 0.000201000f  | \n",
      "|     | -0.00273700f | 6   | -1.27900f   | 0.000106000f  | \n",
      "|     | -0.00312400f | 7   | -2.41200f   | 0.000302000f  | \n",
      "|     | -0.0181790f  | 8   | -2.47100f   | 0.000153000f  | \n",
      "|     | -0.00768400f | 9   | -3.28900f   | 0.000252000f  | \n",
      "|     | -0.238138f   | 10  | -699.156f   | -0.00782200f  | \n",
      "|     | -0.177254f   | 11  | -435.075f   | 5.60000e-05f  | \n",
      "|     | -0.00963700f | 12  | -1.78400f   | -0.00329200f  | \n",
      "|     | -0.00383200f | 13  | 0.855000f   | 0.000548000f  | \n",
      "|     | ...          | ... | ...         | ...           | \n",
      "+-----+--------------+-----+-------------+---------------+\n"
     ]
    }
   ],
   "source": [
    "d.Display({\"ch\", \"amp\", \"base\", \"charge\"}, 10).Print()"
   ]
  },
  {
   "cell_type": "code",
   "execution_count": 18,
   "metadata": {},
   "outputs": [
    {
     "data": {
      "text/plain": [
       "612"
      ]
     },
     "execution_count": 18,
     "metadata": {},
     "output_type": "execute_result"
    }
   ],
   "source": [
    "nchann = 12\n",
    "# Create a new TTree with the same structure as the original tree\n",
    "myFile = ROOT.TFile.Open(\"file.root\",\"RECREATE\")\n",
    "new_tree = ROOT.TTree(\"new_tree_name\", \"Description of new tree\")\n",
    "\n",
    "# Create a new variable to add to the new branch\n",
    "from array import array\n",
    "new_variable = array('f', [0])\n",
    "\n",
    "# Create a new branch in the new tree\n",
    "new_tree.Branch(\"selected\", new_variable, \"selected/D\")  # \"D\" specifies a double precision floating-point variable\n",
    "\n",
    "\n",
    "Q_lims = np.array([#-350, -550, -550, -800, \n",
    "                       -350, -600, 0, -600, \n",
    "                       0, -250, -250, -350, \n",
    "                       -350, -550, -550, -800])\n",
    "# Loop over the entries in the original tree\n",
    "for i_entry in range(tree.GetEntries()):\n",
    "    # Load the i-th entry\n",
    "    tree.GetEntry(i_entry)\n",
    "    tree_charges = getattr(tree, \"charge\")\n",
    "    tree_charges_arr = np.array([tree_charges[i] for i in range(nchann)])\n",
    "\n",
    "    new_var = (tree_charges_arr < Q_lims).sum()\n",
    "\n",
    "    \n",
    "    \n",
    "    # Set the new variable value\n",
    "    if (new_var>=3) & (new_var<=5):\n",
    "        new_variable = 1\n",
    "    else:\n",
    "        new_variable= 0\n",
    "\n",
    "    \n",
    "    # Fill the new tree with the current entry\n",
    "    new_tree.Fill()\n",
    "\n",
    "# Write the new tree to the file\n",
    "new_tree.Write()"
   ]
  },
  {
   "cell_type": "code",
   "execution_count": null,
   "metadata": {},
   "outputs": [
    {
     "ename": "",
     "evalue": "",
     "output_type": "error",
     "traceback": [
      "\u001b[1;31mThe Kernel crashed while executing code in the current cell or a previous cell. \n",
      "\u001b[1;31mPlease review the code in the cell(s) to identify a possible cause of the failure. \n",
      "\u001b[1;31mClick <a href='https://aka.ms/vscodeJupyterKernelCrash'>here</a> for more info. \n",
      "\u001b[1;31mView Jupyter <a href='command:jupyter.viewOutput'>log</a> for further details."
     ]
    }
   ],
   "source": [
    "new_tree.GetEntry(1)\n",
    "tree_charges = getattr(new_tree, \"selected\")\n",
    "tree_charges"
   ]
  },
  {
   "cell_type": "code",
   "execution_count": 14,
   "metadata": {},
   "outputs": [
    {
     "name": "stdout",
     "output_type": "stream",
     "text": [
      "Entry 0:\n",
      "    selected:  <cppyy.LowLevelView object at 0x14378a800>\n",
      "\n",
      "******************************************************************************\n",
      "*Tree    :new_tree_name: Description of new tree                                *\n",
      "*Entries :   100000 : Total =          402118 bytes  File  Size =       4693 *\n",
      "*        :          : Tree compression factor =  95.93                       *\n",
      "******************************************************************************\n",
      "*Br    0 :selected  : selected/I                                             *\n",
      "*Entries :   100000 : Total  Size=     401725 bytes  File Size  =       4181 *\n",
      "*Baskets :       13 : Basket Size=      32000 bytes  Compression=  95.93     *\n",
      "*............................................................................*\n"
     ]
    }
   ],
   "source": [
    "new_tree.GetEntry(0)\n",
    "print(f\"Entry {0}:\")\n",
    "# Loop over the branches and print their values\n",
    "for branch in new_tree.GetListOfBranches():\n",
    "    branch_name = branch.GetName()\n",
    "    #branch_value = getattr(tree, branch_name)\n",
    "    print(f\"    {branch_name}:  {branch_value}\")\n",
    "print() \n",
    "new_tree.Print()"
   ]
  },
  {
   "cell_type": "code",
   "execution_count": null,
   "metadata": {},
   "outputs": [],
   "source": [
    "d.GetColumnNames()"
   ]
  }
 ],
 "metadata": {
  "kernelspec": {
   "display_name": "Python 3",
   "language": "python",
   "name": "python3"
  },
  "language_info": {
   "codemirror_mode": {
    "name": "ipython",
    "version": 3
   },
   "file_extension": ".py",
   "mimetype": "text/x-python",
   "name": "python",
   "nbconvert_exporter": "python",
   "pygments_lexer": "ipython3",
   "version": "3.10.10"
  }
 },
 "nbformat": 4,
 "nbformat_minor": 2
}
