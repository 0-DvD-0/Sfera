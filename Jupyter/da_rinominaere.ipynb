{
 "cells": [
  {
   "cell_type": "code",
   "execution_count": 1,
   "metadata": {},
   "outputs": [
    {
     "name": "stdout",
     "output_type": "stream",
     "text": [
      "Welcome to JupyROOT 6.30/04\n"
     ]
    }
   ],
   "source": [
    "import ROOT as root\n",
    "import uproot\n",
    "import matplotlib.pyplot as plt\n",
    "import scipy as scp\n",
    "from scipy.integrate import trapezoid\n",
    "import numpy as np\n",
    "import awkward as ak"
   ]
  },
  {
   "cell_type": "code",
   "execution_count": 8,
   "metadata": {},
   "outputs": [
    {
     "name": "stdout",
     "output_type": "stream",
     "text": [
      "100000\n",
      "    ev:  0\n",
      "    nch:  0\n",
      "    ch:  <cppyy.LowLevelView object at 0x2a2090e30>\n",
      "    base:  <cppyy.LowLevelView object at 0x2a2090d50>\n",
      "    amp:  <cppyy.LowLevelView object at 0x2a2090f10>\n",
      "    charge:  <cppyy.LowLevelView object at 0x2a2090f80>\n",
      "    letime:  <cppyy.LowLevelView object at 0x2a2090ff0>\n",
      "    tetime:  <cppyy.LowLevelView object at 0x2a2091060>\n",
      "    ratecount:  <cppyy.LowLevelView object at 0x2a20910d0>\n",
      "    pshape:  <cppyy.LowLevelView object at 0x2a2091140>\n",
      "\n"
     ]
    }
   ],
   "source": [
    "f=root.TFile.Open(\"Dati/Run_Na_Couples_CDF20_Data_5_9_2024_Ascii.root\", \"READ\")\n",
    "myTree=f.Get(\"tree\")\n",
    "num_entries=myTree.GetEntries()\n",
    "print(num_entries)\n",
    "myTree.GetListOfBranches()\n",
    "for branch in myTree.GetListOfBranches():\n",
    "    branch_name = branch.GetName()\n",
    "    branch_value = getattr(myTree, branch_name)\n",
    "    print(f\"    {branch_name}:  {branch_value}\")\n",
    "print()"
   ]
  },
  {
   "cell_type": "code",
   "execution_count": 26,
   "metadata": {},
   "outputs": [
    {
     "data": {
      "text/plain": [
       "-0.7429999709129333"
      ]
     },
     "execution_count": 26,
     "metadata": {},
     "output_type": "execute_result"
    }
   ],
   "source": [
    "myTree.GetEntry(5)\n",
    "var=getattr(myTree, \"charge\")\n",
    "var[11]\n"
   ]
  },
  {
   "cell_type": "code",
   "execution_count": 3,
   "metadata": {},
   "outputs": [
    {
     "name": "stdout",
     "output_type": "stream",
     "text": [
      "Contents of the ROOT file:\n",
      "Name: tree, Class: TTree\n",
      "Name: tree, Class: TTree\n"
     ]
    }
   ],
   "source": [
    "keys = f.GetListOfKeys()\n",
    "print(\"Contents of the ROOT file:\")\n",
    "for key in keys:\n",
    "    obj = key.ReadObj()\n",
    "    name = key.GetName()\n",
    "    obj_class = obj.ClassName()\n",
    "    print(f\"Name: {name}, Class: {obj_class}\")\n"
   ]
  },
  {
   "cell_type": "code",
   "execution_count": 19,
   "metadata": {},
   "outputs": [
    {
     "name": "stdout",
     "output_type": "stream",
     "text": [
      "Entry 0:\n",
      "    ev:  1\n",
      "    nch:  12\n",
      "    ch:  <cppyy.LowLevelView object at 0x177f67b40>\n",
      "    base:  <cppyy.LowLevelView object at 0x29648c260>\n",
      "    amp:  <cppyy.LowLevelView object at 0x29648c7a0>\n",
      "    charge:  <cppyy.LowLevelView object at 0x29648cb20>\n",
      "    letime:  <cppyy.LowLevelView object at 0x29648cd50>\n",
      "    tetime:  <cppyy.LowLevelView object at 0x29648cdc0>\n",
      "    ratecount:  <cppyy.LowLevelView object at 0x29648ce30>\n",
      "    pshape:  <cppyy.LowLevelView object at 0x29648cea0>\n",
      "\n"
     ]
    }
   ],
   "source": [
    "myTree.GetEntry(0)\n",
    "print(f\"Entry {0}:\")\n",
    "# Loop over the branches and print their values\n",
    "for branch in myTree.GetListOfBranches():\n",
    "    branch_name = branch.GetName()\n",
    "    branch_value = getattr(myTree, branch_name)\n",
    "    print(f\"    {branch_name}:  {branch_value}\")\n",
    "print()  # Print an empty line for better readability"
   ]
  },
  {
   "cell_type": "code",
   "execution_count": 31,
   "metadata": {},
   "outputs": [
    {
     "name": "stdout",
     "output_type": "stream",
     "text": [
      "======> EVENT:0\n",
      " ev              = 1\n",
      " nch             = 12\n",
      " ch              = 4, \n",
      "                  5, 6, 7, 8, 9, 10, 11, 12, 13, 14, \n",
      "                  15\n",
      " base            = 0.000252, \n",
      "                  0.000177, -3e-05, -5.7e-05, 4.2e-05, -0.000263, \n",
      "                  -0.008022, 0.000557, -0.003407, 0.000776, 0.000197, \n",
      "                  0.003689\n",
      " amp             = -0.002783, \n",
      "                  -0.002013, -0.002292, -0.002232, -0.187804, -0.109969, \n",
      "                  -0.005595, -0.00358, -0.002974, -0.002406, -0.002415, \n",
      "                  -0.00321\n",
      " charge          = -0.67, \n",
      "                  1.692, -0.146, 0.266, -374.247, -266.063, \n",
      "                  -1.472, -3.127, -0.873, -0.417, 0.115, \n",
      "                  -2.717\n",
      " letime          = 229.705, \n",
      "                  43.383, 49.445, 117.022, 65.175, 95.25, \n",
      "                  34.197, 310.66, 191.497, 278.911, 138.233, \n",
      "                  81.37\n",
      " tetime          = 230.449, \n",
      "                  44.033, 50.484, 118.745, 154.882, 224.738, \n",
      "                  39.571, 312.199, 192.721, 279.616, 139.008, \n",
      "                  82.802\n",
      " ratecount       = 2231.49, \n",
      "                  2625.07, 1162, 3080.26, 1633.79, 3033.19, \n",
      "                  2200.39, 2399.11, 1539.86, 2403.52, 2536.87, \n",
      "                  2058.37\n",
      " pshape          = 0.000906, \n",
      "                  0.000625, -0.000728, -0.001034, -8.7e-05, 0.000746, \n",
      "                  0.000725, -0.000143, 0.000789, 0.000177, 0.000724, \n",
      "                  -9e-06, 0.000594, -0.000552, 5.2e-05, 0.001248, \n",
      "                  0.000994, 0.0014, 0.001346, 0.000192\n"
     ]
    }
   ],
   "source": [
    "myTree.Show()"
   ]
  },
  {
   "cell_type": "code",
   "execution_count": 5,
   "metadata": {},
   "outputs": [
    {
     "name": "stdout",
     "output_type": "stream",
     "text": [
      "+-----+-----+-------------+--------------+\n",
      "| Row | ch  | charge      | amp          | \n",
      "+-----+-----+-------------+--------------+\n",
      "| 0   | 4   | -0.670000f  | -0.00278300f | \n",
      "|     | 5   | 1.69200f    | -0.00201300f | \n",
      "|     | 6   | -0.146000f  | -0.00229200f | \n",
      "|     | 7   | 0.266000f   | -0.00223200f | \n",
      "|     | 8   | -374.247f   | -0.187804f   | \n",
      "|     | 9   | -266.063f   | -0.109969f   | \n",
      "|     | 10  | -1.47200f   | -0.00559500f | \n",
      "|     | 11  | -3.12700f   | -0.00358000f | \n",
      "|     | 12  | -0.873000f  | -0.00297400f | \n",
      "|     | 13  | -0.417000f  | -0.00240600f | \n",
      "|     | ... | ...         | ...          | \n",
      "+-----+-----+-------------+--------------+\n",
      "| 1   | 4   | -1.48400f   | -0.00265900f | \n",
      "|     | 5   | 0.930000f   | -0.00353900f | \n",
      "|     | 6   | -1.49900f   | -0.00241100f | \n",
      "|     | 7   | 0.516000f   | -0.00220900f | \n",
      "|     | 8   | -525.583f   | -0.190956f   | \n",
      "|     | 9   | -448.495f   | -0.159751f   | \n",
      "|     | 10  | 0.731000f   | -0.00458600f | \n",
      "|     | 11  | -1.34600f   | -0.00238500f | \n",
      "|     | 12  | -3.28500f   | -0.00566600f | \n",
      "|     | 13  | 2.42100f    | -0.00204800f | \n",
      "|     | ... | ...         | ...          | \n",
      "+-----+-----+-------------+--------------+\n",
      "| 2   | 4   | -500.861f   | -0.193293f   | \n",
      "|     | 5   | -1377.67f   | -0.586097f   | \n",
      "|     | 6   | -1.38500f   | -0.00250700f | \n",
      "|     | 7   | 1.03300f    | -0.00237900f | \n",
      "|     | 8   | -2.68500f   | -0.0111280f  | \n",
      "|     | 9   | 2.65900f    | -0.00822900f | \n",
      "|     | 10  | -1.92400f   | -0.00313300f | \n",
      "|     | 11  | -0.681000f  | -0.00220800f | \n",
      "|     | 12  | -1.56000f   | -0.0158340f  | \n",
      "|     | 13  | -0.943000f  | -0.00264000f | \n",
      "|     | ... | ...         | ...          | \n",
      "+-----+-----+-------------+--------------+\n",
      "| 3   | 4   | -0.0990000f | -0.00228600f | \n",
      "|     | 5   | 0.145000f   | -0.00400900f | \n",
      "|     | 6   | -524.044f   | -0.239483f   | \n",
      "|     | 7   | -1771.09f   | -0.602886f   | \n",
      "|     | 8   | 0.225000f   | -0.0182010f  | \n",
      "|     | 9   | -0.828000f  | -0.0113300f  | \n",
      "|     | 10  | -0.322000f  | -0.0117200f  | \n",
      "|     | 11  | 1.01700f    | -0.00381100f | \n",
      "|     | 12  | 0.442000f   | -0.00339900f | \n",
      "|     | 13  | -1.13300f   | -0.00518900f | \n",
      "|     | ... | ...         | ...          | \n",
      "+-----+-----+-------------+--------------+\n",
      "| 4   | 4   | 2.02800f    | -0.00236600f | \n",
      "|     | 5   | -0.918000f  | -0.0210710f  | \n",
      "|     | 6   | -0.115000f  | -0.00401100f | \n",
      "|     | 7   | -0.860000f  | -0.00270300f | \n",
      "|     | 8   | -7.89700f   | -0.0192190f  | \n",
      "|     | 9   | 0.405000f   | -0.00209100f | \n",
      "|     | 10  | -0.385000f  | -0.00294500f | \n",
      "|     | 11  | -2.26000f   | -0.00322100f | \n",
      "|     | 12  | -633.258f   | -0.258935f   | \n",
      "|     | 13  | -673.377f   | -0.283633f   | \n",
      "|     | ... | ...         | ...          | \n",
      "+-----+-----+-------------+--------------+\n"
     ]
    }
   ],
   "source": [
    "d = root.RDataFrame(\"tree\", \"Dati/Run_Na_Couples_CDF20_Data_5_9_2024_Ascii.root\")\n",
    "d.GetColumnNames()\n",
    "d.Display({\"ch\", \"amp\", \"charge\"}).Print()"
   ]
  },
  {
   "cell_type": "code",
   "execution_count": 48,
   "metadata": {},
   "outputs": [
    {
     "ename": "AbortSignal",
     "evalue": "const ULong64_t& ROOT::RDF::RResultPtr<ULong64_t>::GetValue() =>\n    AbortSignal: abort from C++; program state was reset",
     "output_type": "error",
     "traceback": [
      "\u001b[0;31m---------------------------------------------------------------------------\u001b[0m",
      "\u001b[0;31mAbortSignal\u001b[0m                               Traceback (most recent call last)",
      "Cell \u001b[0;32mIn[48], line 5\u001b[0m\n\u001b[1;32m      3\u001b[0m cutb1 \u001b[38;5;241m=\u001b[39m d\u001b[38;5;241m.\u001b[39mFilter(\u001b[38;5;124m'\u001b[39m\u001b[38;5;124mamp>0.\u001b[39m\u001b[38;5;124m'\u001b[39m)\u001b[38;5;241m.\u001b[39mCount()\n\u001b[1;32m      4\u001b[0m \u001b[38;5;66;03m#cutb1.Display({\"ev\"}).Print()\u001b[39;00m\n\u001b[0;32m----> 5\u001b[0m \u001b[38;5;28mprint\u001b[39m(\u001b[43mcutb1\u001b[49m\u001b[38;5;241;43m.\u001b[39;49m\u001b[43mGetValue\u001b[49m\u001b[43m(\u001b[49m\u001b[43m)\u001b[49m)\n",
      "\u001b[0;31mAbortSignal\u001b[0m: const ULong64_t& ROOT::RDF::RResultPtr<ULong64_t>::GetValue() =>\n    AbortSignal: abort from C++; program state was reset"
     ]
    },
    {
     "name": "stdout",
     "output_type": "stream",
     "text": [
      "[/Users/martinachirico/root_build/lib/libcppyy_backend3_10.so] (anonymous namespace)::TExceptionHandlerImp::HandleException(int) (no debug info)\n",
      "[/Users/martinachirico/root_build/lib/libCore.so] TUnixSystem::DispatchSignals(ESignals) (no debug info)\n",
      "[/usr/lib/system/libsystem_platform.dylib] _sigtramp (no debug info)\n",
      "[/usr/lib/system/libsystem_pthread.dylib] pthread_kill (no debug info)\n",
      "[/usr/lib/system/libsystem_c.dylib] abort (no debug info)\n",
      "[/usr/lib/libc++abi.dylib] __cxxabiv1::__aligned_malloc_with_fallback(unsigned long) (no debug info)\n",
      "[/usr/lib/libc++abi.dylib] demangling_terminate_handler() (no debug info)\n",
      "[/usr/lib/libobjc.A.dylib] _objc_terminate() (no debug info)\n",
      "[/usr/lib/libc++abi.dylib] std::__terminate(void (*)()) (no debug info)\n",
      "[/usr/lib/libc++abi.dylib] __cxa_get_exception_ptr (no debug info)\n",
      "[/usr/lib/libc++abi.dylib] __cxxabiv1::exception_cleanup_func(_Unwind_Reason_Code, _Unwind_Exception*) (no debug info)\n",
      "[/Users/martinachirico/root_build/lib/libROOTDataFrame.so] ROOT::Internal::RDF::InterpreterCalc(std::__1::basic_string<char, std::__1::char_traits<char>, std::__1::allocator<char>> const&, std::__1::basic_string<char, std::__1::char_traits<char>, std::__1::allocator<char>> const&) (no debug info)\n",
      "[/Users/martinachirico/root_build/lib/libROOTDataFrame.so] ROOT::Detail::RDF::RLoopManager::Jit() (no debug info)\n",
      "[/Users/martinachirico/root_build/lib/libROOTDataFrame.so] ROOT::Detail::RDF::RLoopManager::Run(bool) (no debug info)\n",
      "[<unknown binary>] (no debug info)\n",
      "[<unknown binary>] (no debug info)\n",
      "[<unknown binary>] (no debug info)\n",
      "[<unknown binary>] (no debug info)\n",
      "[/Users/martinachirico/root_build/lib/libcppyy_backend3_10.so] WrapperCall(long, unsigned long, void*, void*, void*) (no debug info)\n",
      "[/Users/martinachirico/root_build/lib/libcppyy_backend3_10.so] Cppyy::CallR(long, void*, unsigned long, void*) (no debug info)\n",
      "[/Users/martinachirico/root_build/lib/libcppyy3_10.so] CPyCppyy::(anonymous namespace)::ULongLongRefExecutor::Execute(long, void*, CPyCppyy::CallContext*) (no debug info)\n",
      "[/Users/martinachirico/root_build/lib/libcppyy3_10.so] CPyCppyy::CPPMethod::ExecuteFast(void*, long, CPyCppyy::CallContext*) (no debug info)\n",
      "[/Users/martinachirico/root_build/lib/libcppyy3_10.so] CPyCppyy::CPPMethod::ExecuteProtected(void*, long, CPyCppyy::CallContext*) (no debug info)\n",
      "[/Users/martinachirico/root_build/lib/libcppyy3_10.so] CPyCppyy::CPPMethod::Call(CPyCppyy::CPPInstance*&, _object*, _object*, CPyCppyy::CallContext*) (no debug info)\n",
      "[/Users/martinachirico/root_build/lib/libcppyy3_10.so] CPyCppyy::(anonymous namespace)::mp_call(CPyCppyy::CPPOverload*, _object*, _object*) (no debug info)\n",
      "[/Users/martinachirico/miniconda3/bin/python3.10] _PyEval_EvalFrameDefault (no debug info)\n",
      "[/Users/martinachirico/miniconda3/bin/python3.10] _PyEval_Vector (no debug info)\n",
      "[/Users/martinachirico/miniconda3/bin/python3.10] builtin_exec (no debug info)\n",
      "[/Users/martinachirico/miniconda3/bin/python3.10] cfunction_vectorcall_FASTCALL (no debug info)\n",
      "[/Users/martinachirico/miniconda3/bin/python3.10] call_function (no debug info)\n",
      "[/Users/martinachirico/miniconda3/bin/python3.10] _PyEval_EvalFrameDefault (no debug info)\n",
      "[/Users/martinachirico/miniconda3/bin/python3.10] gen_send_ex2 (no debug info)\n",
      "[/Users/martinachirico/miniconda3/bin/python3.10] _PyEval_EvalFrameDefault (no debug info)\n",
      "[/Users/martinachirico/miniconda3/bin/python3.10] gen_send_ex2 (no debug info)\n",
      "[/Users/martinachirico/miniconda3/bin/python3.10] _PyEval_EvalFrameDefault (no debug info)\n",
      "[/Users/martinachirico/miniconda3/bin/python3.10] gen_send_ex2 (no debug info)\n",
      "[/Users/martinachirico/miniconda3/bin/python3.10] gen_send (no debug info)\n",
      "[/Users/martinachirico/miniconda3/bin/python3.10] method_vectorcall_O (no debug info)\n",
      "[/Users/martinachirico/miniconda3/bin/python3.10] _PyEval_EvalFrameDefault (no debug info)\n",
      "[/Users/martinachirico/miniconda3/bin/python3.10] _PyFunction_Vectorcall (no debug info)\n",
      "[/Users/martinachirico/miniconda3/bin/python3.10] call_function (no debug info)\n",
      "[/Users/martinachirico/miniconda3/bin/python3.10] _PyEval_EvalFrameDefault (no debug info)\n",
      "[/Users/martinachirico/miniconda3/bin/python3.10] _PyFunction_Vectorcall (no debug info)\n",
      "[/Users/martinachirico/miniconda3/bin/python3.10] _PyEval_EvalFrameDefault (no debug info)\n",
      "[/Users/martinachirico/miniconda3/bin/python3.10] _PyFunction_Vectorcall (no debug info)\n",
      "[/Users/martinachirico/miniconda3/bin/python3.10] method_vectorcall (no debug info)\n",
      "[/Users/martinachirico/miniconda3/bin/python3.10] _PyEval_EvalFrameDefault (no debug info)\n",
      "[/Users/martinachirico/miniconda3/bin/python3.10] _PyFunction_Vectorcall (no debug info)\n",
      "[/Users/martinachirico/miniconda3/bin/python3.10] method_vectorcall (no debug info)\n",
      "[/Users/martinachirico/miniconda3/bin/python3.10] call_function (no debug info)\n",
      "[/Users/martinachirico/miniconda3/bin/python3.10] _PyEval_EvalFrameDefault (no debug info)\n",
      "[/Users/martinachirico/miniconda3/bin/python3.10] gen_send_ex2 (no debug info)\n",
      "[/Users/martinachirico/miniconda3/bin/python3.10] _PyEval_EvalFrameDefault (no debug info)\n",
      "[/Users/martinachirico/miniconda3/bin/python3.10] gen_send_ex2 (no debug info)\n",
      "[/Users/martinachirico/miniconda3/bin/python3.10] _PyEval_EvalFrameDefault (no debug info)\n",
      "[/Users/martinachirico/miniconda3/bin/python3.10] gen_send_ex2 (no debug info)\n",
      "[/Users/martinachirico/miniconda3/bin/python3.10] _PyEval_EvalFrameDefault (no debug info)\n",
      "[/Users/martinachirico/miniconda3/bin/python3.10] gen_send_ex2 (no debug info)\n",
      "[/Users/martinachirico/miniconda3/bin/python3.10] _PyEval_EvalFrameDefault (no debug info)\n",
      "[/Users/martinachirico/miniconda3/bin/python3.10] gen_send_ex2 (no debug info)\n",
      "[/Users/martinachirico/miniconda3/lib/python3.10/lib-dynload/_asyncio.cpython-310-darwin.so] task_step_impl (no debug info)\n",
      "[/Users/martinachirico/miniconda3/lib/python3.10/lib-dynload/_asyncio.cpython-310-darwin.so] task_step (no debug info)\n",
      "[/Users/martinachirico/miniconda3/lib/python3.10/lib-dynload/_asyncio.cpython-310-darwin.so] task_wakeup (no debug info)\n",
      "[/Users/martinachirico/miniconda3/bin/python3.10] cfunction_vectorcall_O (no debug info)\n",
      "[/Users/martinachirico/miniconda3/bin/python3.10] _PyObject_VectorcallTstate.4686 (no debug info)\n",
      "[/Users/martinachirico/miniconda3/bin/python3.10] context_run (no debug info)\n",
      "[/Users/martinachirico/miniconda3/bin/python3.10] cfunction_vectorcall_FASTCALL_KEYWORDS (no debug info)\n",
      "[/Users/martinachirico/miniconda3/bin/python3.10] _PyEval_EvalFrameDefault (no debug info)\n",
      "[/Users/martinachirico/miniconda3/bin/python3.10] _PyFunction_Vectorcall (no debug info)\n",
      "[/Users/martinachirico/miniconda3/bin/python3.10] _PyEval_EvalFrameDefault (no debug info)\n",
      "[/Users/martinachirico/miniconda3/bin/python3.10] _PyFunction_Vectorcall (no debug info)\n",
      "[/Users/martinachirico/miniconda3/bin/python3.10] _PyEval_EvalFrameDefault (no debug info)\n",
      "[/Users/martinachirico/miniconda3/bin/python3.10] _PyFunction_Vectorcall (no debug info)\n",
      "[/Users/martinachirico/miniconda3/bin/python3.10] _PyEval_EvalFrameDefault (no debug info)\n",
      "[/Users/martinachirico/miniconda3/bin/python3.10] _PyFunction_Vectorcall (no debug info)\n",
      "[/Users/martinachirico/miniconda3/bin/python3.10] _PyEval_EvalFrameDefault (no debug info)\n",
      "[/Users/martinachirico/miniconda3/bin/python3.10] _PyFunction_Vectorcall (no debug info)\n",
      "[/Users/martinachirico/miniconda3/bin/python3.10] _PyEval_EvalFrameDefault (no debug info)\n",
      "[/Users/martinachirico/miniconda3/bin/python3.10] _PyFunction_Vectorcall (no debug info)\n",
      "[/Users/martinachirico/miniconda3/bin/python3.10] method_vectorcall (no debug info)\n",
      "[/Users/martinachirico/miniconda3/bin/python3.10] _PyEval_EvalFrameDefault (no debug info)\n",
      "[/Users/martinachirico/miniconda3/bin/python3.10] _PyEval_Vector (no debug info)\n",
      "[/Users/martinachirico/miniconda3/bin/python3.10] builtin_exec (no debug info)\n",
      "[/Users/martinachirico/miniconda3/bin/python3.10] cfunction_vectorcall_FASTCALL (no debug info)\n",
      "[/Users/martinachirico/miniconda3/bin/python3.10] call_function (no debug info)\n",
      "[/Users/martinachirico/miniconda3/bin/python3.10] _PyEval_EvalFrameDefault (no debug info)\n",
      "[/Users/martinachirico/miniconda3/bin/python3.10] _PyFunction_Vectorcall (no debug info)\n",
      "[/Users/martinachirico/miniconda3/bin/python3.10] call_function (no debug info)\n",
      "[/Users/martinachirico/miniconda3/bin/python3.10] _PyEval_EvalFrameDefault (no debug info)\n",
      "[/Users/martinachirico/miniconda3/bin/python3.10] _PyFunction_Vectorcall (no debug info)\n",
      "[/Users/martinachirico/miniconda3/bin/python3.10] pymain_run_module (no debug info)\n",
      "[/Users/martinachirico/miniconda3/bin/python3.10] pymain_run_python (no debug info)\n",
      "[/Users/martinachirico/miniconda3/bin/python3.10] Py_RunMain (no debug info)\n",
      "[/Users/martinachirico/miniconda3/bin/python3.10] main (no debug info)\n",
      "[/usr/lib/dyld] start (no debug info)\n"
     ]
    },
    {
     "name": "stderr",
     "output_type": "stream",
     "text": [
      "In module 'ROOTDataFrame':\n",
      "/Users/martinachirico/root_build/include/ROOT/RDF/InterfaceUtils.hxx:312:4: error: static_assert failed due to requirement 'std::is_convertible<ROOT::VecOps::RVec<int>, bool>::value' \"filter expression returns a type that is not convertible to bool\"\n",
      "   static_assert(std::is_convertible<FilterRet_t, bool>::value,\n",
      "   ^             ~~~~~~~~~~~~~~~~~~~~~~~~~~~~~~~~~~~~~~~~~~~~~\n",
      "/Users/martinachirico/root_build/include/ROOT/RDF/InterfaceUtils.hxx:450:4: note: in instantiation of function template specialization 'ROOT::Internal::RDF::CheckFilter<ROOT::VecOps::RVec<int> (ROOT::VecOps::RVec<float> &)>' requested here\n",
      "   CheckFilter(f);\n",
      "   ^\n",
      "input_line_160:2:23: note: in instantiation of function template specialization 'ROOT::Internal::RDF::JitFilterHelper<ROOT::VecOps::RVec<int> (&)(ROOT::VecOps::RVec<float> &), ROOT::Detail::RDF::RNodeBase>' requested here\n",
      " ROOT::Internal::RDF::JitFilterHelper(R_rdf::func7, new const char*[1]{\"amp\"}, 1, \"\", reinterpret_cast<std::weak_ptr<ROOT::Detail::RDF::RJittedFilter>*>(0x2ab676490), reinterpret_cast<std::shared_ptr<ROOT::Detail::RDF::RNodeBase>*>(0x2ab663620),reinterpret_cast<ROOT::Internal::RDF::RColumnRegister*>(0x2ab6757e0));\n",
      "                      ^\n",
      "In module 'ROOTDataFrame':\n",
      "/Users/martinachirico/root_build/include/ROOT/RDF/RFilter.hxx:112:14: error: no viable conversion from returned value of type 'ROOT::VecOps::RVec<int>' to function return type 'bool'\n",
      "      return fFilter(fValues[slot][S]->template Get<ColTypes>(entry)...);\n",
      "             ^~~~~~~~~~~~~~~~~~~~~~~~~~~~~~~~~~~~~~~~~~~~~~~~~~~~~~~~~~~\n",
      "/Users/martinachirico/root_build/include/ROOT/RDF/RFilter.hxx:99:27: note: in instantiation of function template specialization 'ROOT::Detail::RDF::RFilter<ROOT::VecOps::RVec<int> (*)(ROOT::VecOps::RVec<float> &), ROOT::Detail::RDF::RNodeBase>::CheckFilterHelper<ROOT::VecOps::RVec<float> , 0UL>' requested here\n",
      "            auto passed = CheckFilterHelper(slot, entry, ColumnTypes_t{}, TypeInd_t{});\n",
      "                          ^\n",
      "/Users/martinachirico/root_build/include/ROOT/RDF/RFilter.hxx:72:4: note: in instantiation of member function 'ROOT::Detail::RDF::RFilter<ROOT::VecOps::RVec<int> (*)(ROOT::VecOps::RVec<float> &), ROOT::Detail::RDF::RNodeBase>::CheckFilters' requested here\n",
      "   RFilter(FilterF f, const ROOT::RDF::ColumnNames_t &columns, std::shared_ptr<PrevNode_t> pd,\n",
      "   ^\n",
      "/Users/martinachirico/root_build/include/ROOT/RDF/InterfaceUtils.hxx:459:40: note: in instantiation of member function 'ROOT::Detail::RDF::RFilter<ROOT::VecOps::RVec<int> (*)(ROOT::VecOps::RVec<float> &), ROOT::Detail::RDF::RNodeBase>::RFilter' requested here\n",
      "      std::unique_ptr<RFilterBase>(new F_t(std::forward<F>(f), cols, *prevNodeOnHeap, *colRegister, name)));\n",
      "                                       ^\n",
      "input_line_160:2:23: note: in instantiation of function template specialization 'ROOT::Internal::RDF::JitFilterHelper<ROOT::VecOps::RVec<int> (&)(ROOT::VecOps::RVec<float> &), ROOT::Detail::RDF::RNodeBase>' requested here\n",
      " ROOT::Internal::RDF::JitFilterHelper(R_rdf::func7, new const char*[1]{\"amp\"}, 1, \"\", reinterpret_cast<std::weak_ptr<ROOT::Detail::RDF::RJittedFilter>*>(0x2ab676490), reinterpret_cast<std::shared_ptr<ROOT::Detail::RDF::RNodeBase>*>(0x2ab663620),reinterpret_cast<ROOT::Internal::RDF::RColumnRegister*>(0x2ab6757e0));\n",
      "                      ^\n",
      "/Users/martinachirico/root_build/include/ROOT/RVec.hxx:1550:4: note: candidate template ignored: could not match 'RVec<type-parameter-0-0>' against 'bool'\n",
      "   operator RVec<U>() const\n",
      "   ^\n",
      "/Users/martinachirico/root_build/include/ROOT/RVec.hxx:1280:4: note: candidate template ignored: could not match 'RVecN<type-parameter-0-0, N>' against 'bool'\n",
      "   operator RVecN<U, M>() const\n",
      "   ^\n",
      "libc++abi: terminating due to uncaught exception of type std::runtime_error: \n",
      "An error occurred during just-in-time compilation in RLoopManager::Run. The lines above might indicate the cause of the crash\n",
      "All RDF objects that have not run their event loop yet should be considered in an invalid state.\n",
      "\n",
      " *** Break *** abort\n"
     ]
    }
   ],
   "source": [
    "cutb1 = lambda tree:tree.getattr(tree, \"charge\")< -100\n",
    "\n",
    "cutb1 = d.Filter('amp>0.').Count()\n",
    "#cutb1.Display({\"ev\"}).Print()\n",
    "print(cutb1.GetValue())"
   ]
  },
  {
   "cell_type": "code",
   "execution_count": null,
   "metadata": {},
   "outputs": [],
   "source": []
  }
 ],
 "metadata": {
  "kernelspec": {
   "display_name": "base",
   "language": "python",
   "name": "python3"
  },
  "language_info": {
   "codemirror_mode": {
    "name": "ipython",
    "version": 3
   },
   "file_extension": ".py",
   "mimetype": "text/x-python",
   "name": "python",
   "nbconvert_exporter": "python",
   "pygments_lexer": "ipython3",
   "version": "3.10.10"
  }
 },
 "nbformat": 4,
 "nbformat_minor": 2
}
