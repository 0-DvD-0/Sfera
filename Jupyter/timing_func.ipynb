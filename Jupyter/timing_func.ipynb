{
 "cells": [
  {
   "cell_type": "code",
   "execution_count": 1,
   "metadata": {},
   "outputs": [
    {
     "name": "stdout",
     "output_type": "stream",
     "text": [
      "Welcome to JupyROOT 6.30/06\n"
     ]
    }
   ],
   "source": [
    "import ROOT\n",
    "import uproot\n",
    "import matplotlib.pyplot as plt\n",
    "import numpy as np\n",
    "import awkward as ak\n",
    "from sklearn.preprocessing import normalize as norm"
   ]
  },
  {
   "cell_type": "code",
   "execution_count": null,
   "metadata": {},
   "outputs": [],
   "source": [
    "def times_from_waveforms(wf_narr, n_conv, threshold):\n",
    "\n",
    "    lenghts = []\n",
    "    wf_arr = []\n",
    "\n",
    "    for evt in range(len(wf_narr)):\n",
    "        for ch in range(len(wf_narr[evt])):\n",
    "            wf_arr.append(wf_narr[evt][ch])\n",
    "        lenghts.append(len(wf_narr[evt]))\n",
    "\n",
    "\n",
    "    wf_arr = np.array(wf_arr)\n",
    "    wf_arr = -norm(-np.array(wf_arr), norm = \"max\", axis = 1, copy = True, return_norm = False)\n",
    "\n",
    "    ledges = np.zeros(wf_arr.shape[0])\n",
    "\n",
    "\n",
    "    for evt in range(len(wf_arr)):\n",
    "\n",
    "        bsl = wf_arr[evt][0:32].mean()\n",
    "        wf_arr[evt] = np.convolve(wf_arr[evt], [1/n_conv] * n_conv, mode = \"same\") - bsl\n",
    "\n",
    "\n",
    "        ledges[evt] = np.where(np.diff(np.sign(wf_arr[evt] - threshold)))[0][0]\n",
    "\n",
    "        \n",
    "\n",
    "        #plt.plot(range(1024), wf_arr[evt])\n",
    "        #plt.plot([ledges[evt]] * 2, [ -1, 0])\n",
    "\n",
    "\n",
    "    ledg_arr = []\n",
    "    k = 0\n",
    "    for i in range(len(lenghts)):\n",
    "        tmp_list = []\n",
    "        for j in range(lenghts[i]):\n",
    "            tmp_list.append(ledges[k])\n",
    "            k += 1\n",
    "        ledg_arr.append(tmp_list)\n",
    "\n",
    "\n",
    "    return ledg_arr\n",
    "\n"
   ]
  }
 ],
 "metadata": {
  "kernelspec": {
   "display_name": "Python 3",
   "language": "python",
   "name": "python3"
  },
  "language_info": {
   "codemirror_mode": {
    "name": "ipython",
    "version": 3
   },
   "file_extension": ".py",
   "mimetype": "text/x-python",
   "name": "python",
   "nbconvert_exporter": "python",
   "pygments_lexer": "ipython3",
   "version": "3.9.6"
  }
 },
 "nbformat": 4,
 "nbformat_minor": 2
}
