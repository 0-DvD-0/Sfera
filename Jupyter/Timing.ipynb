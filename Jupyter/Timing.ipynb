{
 "cells": [
  {
   "cell_type": "code",
   "execution_count": 1,
   "metadata": {},
   "outputs": [],
   "source": [
    "import matplotlib.pyplot as plt\n",
    "import numpy as np\n",
    "from lmfit.models import LinearModel\n",
    "import pandas as pd\n",
    "\n",
    "#Orthogonal channels: 0  1  2  3  4  5  6  7 \n",
    "#                     8  9  10 11 12 13 14 15  \n",
    "\n",
    "#Ok couples: 0-8, 2-10, 3-11, 7-15\n"
   ]
  },
  {
   "cell_type": "code",
   "execution_count": 2,
   "metadata": {},
   "outputs": [
    {
     "name": "stderr",
     "output_type": "stream",
     "text": [
      "/var/folders/0y/k6xzqpg904jd8jnjbgq30b4w0000gn/T/ipykernel_2874/2493304013.py:6: FutureWarning: The 'delim_whitespace' keyword in pd.read_csv is deprecated and will be removed in a future version. Use ``sep='\\s+'`` instead\n",
      "  df = pd.read_csv(PATH, comment = \"=\", usecols = [0, 1, 4, 5],\n"
     ]
    },
    {
     "name": "stdout",
     "output_type": "stream",
     "text": [
      "          Ch_Nb  EvID   Charge     LEdge\n",
      "0             0     1   -1.806  1676.739\n",
      "1             2     1   -4.085  1333.858\n",
      "2             3     1   -6.692   963.534\n",
      "3             4     1 -332.808   552.179\n",
      "4             5     1   -5.529  1386.652\n",
      "...         ...   ...      ...       ...\n",
      "10999995      8    64   -7.291   115.184\n",
      "10999996     10    64   16.458     4.029\n",
      "10999997     11    64   -6.958  1871.864\n",
      "10999998     14    64  -11.191   861.484\n",
      "10999999     15    64  -35.038  1462.715\n",
      "\n",
      "[11000000 rows x 4 columns]\n"
     ]
    }
   ],
   "source": [
    "PATH = \"../Dati/30-04/Run_chall_Na_data_Measurements_Only_4_30_2024.dat\"\n",
    "\n",
    " \n",
    "try:\n",
    "    # Assuming data is in a structured format like CSV or similar\n",
    "    df = pd.read_csv(PATH, comment = \"=\", usecols = [0, 1, 4, 5],\n",
    "                     names = (\"Ch_Nb\", \"EvID\", \"Charge\", \"LEdge\"),\n",
    "                     header = None, delim_whitespace = True)\n",
    "    # Process the DataFrame\n",
    "    print(df)\n",
    " \n",
    "except FileNotFoundError:\n",
    "    print(f\"File '{PATH}' not found.\")\n",
    "except Exception as e:\n",
    "    print(f\"An error occurred: {e}\")"
   ]
  },
  {
   "cell_type": "code",
   "execution_count": 68,
   "metadata": {},
   "outputs": [
    {
     "name": "stdout",
     "output_type": "stream",
     "text": [
      "9369\n",
      "11632\n",
      "15950\n",
      "30831\n",
      "31379\n",
      "31491\n",
      "48739\n",
      "58296\n",
      "64745\n",
      "76996\n",
      "77448\n",
      "78573\n",
      "81738\n",
      "81816\n",
      "86619\n",
      "93475\n",
      "132478\n",
      "149257\n",
      "155558\n",
      "178489\n",
      "185644\n",
      "187962\n",
      "190164\n",
      "199731\n",
      "202347\n",
      "212711\n",
      "233202\n",
      "250788\n",
      "279638\n",
      "285676\n",
      "290321\n",
      "291535\n",
      "306628\n",
      "306950\n",
      "307095\n",
      "336071\n",
      "347111\n",
      "352600\n",
      "353277\n",
      "373651\n",
      "391450\n",
      "393784\n",
      "399422\n",
      "400272\n",
      "401841\n",
      "408540\n"
     ]
    },
    {
     "ename": "KeyboardInterrupt",
     "evalue": "",
     "output_type": "error",
     "traceback": [
      "\u001b[0;31m---------------------------------------------------------------------------\u001b[0m",
      "\u001b[0;31mKeyboardInterrupt\u001b[0m                         Traceback (most recent call last)",
      "Cell \u001b[0;32mIn[68], line 14\u001b[0m\n\u001b[1;32m      8\u001b[0m \u001b[38;5;28;01mfor\u001b[39;00m group_name, group_data \u001b[38;5;129;01min\u001b[39;00m grouped:\n\u001b[1;32m      9\u001b[0m     \u001b[38;5;66;03m# Perform your action on each group\u001b[39;00m\n\u001b[1;32m     10\u001b[0m     \u001b[38;5;66;03m#print(\"Group:\", group_name)\u001b[39;00m\n\u001b[1;32m     11\u001b[0m     \u001b[38;5;66;03m#print(group_data)\u001b[39;00m\n\u001b[1;32m     12\u001b[0m     \u001b[38;5;66;03m# Your action goes here\u001b[39;00m\n\u001b[1;32m     13\u001b[0m     energies \u001b[38;5;241m=\u001b[39m group_data[\u001b[38;5;124m\"\u001b[39m\u001b[38;5;124mCharge\u001b[39m\u001b[38;5;124m\"\u001b[39m]\u001b[38;5;241m.\u001b[39mto_numpy() \u001b[38;5;241m*\u001b[39m pC_to_eV\n\u001b[0;32m---> 14\u001b[0m     ledges   \u001b[38;5;241m=\u001b[39m \u001b[43mgroup_data\u001b[49m\u001b[43m[\u001b[49m\u001b[38;5;124;43m\"\u001b[39;49m\u001b[38;5;124;43mLEdge\u001b[39;49m\u001b[38;5;124;43m\"\u001b[39;49m\u001b[43m]\u001b[49m\u001b[38;5;241;43m.\u001b[39;49m\u001b[43mto_numpy\u001b[49m\u001b[43m(\u001b[49m\u001b[43m)\u001b[49m\n\u001b[1;32m     15\u001b[0m     Na \u001b[38;5;241m=\u001b[39m np\u001b[38;5;241m.\u001b[39mlogical_and(energies \u001b[38;5;241m<\u001b[39m \u001b[38;5;241m1276\u001b[39m \u001b[38;5;241m*\u001b[39m \u001b[38;5;241m1.05\u001b[39m, energies \u001b[38;5;241m>\u001b[39m \u001b[38;5;241m1276\u001b[39m \u001b[38;5;241m*\u001b[39m \u001b[38;5;241m0.95\u001b[39m)\n\u001b[1;32m     16\u001b[0m     i \u001b[38;5;241m=\u001b[39m i \u001b[38;5;241m+\u001b[39m \u001b[38;5;241m1\u001b[39m\n",
      "File \u001b[0;32m~/Library/Python/3.9/lib/python/site-packages/pandas/core/base.py:636\u001b[0m, in \u001b[0;36mIndexOpsMixin.to_numpy\u001b[0;34m(self, dtype, copy, na_value, **kwargs)\u001b[0m\n\u001b[1;32m    541\u001b[0m \u001b[38;5;129m@final\u001b[39m\n\u001b[1;32m    542\u001b[0m \u001b[38;5;28;01mdef\u001b[39;00m \u001b[38;5;21mto_numpy\u001b[39m(\n\u001b[1;32m    543\u001b[0m     \u001b[38;5;28mself\u001b[39m,\n\u001b[0;32m   (...)\u001b[0m\n\u001b[1;32m    547\u001b[0m     \u001b[38;5;241m*\u001b[39m\u001b[38;5;241m*\u001b[39mkwargs,\n\u001b[1;32m    548\u001b[0m ) \u001b[38;5;241m-\u001b[39m\u001b[38;5;241m>\u001b[39m np\u001b[38;5;241m.\u001b[39mndarray:\n\u001b[1;32m    549\u001b[0m \u001b[38;5;250m    \u001b[39m\u001b[38;5;124;03m\"\"\"\u001b[39;00m\n\u001b[1;32m    550\u001b[0m \u001b[38;5;124;03m    A NumPy ndarray representing the values in this Series or Index.\u001b[39;00m\n\u001b[1;32m    551\u001b[0m \n\u001b[0;32m   (...)\u001b[0m\n\u001b[1;32m    634\u001b[0m \u001b[38;5;124;03m          dtype='datetime64[ns]')\u001b[39;00m\n\u001b[1;32m    635\u001b[0m \u001b[38;5;124;03m    \"\"\"\u001b[39;00m\n\u001b[0;32m--> 636\u001b[0m     \u001b[38;5;28;01mif\u001b[39;00m \u001b[38;5;28misinstance\u001b[39m(\u001b[38;5;28;43mself\u001b[39;49m\u001b[38;5;241;43m.\u001b[39;49m\u001b[43mdtype\u001b[49m, ExtensionDtype):\n\u001b[1;32m    637\u001b[0m         \u001b[38;5;28;01mreturn\u001b[39;00m \u001b[38;5;28mself\u001b[39m\u001b[38;5;241m.\u001b[39marray\u001b[38;5;241m.\u001b[39mto_numpy(dtype, copy\u001b[38;5;241m=\u001b[39mcopy, na_value\u001b[38;5;241m=\u001b[39mna_value, \u001b[38;5;241m*\u001b[39m\u001b[38;5;241m*\u001b[39mkwargs)\n\u001b[1;32m    638\u001b[0m     \u001b[38;5;28;01melif\u001b[39;00m kwargs:\n",
      "File \u001b[0;32m~/Library/Python/3.9/lib/python/site-packages/pandas/core/series.py:718\u001b[0m, in \u001b[0;36mSeries.dtype\u001b[0;34m(self)\u001b[0m\n\u001b[1;32m    707\u001b[0m \u001b[38;5;129m@property\u001b[39m\n\u001b[1;32m    708\u001b[0m \u001b[38;5;28;01mdef\u001b[39;00m \u001b[38;5;21mdtype\u001b[39m(\u001b[38;5;28mself\u001b[39m) \u001b[38;5;241m-\u001b[39m\u001b[38;5;241m>\u001b[39m DtypeObj:\n\u001b[1;32m    709\u001b[0m \u001b[38;5;250m    \u001b[39m\u001b[38;5;124;03m\"\"\"\u001b[39;00m\n\u001b[1;32m    710\u001b[0m \u001b[38;5;124;03m    Return the dtype object of the underlying data.\u001b[39;00m\n\u001b[1;32m    711\u001b[0m \n\u001b[0;32m   (...)\u001b[0m\n\u001b[1;32m    716\u001b[0m \u001b[38;5;124;03m    dtype('int64')\u001b[39;00m\n\u001b[1;32m    717\u001b[0m \u001b[38;5;124;03m    \"\"\"\u001b[39;00m\n\u001b[0;32m--> 718\u001b[0m     \u001b[38;5;28;01mreturn\u001b[39;00m \u001b[38;5;28;43mself\u001b[39;49m\u001b[38;5;241;43m.\u001b[39;49m\u001b[43m_mgr\u001b[49m\u001b[38;5;241;43m.\u001b[39;49m\u001b[43mdtype\u001b[49m\n",
      "File \u001b[0;32m~/Library/Python/3.9/lib/python/site-packages/pandas/core/internals/managers.py:1995\u001b[0m, in \u001b[0;36mSingleBlockManager.dtype\u001b[0;34m(self)\u001b[0m\n\u001b[1;32m   1993\u001b[0m \u001b[38;5;129m@property\u001b[39m\n\u001b[1;32m   1994\u001b[0m \u001b[38;5;28;01mdef\u001b[39;00m \u001b[38;5;21mdtype\u001b[39m(\u001b[38;5;28mself\u001b[39m) \u001b[38;5;241m-\u001b[39m\u001b[38;5;241m>\u001b[39m DtypeObj:\n\u001b[0;32m-> 1995\u001b[0m     \u001b[38;5;28;01mreturn\u001b[39;00m \u001b[38;5;28;43mself\u001b[39;49m\u001b[38;5;241;43m.\u001b[39;49m\u001b[43m_block\u001b[49m\u001b[38;5;241m.\u001b[39mdtype\n",
      "File \u001b[0;32mproperties.pyx:36\u001b[0m, in \u001b[0;36mpandas._libs.properties.CachedProperty.__get__\u001b[0;34m()\u001b[0m\n",
      "File \u001b[0;32m~/Library/Python/3.9/lib/python/site-packages/pandas/core/internals/managers.py:1940\u001b[0m, in \u001b[0;36mSingleBlockManager._block\u001b[0;34m(self)\u001b[0m\n\u001b[1;32m   1937\u001b[0m \u001b[38;5;28;01mdef\u001b[39;00m \u001b[38;5;21m_post_setstate\u001b[39m(\u001b[38;5;28mself\u001b[39m) \u001b[38;5;241m-\u001b[39m\u001b[38;5;241m>\u001b[39m \u001b[38;5;28;01mNone\u001b[39;00m:\n\u001b[1;32m   1938\u001b[0m     \u001b[38;5;28;01mpass\u001b[39;00m\n\u001b[0;32m-> 1940\u001b[0m \u001b[38;5;129m@cache_readonly\u001b[39m\n\u001b[1;32m   1941\u001b[0m \u001b[38;5;28;01mdef\u001b[39;00m \u001b[38;5;21m_block\u001b[39m(\u001b[38;5;28mself\u001b[39m) \u001b[38;5;241m-\u001b[39m\u001b[38;5;241m>\u001b[39m Block:\n\u001b[1;32m   1942\u001b[0m     \u001b[38;5;28;01mreturn\u001b[39;00m \u001b[38;5;28mself\u001b[39m\u001b[38;5;241m.\u001b[39mblocks[\u001b[38;5;241m0\u001b[39m]\n\u001b[1;32m   1944\u001b[0m \u001b[38;5;129m@property\u001b[39m\n\u001b[1;32m   1945\u001b[0m \u001b[38;5;28;01mdef\u001b[39;00m \u001b[38;5;21m_blknos\u001b[39m(\u001b[38;5;28mself\u001b[39m):\n",
      "\u001b[0;31mKeyboardInterrupt\u001b[0m: "
     ]
    }
   ],
   "source": [
    "pC_to_eV = 662 / np.array([-311.8, -337.2, -957.4, -1467.7, -1533.3, \n",
    "                     -1695.9, -1143.8, -386.1, -551.3, -530.1, -801.4])\n",
    "\n",
    "grouped = df.groupby(df.index // 11)\n",
    "\n",
    "times = []\n",
    "for group_name, group_data in grouped:\n",
    "    energies = group_data[\"Charge\"].to_numpy() * pC_to_eV\n",
    "    ledges   = group_data[\"LEdge\"].to_numpy()\n",
    "    Na = np.logical_and(energies < 1276 * 1.05, energies > 1276 * 0.95)\n",
    "\n",
    "    if(Na.sum() == 1):\n",
    "        ee = np.logical_and(energies < 511 * 1.05, energies > 511 * 0.95)\n",
    "        if(ee.sum() in [1, 2]):\n",
    "            times.append(ledges[ee].mean() - ledges[Na][0])\n",
    "            \n",
    "        else:\n",
    "            continue\n",
    "\n",
    "    else:\n",
    "        continue\n",
    "\n",
    "\n",
    "\n"
   ]
  },
  {
   "cell_type": "code",
   "execution_count": 43,
   "metadata": {},
   "outputs": [
    {
     "data": {
      "text/plain": [
       "(array([ 1.,  0.,  0.,  0.,  0.,  0.,  0.,  0.,  0.,  0.,  1.,  0.,  0.,\n",
       "         0.,  0.,  0.,  1.,  4.,  8., 60., 45.,  8.,  2.,  0.,  0.,  0.,\n",
       "         0.,  0.,  1.,  0.,  0.,  0.,  0.,  0.,  0.,  0.,  0.,  0.,  0.,\n",
       "         0.,  0.,  0.,  0.,  0.,  1.,  0.,  0.,  0.,  0.,  1.]),\n",
       " array([-989.083  , -937.58122, -886.07944, -834.57766, -783.07588,\n",
       "        -731.5741 , -680.07232, -628.57054, -577.06876, -525.56698,\n",
       "        -474.0652 , -422.56342, -371.06164, -319.55986, -268.05808,\n",
       "        -216.5563 , -165.05452, -113.55274,  -62.05096,  -10.54918,\n",
       "          40.9526 ,   92.45438,  143.95616,  195.45794,  246.95972,\n",
       "         298.4615 ,  349.96328,  401.46506,  452.96684,  504.46862,\n",
       "         555.9704 ,  607.47218,  658.97396,  710.47574,  761.97752,\n",
       "         813.4793 ,  864.98108,  916.48286,  967.98464, 1019.48642,\n",
       "        1070.9882 , 1122.48998, 1173.99176, 1225.49354, 1276.99532,\n",
       "        1328.4971 , 1379.99888, 1431.50066, 1483.00244, 1534.50422,\n",
       "        1586.006  ]),\n",
       " <BarContainer object of 50 artists>)"
      ]
     },
     "execution_count": 43,
     "metadata": {},
     "output_type": "execute_result"
    },
    {
     "data": {
      "image/png": "[encoded data removed]",
      "text/plain": [
       "<Figure size 640x480 with 1 Axes>"
      ]
     },
     "metadata": {},
     "output_type": "display_data"
    }
   ],
   "source": [
    "plt.hist(times, bins = 50)"
   ]
  },
  {
   "cell_type": "code",
   "execution_count": 29,
   "metadata": {},
   "outputs": [
    {
     "data": {
      "text/plain": [
       "array([False, False,  True, False, False, False])"
      ]
     },
     "execution_count": 29,
     "metadata": {},
     "output_type": "execute_result"
    }
   ],
   "source": [
    "m = np.array([1, 2, 3, 4, 5, 6])\n",
    "np.logical_and(m < 4, m > 2)"
   ]
  },
  {
   "cell_type": "code",
   "execution_count": 33,
   "metadata": {},
   "outputs": [
    {
     "data": {
      "text/plain": [
       "3"
      ]
     },
     "execution_count": 33,
     "metadata": {},
     "output_type": "execute_result"
    }
   ],
   "source": [
    "m[np.logical_and(m < 4, m > 2)][0]"
   ]
  },
  {
   "cell_type": "code",
   "execution_count": 46,
   "metadata": {},
   "outputs": [
    {
     "data": {
      "text/plain": [
       "-3.715000000000032"
      ]
     },
     "execution_count": 46,
     "metadata": {},
     "output_type": "execute_result"
    }
   ],
   "source": [
    "times[3]"
   ]
  },
  {
   "cell_type": "code",
   "execution_count": 69,
   "metadata": {},
   "outputs": [
    {
     "name": "stdout",
     "output_type": "stream",
     "text": [
      "        Ch_Nb  EvID   Charge     LEdge\n",
      "339130      0   111   -1.434   297.252\n",
      "339131      2   111    9.122  1380.214\n",
      "339132      3   111    4.596   633.347\n",
      "339133      4   111    4.289  1195.319\n",
      "339134      5   111   -1.210  1127.814\n",
      "339135      7   111  -10.943   183.988\n",
      "339136      8   111    8.984  1349.782\n",
      "339137     10   111 -726.178   393.475\n",
      "339138     11   111 -442.533   389.760\n",
      "339139     14   111   -7.440   407.436\n",
      "339140     15   111    4.414  1804.477\n"
     ]
    }
   ],
   "source": [
    "print(grouped.get_group(30830))\n"
   ]
  },
  {
   "cell_type": "code",
   "execution_count": 71,
   "metadata": {},
   "outputs": [
    {
     "data": {
      "text/plain": [
       "array([False, False, False, False, False, False, False,  True, False,\n",
       "       False, False])"
      ]
     },
     "execution_count": 71,
     "metadata": {},
     "output_type": "execute_result"
    }
   ],
   "source": [
    "x = grouped.get_group(30830)[\"Charge\"].to_numpy() * pC_to_eV\n",
    "np.logical_and(x < 1276 * 1.05, x > 1276 * 0.95)"
   ]
  },
  {
   "cell_type": "code",
   "execution_count": 72,
   "metadata": {},
   "outputs": [
    {
     "data": {
      "text/plain": [
       "array([False, False, False, False, False, False, False, False,  True,\n",
       "       False, False])"
      ]
     },
     "execution_count": 72,
     "metadata": {},
     "output_type": "execute_result"
    }
   ],
   "source": [
    "np.logical_and(x < 511 * 1.05, x > 511 * 0.95)"
   ]
  },
  {
   "cell_type": "code",
   "execution_count": null,
   "metadata": {},
   "outputs": [],
   "source": [
    "energies = group_data[\"Charge\"].to_numpy() * pC_to_eV\n",
    "ledges   = group_data[\"LEdge\"].to_numpy()\n",
    "Na = np.logical_and(energies < 1276 * 1.05, energies > 1276 * 0.95)\n",
    "if(i % 5000 == 0 ):\n",
    "    print(i)\n",
    "i = i + 1\n",
    "if(Na.sum() == 1):\n",
    "    ee = np.logical_and(energies < 511 * 1.05, energies > 511 * 0.95)\n",
    "    if(ee.sum() in [1, 2]):\n",
    "        times.append(ledges[ee].mean() - ledges[Na][0])"
   ]
  }
 ],
 "metadata": {
  "kernelspec": {
   "display_name": "Python 3",
   "language": "python",
   "name": "python3"
  },
  "language_info": {
   "codemirror_mode": {
    "name": "ipython",
    "version": 3
   },
   "file_extension": ".py",
   "mimetype": "text/x-python",
   "name": "python",
   "nbconvert_exporter": "python",
   "pygments_lexer": "ipython3",
   "version": "3.9.6"
  }
 },
 "nbformat": 4,
 "nbformat_minor": 2
}
