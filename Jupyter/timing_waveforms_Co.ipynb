{
 "cells": [
  {
   "cell_type": "code",
   "execution_count": 1,
   "metadata": {},
   "outputs": [
    {
     "name": "stdout",
     "output_type": "stream",
     "text": [
      "Welcome to JupyROOT 6.30/04\n"
     ]
    }
   ],
   "source": [
    "import ROOT\n",
    "import uproot\n",
    "import matplotlib.pyplot as plt\n",
    "import numpy as np\n",
    "import awkward as ak\n",
    "\n",
    "from sklearn.preprocessing import normalize as norm"
   ]
  },
  {
   "cell_type": "code",
   "execution_count": 54,
   "metadata": {},
   "outputs": [
    {
     "data": {
      "text/plain": [
       "(-2000.0, -1400.0)"
      ]
     },
     "execution_count": 54,
     "metadata": {},
     "output_type": "execute_result"
    },
    {
     "data": {
      "image/png": "[encoded data removed]",
      "text/plain": [
       "<Figure size 640x480 with 1 Axes>"
      ]
     },
     "metadata": {},
     "output_type": "display_data"
    }
   ],
   "source": [
    "def load_histo(dat_PATH):\n",
    "    data = np.loadtxt(dat_PATH, skiprows=0, comments='==')\n",
    "    noises_edges = np.zeros((int(data.shape[0]/2), data.shape[1]))       #np.array([[]] * int(data.shape[0]/2))\n",
    "    noises_values = np.zeros((int(data.shape[0]/2), data.shape[1]))       #np.array([[]] * int(data.shape[0]/2))\n",
    "\n",
    "    for i in range(int(data.shape[0]/2)):\n",
    "        noises_edges[i] = (data[2 * i])\n",
    "        noises_values[i] = (data[2 * i + 1])\n",
    "\n",
    "    return noises_edges, noises_values\n",
    "\n",
    "edge_N, bin_N = load_histo(\"../Dati/Run_Co_3000_50_ChargeHistos_5_27_2024.dat\")\n",
    "\n",
    "channel = 12\n",
    "\n",
    "\n",
    "    \n",
    "edge_N = edge_N[channel]\n",
    "bin_N = bin_N[channel]\n",
    "\n",
    "\n",
    "\n",
    "\n",
    "centers_N = np.convolve(edge_N, [0.5, 0.5], \"valid\")\n",
    "err_N = np.sqrt(bin_N)\n",
    "plt.bar(centers_N, bin_N[:-1], width=centers_N[1]-centers_N[0])\n",
    "plt.xlim(-2000, -1400)\n",
    "\n"
   ]
  },
  {
   "cell_type": "code",
   "execution_count": 54,
   "metadata": {},
   "outputs": [
    {
     "name": "stdout",
     "output_type": "stream",
     "text": [
      "name                 | typename                 | interpretation                \n",
      "---------------------+--------------------------+-------------------------------\n",
      "ev                   | int32_t                  | AsDtype('>i4')\n",
      "nch                  | int32_t                  | AsDtype('>i4')\n",
      "ch                   | int32_t[]                | AsJagged(AsDtype('>i4'))\n",
      "base                 | float[]                  | AsJagged(AsDtype('>f4'))\n",
      "amp                  | float[]                  | AsJagged(AsDtype('>f4'))\n",
      "charge               | float[]                  | AsJagged(AsDtype('>f4'))\n",
      "letime               | float[]                  | AsJagged(AsDtype('>f4'))\n",
      "tetime               | float[]                  | AsJagged(AsDtype('>f4'))\n",
      "Flag                 | int32_t[2]               | AsDtype(\"('>i4', (2,))\")\n",
      "pshape               | float[][1024]            | AsJagged(AsDtype(\"('>f4', (...\n"
     ]
    }
   ],
   "source": [
    "FILE_PATH = \"../Dati/Run_Co_correlations_Data_5_23_2024_Ascii_0000.root\" #Relative file path\n",
    "file = uproot.open(FILE_PATH)\n",
    "file[\"tree\"].show()\n",
    "\n",
    "\n",
    "baselines = np.array(file[\"tree\"][\"base\"].array()[1:-1]) \n",
    "charges = np.array(file[\"tree\"][\"charge\"].array()[1:-1])\n",
    "amp = np.array(file[\"tree\"][\"amp\"].array()[1:-1])\n",
    "lead_edge = np.array(file[\"tree\"][\"letime\"].array()[1:-1])\n",
    "t_edge = np.array(file[\"tree\"][\"tetime\"].array()[1:-1])\n",
    "channel= np.array(file[\"tree\"][\"ch\"].array()[1:-1])\n",
    "waveform = np.array(file[\"tree\"][\"pshape\"].array()[1:-1])\n",
    "flag    = np.array(file[\"tree\"][\"Flag\"].array()[1:-1])\n",
    "\n"
   ]
  },
  {
   "cell_type": "code",
   "execution_count": 167,
   "metadata": {},
   "outputs": [
    {
     "name": "stdout",
     "output_type": "stream",
     "text": [
      "[-0.000628 -0.000153 -0.000731 ... -0.047299 -0.052765 -0.064867]\n"
     ]
    }
   ],
   "source": [
    "print(waveform[0][7])"
   ]
  },
  {
   "cell_type": "code",
   "execution_count": 3,
   "metadata": {},
   "outputs": [
    {
     "name": "stdout",
     "output_type": "stream",
     "text": [
      "[[ 7  8]\n",
      " [ 9 12]\n",
      " [ 5  9]\n",
      " ...\n",
      " [ 5 15]\n",
      " [ 9 10]\n",
      " [ 0  5]]\n"
     ]
    }
   ],
   "source": [
    "print(flag)"
   ]
  },
  {
   "cell_type": "code",
   "execution_count": 55,
   "metadata": {},
   "outputs": [
    {
     "name": "stdout",
     "output_type": "stream",
     "text": [
      "7452 16\n"
     ]
    }
   ],
   "source": [
    "\n",
    "N_ch= len(charges[0])\n",
    "N_ev=len(charges)\n",
    "print(N_ev, N_ch)"
   ]
  },
  {
   "cell_type": "code",
   "execution_count": 46,
   "metadata": {},
   "outputs": [
    {
     "name": "stdout",
     "output_type": "stream",
     "text": [
      "(157, 2)\n"
     ]
    },
    {
     "data": {
      "image/png": "[encoded data removed]",
      "text/plain": [
       "<Figure size 640x480 with 1 Axes>"
      ]
     },
     "metadata": {},
     "output_type": "display_data"
    }
   ],
   "source": [
    "#posso controllare come un canale è accoppiato agli altri\n",
    "ch=2\n",
    "msk=np.where(flag[:,0]== ch)[0]\n",
    "plt.hist(flag[msk, 1],color = \"blue\")\n",
    "msk=np.where(flag[:,1]== ch)[0]\n",
    "plt.hist(flag[msk, 0],color=\"blue\")\n",
    "\n",
    "print(flag[msk, :].shape)\n",
    "\n",
    "#"
   ]
  },
  {
   "cell_type": "markdown",
   "metadata": {},
   "source": [
    "ad ogni event è associata una flag, ora devo selezionare tutti gli event con una stessa flag"
   ]
  },
  {
   "cell_type": "code",
   "execution_count": 56,
   "metadata": {},
   "outputs": [],
   "source": [
    "def timing_measurement(paired_wf_1, sampling, shiftR, shiftL, n_mean, thresh):\n",
    "    wf_1_len = len(paired_wf_1)\n",
    "    new_wf_1 = np.array(paired_wf_1).reshape([np.array(paired_wf_1).shape[0], 1, np.array(paired_wf_1).shape[1]])\n",
    "\n",
    "    for evt in range(new_wf_1.shape[0]):\n",
    "        for ch in range(new_wf_1.shape[1]):\n",
    "            bsl_1 = new_wf_1[evt, ch, 0:32].mean()\n",
    "            new_wf_1[evt, ch, :] = np.convolve(new_wf_1[evt, ch], [1/n_mean] * n_mean, mode = \"same\") - bsl_1\n",
    "\n",
    "    new_wf_1 = -norm(-new_wf_1.reshape(-1, 1024), norm = \"max\", axis = 1, copy = True, return_norm = False)\n",
    "    threshold = thresh\n",
    "\n",
    "    ledges1 = np.zeros(new_wf_1.shape[0])\n",
    "\n",
    "    for evt in range(new_wf_1.shape[0]):\n",
    "        try:\n",
    "            ledge= np.where(np.diff(np.sign(new_wf_1[evt] - threshold)))[0][0]\n",
    "            coef = np.polyfit(new_wf_1[evt][ledge-shiftL:ledge+shiftR],np.arange(ledge-shiftL, ledge+shiftR),1)\n",
    "            ledges1[evt] = np.poly1d(coef)(threshold) \n",
    "        except IndexError:\n",
    "            continue\n",
    "\n",
    "    return ledges1*sampling"
   ]
  },
  {
   "cell_type": "code",
   "execution_count": 57,
   "metadata": {},
   "outputs": [],
   "source": [
    "#data una coppia e un dataset la funzione ritorna l'offset relativo alla misura di timing\n",
    "def offset_and_resolution_estimation( couple, flag, waveform, sampling, shiftR, shiftL, n_mean, thresh):\n",
    "    idx=np.where( (flag[:,0]==couple[0] ) & (flag[:,1]==couple[1]) )[0]\n",
    "    if(len(idx)>0):\n",
    "        paired_wf_1=waveform[idx][:,couple[0]]\n",
    "        paired_wf_2=waveform[idx][:,couple[1]]\n",
    "        timeres=timing_measurement(paired_wf_1, sampling, shiftR, shiftL, n_mean, thresh)-timing_measurement(paired_wf_2, sampling, shiftR, shiftL, n_mean, thresh)\n",
    "        msk=np.where(np.abs(timeres) < 50)[0]\n",
    "        return(np.mean(timeres[msk]), np.std(timeres[msk]), timeres)\n",
    "    else:\n",
    "        return(0,0,0)\n"
   ]
  },
  {
   "cell_type": "code",
   "execution_count": 58,
   "metadata": {},
   "outputs": [],
   "source": [
    "offset_matrix=np.zeros((N_ch, N_ch))\n",
    "def offset_matrix_filling(N_ch, flag, waveform, sampling, shiftR, shiftL, n_mean, thresh):\n",
    "    for i in range(N_ch):\n",
    "        for j in range(N_ch):\n",
    "            tmp=offset_and_resolution_estimation([i,j], flag, waveform, sampling, shiftR, shiftL, n_mean, thresh)[0]\n",
    "            offset_matrix[i][j]=tmp\n",
    "    return(offset_matrix)\n",
    "\n"
   ]
  },
  {
   "cell_type": "code",
   "execution_count": 80,
   "metadata": {},
   "outputs": [
    {
     "name": "stdout",
     "output_type": "stream",
     "text": [
      "0\n"
     ]
    }
   ],
   "source": [
    "sampling=2.5\n",
    "shiftR=2\n",
    "shiftL=0\n",
    "n_mean=8\n",
    "thresh=-0.1\n",
    "print(offset_and_resolution_estimation([5,5], flag, waveform, sampling, shiftR, shiftL, n_mean, thresh)[0])"
   ]
  },
  {
   "cell_type": "code",
   "execution_count": 81,
   "metadata": {},
   "outputs": [
    {
     "name": "stdout",
     "output_type": "stream",
     "text": [
      "[[ 0.          1.50500943  7.62525845  4.61293362  3.15892701  0.42782056\n",
      "   4.49672154  1.77843779  2.40697245  0.59281318 -0.90675317  1.68751028\n",
      "   5.71198922  0.          4.56768762  0.97792598]\n",
      " [ 0.          0.          6.11065928  2.85206175  1.13653755 -2.20474312\n",
      "   2.46788101  0.51116414  0.80656163 -0.85936461 -2.18658085 -1.00696636\n",
      "   3.23813492  0.          3.03523668 -0.19754189]\n",
      " [ 0.          0.          0.         -3.3739286  -5.72502314 -8.24391322\n",
      "  -3.54354023 -6.27318018 -4.97360872 -7.1802282  -8.55086201 -6.64136498\n",
      "  -2.35827787  0.         -3.72766191 -6.57743136]\n",
      " [ 0.          0.          0.          0.         -1.37643551 -4.76837872\n",
      "   0.20964947 -2.70117638 -2.30973294 -4.06801263 -5.26312062 -2.77706457\n",
      "   1.03675632  0.         -0.21015299 -3.23818714]\n",
      " [ 0.          0.          0.          0.          0.         -3.05462833\n",
      "   1.55270473 -1.13492494 -1.03074154 -2.32552449 -3.62794031 -1.61582009\n",
      "   2.22239742  0.          1.26570009 -1.43924862]\n",
      " [ 0.          0.          0.          0.          0.          0.\n",
      "   4.42076759  2.22511157  2.33504401  0.9076434  -0.72542105  1.93593867\n",
      "   5.4992491   0.          4.08606759  0.92015636]\n",
      " [ 0.          0.          0.          0.          0.          0.\n",
      "   0.         -2.72692117 -2.58077045 -3.70842055 -4.73737134 -3.05316676\n",
      "   0.98905027  0.         -0.26387315 -3.52277467]\n",
      " [ 0.          0.          0.          0.          0.          0.\n",
      "   0.          0.          0.74242136 -0.92626258 -2.26949432 -0.03780508\n",
      "   3.50346059  0.          2.54158076 -0.39066908]\n",
      " [ 0.          0.          0.          0.          0.          0.\n",
      "   0.          0.          0.         -1.72794544 -2.88280404 -0.57861142\n",
      "   2.82634761  0.          1.98500742 -0.62586021]\n",
      " [ 0.          0.          0.          0.          0.          0.\n",
      "   0.          0.          0.          0.         -1.77286     0.37293544\n",
      "   4.63787906  0.          3.3115493   0.22906466]\n",
      " [ 0.          0.          0.          0.          0.          0.\n",
      "   0.          0.          0.          0.          0.          2.01399503\n",
      "   5.8531399   0.          3.90386244  2.11610796]\n",
      " [ 0.          0.          0.          0.          0.          0.\n",
      "   0.          0.          0.          0.          0.          0.\n",
      "   4.2551925   0.          2.71461592 -0.33035522]\n",
      " [ 0.          0.          0.          0.          0.          0.\n",
      "   0.          0.          0.          0.          0.          0.\n",
      "   0.          0.         -0.7889355  -4.13676709]\n",
      " [ 0.          0.          0.          0.          0.          0.\n",
      "   0.          0.          0.          0.          0.          0.\n",
      "   0.          0.          0.          0.        ]\n",
      " [ 0.          0.          0.          0.          0.          0.\n",
      "   0.          0.          0.          0.          0.          0.\n",
      "   0.          0.          0.         -3.10290302]\n",
      " [ 0.          0.          0.          0.          0.          0.\n",
      "   0.          0.          0.          0.          0.          0.\n",
      "   0.          0.          0.          0.        ]]\n"
     ]
    }
   ],
   "source": [
    "offset_matrix=offset_matrix_filling(N_ch, flag, waveform, sampling, shiftR, shiftL, n_mean, thresh)\n",
    "print(offset_matrix)"
   ]
  },
  {
   "cell_type": "code",
   "execution_count": 82,
   "metadata": {},
   "outputs": [
    {
     "data": {
      "text/plain": [
       "Text(0, 0.5, 'channel')"
      ]
     },
     "execution_count": 82,
     "metadata": {},
     "output_type": "execute_result"
    },
    {
     "data": {
      "image/png": "[encoded data removed]",
      "text/plain": [
       "<Figure size 640x480 with 2 Axes>"
      ]
     },
     "metadata": {},
     "output_type": "display_data"
    }
   ],
   "source": [
    "plt.imshow(offset_matrix, cmap='PiYG')\n",
    "plt.title(\"Timing Offset from Co photon emission\")\n",
    "plt.colorbar()\n",
    "plt.xlabel(\"channel\")\n",
    "plt.ylabel(\"channel\")"
   ]
  },
  {
   "cell_type": "code",
   "execution_count": 74,
   "metadata": {},
   "outputs": [
    {
     "data": {
      "text/plain": [
       "<matplotlib.image.AxesImage at 0x2ac266680>"
      ]
     },
     "execution_count": 74,
     "metadata": {},
     "output_type": "execute_result"
    },
    {
     "data": {
      "image/png": "[encoded data removed]",
      "text/plain": [
       "<Figure size 640x480 with 1 Axes>"
      ]
     },
     "metadata": {},
     "output_type": "display_data"
    }
   ],
   "source": [
    "for i in range(N_ch):\n",
    "    for j in range(i):\n",
    "        offset_matrix[i][j]=-offset_matrix[j][i]\n",
    "\n",
    "plt.imshow(offset_matrix, cmap='PiYG')"
   ]
  },
  {
   "cell_type": "code",
   "execution_count": 72,
   "metadata": {},
   "outputs": [
    {
     "name": "stdout",
     "output_type": "stream",
     "text": [
      "['arr_0']\n",
      "[[ 0.          1.50500943  7.62525845  4.61293362  3.15892701  0.42782056\n",
      "   4.49672154  1.77843779  2.40697245  0.59281318 -0.90675317  1.68751028\n",
      "   5.71198922  0.          4.56768762  0.97792598]\n",
      " [ 0.          0.          6.11065928  2.85206175  1.13653755 -2.20474312\n",
      "   2.46788101  0.51116414  0.80656163 -0.85936461 -2.18658085 -1.00696636\n",
      "   3.23813492  0.          3.03523668 -0.19754189]\n",
      " [ 0.          0.          0.         -3.3739286  -5.72502314 -8.24391322\n",
      "  -3.54354023 -6.27318018 -4.97360872 -7.1802282  -8.55086201 -6.64136498\n",
      "  -2.35827787  0.         -3.72766191 -6.57743136]\n",
      " [ 0.          0.          0.          0.         -1.37643551 -4.76837872\n",
      "   0.20964947 -2.70117638 -2.30973294 -4.06801263 -5.26312062 -2.77706457\n",
      "   1.03675632  0.         -0.21015299 -3.23818714]\n",
      " [ 0.          0.          0.          0.          0.         -3.05462833\n",
      "   1.55270473 -1.13492494 -1.03074154 -2.32552449 -3.62794031 -1.61582009\n",
      "   2.22239742  0.          1.26570009 -1.43924862]\n",
      " [ 0.          0.          0.          0.          0.          0.\n",
      "   4.42076759  2.22511157  2.33504401  0.9076434  -0.72542105  1.93593867\n",
      "   5.4992491   0.          4.08606759  0.92015636]\n",
      " [ 0.          0.          0.          0.          0.          0.\n",
      "   0.         -2.72692117 -2.58077045 -3.70842055 -4.73737134 -3.05316676\n",
      "   0.98905027  0.         -0.26387315 -3.52277467]\n",
      " [ 0.          0.          0.          0.          0.          0.\n",
      "   0.          0.          0.74242136 -0.92626258 -2.26949432 -0.03780508\n",
      "   3.50346059  0.          2.54158076 -0.39066908]\n",
      " [ 0.          0.          0.          0.          0.          0.\n",
      "   0.          0.          0.         -1.72794544 -2.88280404 -0.57861142\n",
      "   2.82634761  0.          1.98500742 -0.62586021]\n",
      " [ 0.          0.          0.          0.          0.          0.\n",
      "   0.          0.          0.          0.         -1.77286     0.37293544\n",
      "   4.63787906  0.          3.3115493   0.22906466]\n",
      " [ 0.          0.          0.          0.          0.          0.\n",
      "   0.          0.          0.          0.          0.          2.01399503\n",
      "   5.8531399   0.          3.90386244  2.11610796]\n",
      " [ 0.          0.          0.          0.          0.          0.\n",
      "   0.          0.          0.          0.          0.          0.\n",
      "   4.2551925   0.          2.71461592 -0.33035522]\n",
      " [ 0.          0.          0.          0.          0.          0.\n",
      "   0.          0.          0.          0.          0.          0.\n",
      "   0.          0.         -0.7889355  -4.13676709]\n",
      " [ 0.          0.          0.          0.          0.          0.\n",
      "   0.          0.          0.          0.          0.          0.\n",
      "   0.          0.          0.          0.        ]\n",
      " [ 0.          0.          0.          0.          0.          0.\n",
      "   0.          0.          0.          0.          0.          0.\n",
      "   0.          0.          0.         -3.10290302]\n",
      " [ 0.          0.          0.          0.          0.          0.\n",
      "   0.          0.          0.          0.          0.          0.\n",
      "   0.          0.          0.          0.        ]]\n"
     ]
    }
   ],
   "source": [
    "def save_matrix(filename, offset_matrix):\n",
    "    np.savez(filename, offset_matrix)\n",
    "\n",
    "def load_matrix(filename):\n",
    "    return(np.load(filename))\n",
    "\n",
    "save_matrix('offset_matrix.npz', offset_matrix)\n",
    "loaded=load_matrix('offset_matrix.npz')\n",
    "print(loaded.files)\n",
    "matrix_loaded = loaded['arr_0']\n",
    "print(matrix_loaded)\n"
   ]
  },
  {
   "cell_type": "code",
   "execution_count": null,
   "metadata": {},
   "outputs": [],
   "source": []
  }
 ],
 "metadata": {
  "kernelspec": {
   "display_name": "base",
   "language": "python",
   "name": "python3"
  },
  "language_info": {
   "codemirror_mode": {
    "name": "ipython",
    "version": 3
   },
   "file_extension": ".py",
   "mimetype": "text/x-python",
   "name": "python",
   "nbconvert_exporter": "python",
   "pygments_lexer": "ipython3",
   "version": "3.10.10"
  }
 },
 "nbformat": 4,
 "nbformat_minor": 2
}
