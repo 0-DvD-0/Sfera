{
 "cells": [
  {
   "cell_type": "code",
   "execution_count": 1,
   "metadata": {},
   "outputs": [
    {
     "name": "stdout",
     "output_type": "stream",
     "text": [
      "Welcome to JupyROOT 6.30/04\n"
     ]
    }
   ],
   "source": [
    "import ROOT\n",
    "import uproot\n",
    "import matplotlib.pyplot as plt\n",
    "import numpy as np\n",
    "import awkward as ak\n",
    "\n",
    "from sklearn.preprocessing import normalize as norm"
   ]
  },
  {
   "cell_type": "code",
   "execution_count": 2,
   "metadata": {},
   "outputs": [
    {
     "name": "stdout",
     "output_type": "stream",
     "text": [
      "name                 | typename                 | interpretation                \n",
      "---------------------+--------------------------+-------------------------------\n",
      "ev                   | int32_t                  | AsDtype('>i4')\n",
      "nch                  | int32_t                  | AsDtype('>i4')\n",
      "ch                   | int32_t[]                | AsJagged(AsDtype('>i4'))\n",
      "base                 | float[]                  | AsJagged(AsDtype('>f4'))\n",
      "amp                  | float[]                  | AsJagged(AsDtype('>f4'))\n",
      "charge               | float[]                  | AsJagged(AsDtype('>f4'))\n",
      "letime               | float[]                  | AsJagged(AsDtype('>f4'))\n",
      "tetime               | float[]                  | AsJagged(AsDtype('>f4'))\n",
      "Flag                 | int32_t[2]               | AsDtype(\"('>i4', (2,))\")\n",
      "pshape               | float[][1024]            | AsJagged(AsDtype(\"('>f4', (...\n"
     ]
    }
   ],
   "source": [
    "FILE_PATH = \"../Dati/Run_Co_correlations_Data_5_23_2024_Ascii_0000.root\" #Relative file path\n",
    "file = uproot.open(FILE_PATH)\n",
    "file[\"tree\"].show()\n",
    "\n",
    "\n",
    "baselines = np.array(file[\"tree\"][\"base\"].array()[1:-1]) \n",
    "charges = np.array(file[\"tree\"][\"charge\"].array()[1:-1])\n",
    "amp = np.array(file[\"tree\"][\"amp\"].array()[1:-1])\n",
    "lead_edge = np.array(file[\"tree\"][\"letime\"].array()[1:-1])\n",
    "t_edge = np.array(file[\"tree\"][\"tetime\"].array()[1:-1])\n",
    "channel= np.array(file[\"tree\"][\"ch\"].array()[1:-1])\n",
    "waveform = np.array(file[\"tree\"][\"pshape\"].array()[1:-1])\n",
    "flag    = np.array(file[\"tree\"][\"Flag\"].array()[1:-1])\n",
    "\n"
   ]
  },
  {
   "cell_type": "code",
   "execution_count": 167,
   "metadata": {},
   "outputs": [
    {
     "name": "stdout",
     "output_type": "stream",
     "text": [
      "[-0.000628 -0.000153 -0.000731 ... -0.047299 -0.052765 -0.064867]\n"
     ]
    }
   ],
   "source": [
    "print(waveform[0][7])"
   ]
  },
  {
   "cell_type": "code",
   "execution_count": 3,
   "metadata": {},
   "outputs": [
    {
     "name": "stdout",
     "output_type": "stream",
     "text": [
      "[[ 7  8]\n",
      " [ 9 12]\n",
      " [ 5  9]\n",
      " ...\n",
      " [ 5 15]\n",
      " [ 9 10]\n",
      " [ 0  5]]\n"
     ]
    }
   ],
   "source": [
    "print(flag)"
   ]
  },
  {
   "cell_type": "code",
   "execution_count": 4,
   "metadata": {},
   "outputs": [
    {
     "name": "stdout",
     "output_type": "stream",
     "text": [
      "7452 16\n"
     ]
    }
   ],
   "source": [
    "\n",
    "N_ch= len(charges[0])\n",
    "N_ev=len(charges)\n",
    "print(N_ev, N_ch)"
   ]
  },
  {
   "cell_type": "code",
   "execution_count": 5,
   "metadata": {},
   "outputs": [
    {
     "name": "stdout",
     "output_type": "stream",
     "text": [
      "16\n"
     ]
    }
   ],
   "source": [
    "print(N_ch)"
   ]
  },
  {
   "cell_type": "code",
   "execution_count": 20,
   "metadata": {},
   "outputs": [
    {
     "name": "stdout",
     "output_type": "stream",
     "text": [
      "(157, 2)\n"
     ]
    },
    {
     "data": {
      "image/png": "[encoded data removed]",
      "text/plain": [
       "<Figure size 640x480 with 1 Axes>"
      ]
     },
     "metadata": {},
     "output_type": "display_data"
    }
   ],
   "source": [
    "#posso controllare come un canale è accoppiato agli altri\n",
    "ch=2\n",
    "msk=np.where(flag[:,0]== ch)[0]\n",
    "plt.hist(flag[msk, 1],color = \"blue\")\n",
    "msk=np.where(flag[:,1]== ch)[0]\n",
    "plt.hist(flag[msk, 0],color=\"blue\")\n",
    "\n",
    "print(flag[msk, :].shape)\n",
    "\n",
    "#"
   ]
  },
  {
   "cell_type": "markdown",
   "metadata": {},
   "source": [
    "ad ogni event è associata una flag, ora devo selezionare tutti gli event con una stessa flag"
   ]
  },
  {
   "cell_type": "code",
   "execution_count": 23,
   "metadata": {},
   "outputs": [],
   "source": [
    "def timing_measurement(paired_wf_1, sampling, shiftR, shiftL, n_mean, thresh):\n",
    "    wf_1_len = len(paired_wf_1)\n",
    "    new_wf_1 = np.array(paired_wf_1).reshape([np.array(paired_wf_1).shape[0], 1, np.array(paired_wf_1).shape[1]])\n",
    "\n",
    "    for evt in range(new_wf_1.shape[0]):\n",
    "        for ch in range(new_wf_1.shape[1]):\n",
    "            bsl_1 = new_wf_1[evt, ch, 0:32].mean()\n",
    "            new_wf_1[evt, ch, :] = np.convolve(new_wf_1[evt, ch], [1/n_mean] * n_mean, mode = \"same\") - bsl_1\n",
    "\n",
    "    new_wf_1 = -norm(-new_wf_1.reshape(-1, 1024), norm = \"max\", axis = 1, copy = True, return_norm = False)\n",
    "    threshold = thresh\n",
    "\n",
    "    ledges1 = np.zeros(new_wf_1.shape[0])\n",
    "\n",
    "    for evt in range(new_wf_1.shape[0]):\n",
    "        try:\n",
    "            ledge= np.where(np.diff(np.sign(new_wf_1[evt] - threshold)))[0][0]\n",
    "            coef = np.polyfit(new_wf_1[evt][ledge-shiftL:ledge+shiftR],np.arange(ledge-shiftL, ledge+shiftR),1)\n",
    "            ledges1[evt] = np.poly1d(coef)(threshold) \n",
    "        except IndexError:\n",
    "            continue\n",
    "\n",
    "    return ledges1*sampling"
   ]
  },
  {
   "cell_type": "code",
   "execution_count": 27,
   "metadata": {},
   "outputs": [],
   "source": [
    "#data una coppia e un dataset la funzione ritorna l'offset relativo alla misura di timing\n",
    "def offset_and_resolution_estimation( couple, flag, waveform, sampling, shiftR, shiftL, n_mean, thresh):\n",
    "    idx=np.where( (flag[:,0]==couple[0] ) & (flag[:,1]==couple[1]) )[0]\n",
    "    if(len(idx)>0):\n",
    "        paired_wf_1=waveform[idx][:,couple[0]]\n",
    "        paired_wf_2=waveform[idx][:,couple[1]]\n",
    "        timeres=timing_measurement(paired_wf_1, sampling, shiftR, shiftL, n_mean, thresh)-timing_measurement(paired_wf_2, sampling, shiftR, shiftL, n_mean, thresh)\n",
    "        msk=np.where(np.abs(timeres) < 50)[0]\n",
    "        return(np.mean(timeres[msk]), np.std(timeres[msk]), timeres)\n",
    "    else:\n",
    "        return(0,0,0)\n"
   ]
  },
  {
   "cell_type": "code",
   "execution_count": 29,
   "metadata": {},
   "outputs": [],
   "source": [
    "offset_matrix=np.zeros((N_ch, N_ch))\n",
    "def offset_matrix_filling(N_ch, flag, waveform, sampling, shiftR, shiftL, n_mean, thresh):\n",
    "    for i in range(N_ch):\n",
    "        for j in range(N_ch):\n",
    "            tmp=offset_and_resolution_estimation([i,j], flag, waveform, sampling, shiftR, shiftL, n_mean, thresh)[0]\n",
    "            offset_matrix[i][j]=tmp\n",
    "    return(offset_matrix)\n",
    "\n"
   ]
  },
  {
   "cell_type": "code",
   "execution_count": 44,
   "metadata": {},
   "outputs": [
    {
     "name": "stdout",
     "output_type": "stream",
     "text": [
      "-2.045190879172656\n"
     ]
    }
   ],
   "source": [
    "sampling=1.875\n",
    "shiftR=2\n",
    "shiftL=0\n",
    "n_mean=8\n",
    "thresh=-0.1\n",
    "print(offset_and_resolution_estimation([6,7], flag, waveform, sampling, shiftR, shiftL, n_mean, thresh)[0])"
   ]
  },
  {
   "cell_type": "code",
   "execution_count": 30,
   "metadata": {},
   "outputs": [
    {
     "name": "stdout",
     "output_type": "stream",
     "text": [
      "[[ 0.          1.12875707  5.71894384  3.45970022  2.36919526  0.32086542\n",
      "   3.37254115  1.98442343  1.80522933  0.44460988 -0.68006487  1.26563271\n",
      "   4.28399192  0.          3.42576571  0.73344449]\n",
      " [ 0.          0.          4.58299446  2.13904631  0.85240316 -1.65355734\n",
      "   1.85091076  0.38337311  0.60492122 -0.64452346 -1.63993564 -0.75522477\n",
      "   2.42860119  0.          2.27642751 -0.14815642]\n",
      " [ 0.          0.          0.         -2.53044645 -4.29376735 -6.18293491\n",
      "  -2.65765517 -4.70488514 -3.73020654 -5.38517115 -6.41314651 -4.40138748\n",
      "  -1.7687084   0.         -2.79574643 -4.93307352]\n",
      " [ 0.          0.          0.          0.         -1.03232663 -3.57628404\n",
      "   0.15723711 -2.02588228 -1.7322997  -3.05100947 -3.94734046 -2.59705702\n",
      "   0.77756724  0.         -0.15761474 -2.42864036]\n",
      " [ 0.          0.          0.          0.          0.         -2.29097125\n",
      "   1.16452855 -0.8511937  -0.77305615 -1.74414337 -4.3286207  -1.21186506\n",
      "   1.66679806  0.          0.94927507 -1.07943647]\n",
      " [ 0.          0.          0.          0.          0.          0.\n",
      "   3.31557569  1.66883368  1.04806359  1.02222668 -0.54406579  1.451954\n",
      "   4.12443683  0.          3.0645507   0.69011727]\n",
      " [ 0.          0.          0.          0.          0.          0.\n",
      "   0.         -2.04519088 -1.93557784 -2.78131541 -3.55302851 -2.28987507\n",
      "   0.7417877   0.         -0.19790486 -2.642081  ]\n",
      " [ 0.          0.          0.          0.          0.          0.\n",
      "   0.          0.          0.55681602 -0.69469694 -1.70212074 -0.02835381\n",
      "   3.47058749  0.          1.90618557 -0.91445177]\n",
      " [ 0.          0.          0.          0.          0.          0.\n",
      "   0.          0.          0.         -1.29595908 -2.16210303 -0.43395856\n",
      "   2.11976071  0.          1.48875556 -0.46939516]\n",
      " [ 0.          0.          0.          0.          0.          0.\n",
      "   0.          0.          0.          0.         -1.329645    0.27970158\n",
      "   3.4784093   0.          2.48366197  0.17179849]\n",
      " [ 0.          0.          0.          0.          0.          0.\n",
      "   0.          0.          0.          0.          0.          0.99188363\n",
      "   4.38985493  0.          2.92789683  1.58708097]\n",
      " [ 0.          0.          0.          0.          0.          0.\n",
      "   0.          0.          0.          0.          0.          0.\n",
      "   3.94883554  0.          2.03596194 -0.24776641]\n",
      " [ 0.          0.          0.          0.          0.          0.\n",
      "   0.          0.          0.          0.          0.          0.\n",
      "   0.          0.         -0.59170163 -3.10257531]\n",
      " [ 0.          0.          0.          0.          0.          0.\n",
      "   0.          0.          0.          0.          0.          0.\n",
      "   0.          0.          0.          0.        ]\n",
      " [ 0.          0.          0.          0.          0.          0.\n",
      "   0.          0.          0.          0.          0.          0.\n",
      "   0.          0.          0.         -2.32717727]\n",
      " [ 0.          0.          0.          0.          0.          0.\n",
      "   0.          0.          0.          0.          0.          0.\n",
      "   0.          0.          0.          0.        ]]\n"
     ]
    }
   ],
   "source": [
    "offset_matrix=offset_matrix_filling(N_ch, flag, waveform, sampling, shiftR, shiftL, n_mean, thresh)\n",
    "print(offset_matrix)"
   ]
  },
  {
   "cell_type": "code",
   "execution_count": 34,
   "metadata": {},
   "outputs": [
    {
     "data": {
      "text/plain": [
       "Text(0, 0.5, 'channel')"
      ]
     },
     "execution_count": 34,
     "metadata": {},
     "output_type": "execute_result"
    },
    {
     "data": {
      "image/png": "[encoded data removed]",
      "text/plain": [
       "<Figure size 640x480 with 2 Axes>"
      ]
     },
     "metadata": {},
     "output_type": "display_data"
    }
   ],
   "source": [
    "plt.imshow(offset_matrix, cmap='PiYG')\n",
    "plt.title(\"Timing Offset from Co photon emission\")\n",
    "plt.colorbar()\n",
    "plt.xlabel(\"channel\")\n",
    "plt.ylabel(\"channel\")"
   ]
  },
  {
   "cell_type": "code",
   "execution_count": null,
   "metadata": {},
   "outputs": [],
   "source": []
  }
 ],
 "metadata": {
  "kernelspec": {
   "display_name": "base",
   "language": "python",
   "name": "python3"
  },
  "language_info": {
   "codemirror_mode": {
    "name": "ipython",
    "version": 3
   },
   "file_extension": ".py",
   "mimetype": "text/x-python",
   "name": "python",
   "nbconvert_exporter": "python",
   "pygments_lexer": "ipython3",
   "version": "3.10.10"
  }
 },
 "nbformat": 4,
 "nbformat_minor": 2
}
