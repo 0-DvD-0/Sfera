{
 "cells": [
  {
   "cell_type": "code",
   "execution_count": 2,
   "metadata": {},
   "outputs": [
    {
     "name": "stdout",
     "output_type": "stream",
     "text": [
      "Welcome to JupyROOT 6.30/04\n"
     ]
    }
   ],
   "source": [
    "import ROOT\n",
    "import uproot\n",
    "import matplotlib.pyplot as plt\n",
    "import numpy as np\n",
    "import awkward as ak\n",
    "\n",
    "from sklearn.preprocessing import normalize as norm"
   ]
  },
  {
   "cell_type": "code",
   "execution_count": 5,
   "metadata": {},
   "outputs": [
    {
     "name": "stdout",
     "output_type": "stream",
     "text": [
      "name                 | typename                 | interpretation                \n",
      "---------------------+--------------------------+-------------------------------\n",
      "ev                   | int32_t                  | AsDtype('>i4')\n",
      "nch                  | int32_t                  | AsDtype('>i4')\n",
      "ch                   | int32_t[]                | AsJagged(AsDtype('>i4'))\n",
      "base                 | float[]                  | AsJagged(AsDtype('>f4'))\n",
      "amp                  | float[]                  | AsJagged(AsDtype('>f4'))\n",
      "charge               | float[]                  | AsJagged(AsDtype('>f4'))\n",
      "letime               | float[]                  | AsJagged(AsDtype('>f4'))\n",
      "tetime               | float[]                  | AsJagged(AsDtype('>f4'))\n",
      "ratecount            | float[]                  | AsJagged(AsDtype('>f4'))\n",
      "pshape               | float[][1024]            | AsJagged(AsDtype(\"('>f4', (...\n",
      "[[4, 5, 6, 7, 8, 9, 10, 11, 12, 13, 14, 15], ..., [4, 5, 6, 7, ..., 13, 14, 15]]\n",
      "100000\n"
     ]
    }
   ],
   "source": [
    "FILE_PATH = \"../Dati/Run_Na_Couples_CDF20_Data_5_9_2024_Ascii.root\" #Relative file path\n",
    "file = uproot.open(FILE_PATH)\n",
    "file[\"tree\"].show()\n",
    "\n",
    "\n",
    "baselines = np.array(file[\"tree\"][\"base\"].array()) \n",
    "charges = np.array(file[\"tree\"][\"charge\"].array())\n",
    "amp = np.array(file[\"tree\"][\"amp\"].array())\n",
    "lead_edge = np.array(file[\"tree\"][\"letime\"].array())\n",
    "t_edge = np.array(file[\"tree\"][\"tetime\"].array())\n",
    "channel= np.array(file[\"tree\"][\"ch\"].array())\n",
    "waveform = np.array(file[\"tree\"][\"pshape\"].array())\n",
    "\n",
    "nch=file[\"tree\"][\"ch\"].array()\n",
    "print(nch)\n",
    "N_ev=len(charges[:, 0])\n",
    "print(N_ev)"
   ]
  },
  {
   "cell_type": "code",
   "execution_count": 6,
   "metadata": {},
   "outputs": [
    {
     "name": "stdout",
     "output_type": "stream",
     "text": [
      "(100000, 12)\n"
     ]
    }
   ],
   "source": [
    "print(charges.shape)"
   ]
  },
  {
   "cell_type": "code",
   "execution_count": null,
   "metadata": {},
   "outputs": [],
   "source": [
    "def set_flag():\n",
    "    flag=np.zeros((N_ev, 2))\n",
    "    \n",
    "    for i in range(N_ev):\n",
    "    flag[i][0]=np.where( \"condition\" )[0][0]\n",
    "    flag[i][1]=np.where( \"condition\"  )[0][1]\n",
    "\n",
    "    return(flag)\n",
    "\n",
    "#posso controllare come un canale è accoppiato agli altri\n",
    "ch=0\n",
    "msk=np.where(flag[:,0]== ch))[0]\n",
    "plt.hist(flag[msk, :])\n",
    "\n",
    "#"
   ]
  },
  {
   "cell_type": "markdown",
   "metadata": {},
   "source": [
    "ad ogni event è associata una flag, ora devo selezionare tutti gli event con una stessa flag"
   ]
  },
  {
   "cell_type": "code",
   "execution_count": 8,
   "metadata": {},
   "outputs": [
    {
     "name": "stdout",
     "output_type": "stream",
     "text": [
      "0.0\n"
     ]
    },
    {
     "ename": "",
     "evalue": "",
     "output_type": "error",
     "traceback": [
      "\u001b[1;31mThe Kernel crashed while executing code in the current cell or a previous cell. \n",
      "\u001b[1;31mPlease review the code in the cell(s) to identify a possible cause of the failure. \n",
      "\u001b[1;31mClick <a href='https://aka.ms/vscodeJupyterKernelCrash'>here</a> for more info. \n",
      "\u001b[1;31mView Jupyter <a href='command:jupyter.viewOutput'>log</a> for further details."
     ]
    }
   ],
   "source": [
    "#gli elementi della coppia vanno messi in ordine crescente\n",
    "couple=[ , ]\n",
    "idx=np.where((flag[:,0]==couple[0] ) & (flag[:,1]==couple[1]))[0]\n",
    "paired_wf_1=waveform[couple[0]][idx]\n",
    "paired_wf_2=waveform[couple[1]][idx]"
   ]
  },
  {
   "cell_type": "code",
   "execution_count": null,
   "metadata": {},
   "outputs": [],
   "source": [
    "def timing_measurement(paired_wf_1, sampling, shiftR, shiftL, n_mean, thresh):\n",
    "    wf_1_len = len(paired_wf_1)\n",
    "    new_wf_1 = np.array(paired_wf_1).reshape([np.array(paired_wf_1).shape[0], 1, np.array(paired_wf_1).shape[1]])\n",
    "\n",
    "    for evt in range(new_wf_1.shape[0]):\n",
    "    for ch in range(new_wf_1.shape[1]):\n",
    "        bsl_1 = new_wf_1[evt, ch, 0:32].mean()\n",
    "        new_wf_1[evt, ch, :] = np.convolve(new_wf_1[evt, ch], [1/n] * n, mode = \"same\") - bsl_1\n",
    "\n",
    "    new_wf_1 = -norm(-new_wf_1.reshape(-1, 1024), norm = \"max\", axis = 1, copy = True, return_norm = False)\n",
    "    threshold = thr\n",
    "\n",
    "    ledges1 = np.zeros(new_wf_1.shape[0])\n",
    "\n",
    "    for evt in range(new_wf_1.shape[0]):\n",
    "    ledge= np.where(np.diff(np.sign(new_wf_1[evt] - threshold)))[0][0]\n",
    "    coef = np.polyfit(new_wf_1[evt][ledge-shiftL:ledge+shiftR],np.arange(ledge-shiftL, ledge+shiftR),1)\n",
    "    ledges1[evt] = np.poly1d(coef)(threshold) \n",
    "\n",
    "return ledges1*sampling"
   ]
  },
  {
   "cell_type": "code",
   "execution_count": null,
   "metadata": {},
   "outputs": [],
   "source": [
    "#data una coppia e un dataset la funzione ritorna l'offset relativo alla misura di timing\n",
    "def offset_and_resolution_estimation( couple, flag, waveform ):\n",
    "    idx=np.where((flag[:,0]==couple[0] ) & (flag[:,1]==couple[1]))[0]\n",
    "    paired_wf_1=waveform[couple[0]][idx]\n",
    "    paired_wf_2=waveform[couple[1]][idx]\n",
    "    timeres=timing_measurement(paired_wf_1)-timing_measurement(paired_wf_2)\n",
    "    return(np.mean(timeres), np.std(timeres), timeres)\n"
   ]
  },
  {
   "cell_type": "code",
   "execution_count": null,
   "metadata": {},
   "outputs": [],
   "source": [
    "def offet_matrix_filling(nch, flag, waveform):\n",
    "    offset_matrix=np.zeros(nch, nch)\n",
    "    for i in range(nch):\n",
    "        for j in range(i):\n",
    "            offset_matrix[i][j]=offset_and_resolution_estimation([i,j], flag, waveform)\n",
    "            offset_matrix[j][i]=-offset_matrix[i][j]\n",
    "    return(offset_matrix)\n",
    "\n",
    "def offset_matrix_save(offset_matrix):\n",
    "\n",
    "def offset_matrix_load(filename)"
   ]
  },
  {
   "cell_type": "code",
   "execution_count": null,
   "metadata": {},
   "outputs": [],
   "source": []
  },
  {
   "cell_type": "code",
   "execution_count": null,
   "metadata": {},
   "outputs": [],
   "source": [
    "[couple_1, couple_2]"
   ]
  }
 ],
 "metadata": {
  "kernelspec": {
   "display_name": "base",
   "language": "python",
   "name": "python3"
  },
  "language_info": {
   "codemirror_mode": {
    "name": "ipython",
    "version": 3
   },
   "file_extension": ".py",
   "mimetype": "text/x-python",
   "name": "python",
   "nbconvert_exporter": "python",
   "pygments_lexer": "ipython3",
   "version": "3.10.10"
  }
 },
 "nbformat": 4,
 "nbformat_minor": 2
}
