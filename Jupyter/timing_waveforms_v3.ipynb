{
 "cells": [
  {
   "cell_type": "code",
   "execution_count": 30,
   "metadata": {},
   "outputs": [],
   "source": [
    "import ROOT\n",
    "import uproot\n",
    "import matplotlib.pyplot as plt\n",
    "import numpy as np\n",
    "import awkward as ak\n",
    "\n",
    "from sklearn.preprocessing import normalize as norm"
   ]
  },
  {
   "cell_type": "code",
   "execution_count": 4,
   "metadata": {},
   "outputs": [],
   "source": [
    "FILE_PATH = \"../Dati/Run_Na_trigger512_Data_5_17_2024_Ascii.root\" #Relative file path\n",
    "file1 = uproot.open(FILE_PATH)\n",
    "FILE_PATH = \"../Dati/Run_Na_trigger512_Data_5_16_2024_Ascii.root\"\n",
    "file2 = uproot.open(FILE_PATH)\n",
    "FILE_PATH=\"../Dati/Run_Na_trigger512_Data_5_16_2024__0003Ascii.root\"\n",
    "file3 = uproot.open(FILE_PATH)\n"
   ]
  },
  {
   "cell_type": "code",
   "execution_count": 6,
   "metadata": {},
   "outputs": [
    {
     "name": "stdout",
     "output_type": "stream",
     "text": [
      "[[4, 5, 6, 7, 8, 9, 10, 11, 12, 13, 14, 15], ..., [4, 5, 6, 7, ..., 13, 14, 15]]\n"
     ]
    }
   ],
   "source": [
    "nch=file1[\"tree\"][\"ch\"].array()\n",
    "print(nch)"
   ]
  },
  {
   "cell_type": "code",
   "execution_count": 7,
   "metadata": {},
   "outputs": [],
   "source": [
    "baselines = np.concatenate( (file1[\"tree\"][\"base\"].array(), file2[\"tree\"][\"base\"].array(), file3[\"tree\"][\"base\"].array()) , axis=0 ) \n",
    "charges = np.concatenate( (file1[\"tree\"][\"charge\"].array(), file2[\"tree\"][\"charge\"].array(), file3[\"tree\"][\"charge\"].array() ), axis=0 )\n",
    "amp = np.concatenate( (file1[\"tree\"][\"amp\"].array(), file2[\"tree\"][\"amp\"].array(), file3[\"tree\"][\"amp\"].array() ), axis=0 )\n",
    "lead_edge = np.concatenate( (file1[\"tree\"][\"letime\"].array(), file2[\"tree\"][\"letime\"].array(), file3[\"tree\"][\"letime\"].array()), axis=0 )\n",
    "t_edge = np.concatenate( (file1[\"tree\"][\"tetime\"].array(), file2[\"tree\"][\"tetime\"].array(), file3[\"tree\"][\"tetime\"].array()), axis=0 )\n",
    "channel= np.concatenate( (file1[\"tree\"][\"ch\"].array(), file2[\"tree\"][\"ch\"].array(), file3[\"tree\"][\"ch\"].array()), axis=0 )\n",
    "waveform = np.concatenate( (file1[\"tree\"][\"pshape\"].array(), file2[\"tree\"][\"pshape\"].array(), file3[\"tree\"][\"pshape\"].array() ), axis=0 )"
   ]
  },
  {
   "cell_type": "code",
   "execution_count": 8,
   "metadata": {},
   "outputs": [
    {
     "name": "stdout",
     "output_type": "stream",
     "text": [
      "40957\n"
     ]
    }
   ],
   "source": [
    "N_ev=len(charges[:, 0])\n",
    "print(N_ev)"
   ]
  },
  {
   "cell_type": "code",
   "execution_count": 9,
   "metadata": {},
   "outputs": [
    {
     "name": "stdout",
     "output_type": "stream",
     "text": [
      "21\n",
      "1210\n",
      "100\n",
      "101\n",
      "[ 26.  31.  37.  35.  34.  32.  32.  27.  35.  42.  29.  40.  50.  53.\n",
      "  80.  91. 118. 168. 201. 250. 266. 336. 324. 284. 290. 238. 209. 194.\n",
      " 143. 134. 121. 122. 128. 102. 101.  79. 100.  87.  66.  76.  62.  77.\n",
      "  69.  58.  55.  52.  32.  30.  22.  29.  17.  21.  20.  14.  20.  15.\n",
      "  12.  10.   8.  14.   9.   8.   8.   6.   7.  12.   6.   5.   7.  10.\n",
      "  10.   5.   6.   9.   9.   6.   8.   2.   6.   5.   2.   1.   7.   8.\n",
      "   4.   5.   9.   3.   2.   5.   3.   4.   3.   1.   3.   8.   7.   4.\n",
      "   3.  14.]\n",
      "[-2000.  -1980.5 -1961.  -1941.5 -1922.  -1902.5 -1883.  -1863.5 -1844.\n",
      " -1824.5 -1805.  -1785.5 -1766.  -1746.5 -1727.  -1707.5 -1688.  -1668.5\n",
      " -1649.  -1629.5 -1610.  -1590.5 -1571.  -1551.5 -1532.  -1512.5 -1493.\n",
      " -1473.5 -1454.  -1434.5 -1415.  -1395.5 -1376.  -1356.5 -1337.  -1317.5\n",
      " -1298.  -1278.5 -1259.  -1239.5 -1220.  -1200.5 -1181.  -1161.5 -1142.\n",
      " -1122.5 -1103.  -1083.5 -1064.  -1044.5 -1025.  -1005.5  -986.   -966.5\n",
      "  -947.   -927.5  -908.   -888.5  -869.   -849.5  -830.   -810.5  -791.\n",
      "  -771.5  -752.   -732.5  -713.   -693.5  -674.   -654.5  -635.   -615.5\n",
      "  -596.   -576.5  -557.   -537.5  -518.   -498.5  -479.   -459.5  -440.\n",
      "  -420.5  -401.   -381.5  -362.   -342.5  -323.   -303.5  -284.   -264.5\n",
      "  -245.   -225.5  -206.   -186.5  -167.   -147.5  -128.   -108.5   -89.\n",
      "   -69.5   -50. ]\n",
      "-1610.0\n",
      "-1532.0\n"
     ]
    },
    {
     "data": {
      "image/png": "[encoded data removed]",
      "text/plain": [
       "<Figure size 1000x300 with 2 Axes>"
      ]
     },
     "metadata": {},
     "output_type": "display_data"
    }
   ],
   "source": [
    "channel=15\n",
    "\n",
    "\n",
    "plt.figure(figsize=(10,3))\n",
    "plt.subplot(1,2,1)\n",
    "a=plt.hist(amp[:, channel-4], bins=100, range=(-1, -0.03), label='amp')\n",
    "plt.legend()\n",
    "plt.subplot(1,2,2)\n",
    "b=plt.hist(charges[:, channel-4], bins=100, range=(-2000, -50), label='charge')\n",
    "\n",
    "\n",
    "print(np.argmax(b[0]))\n",
    "idx=np.argmax(b[0])\n",
    "mask=np.where( (charges[:,channel-4]>b[1][idx-1]) &( charges[:, channel-4]<b[1][idx+3]))[0]\n",
    "print(len(mask))\n",
    "\n",
    "b1=plt.hist(charges[:, channel-4][mask], bins=100, range=(-2000, -50), label='charge')\n",
    "plt.legend()\n",
    "print(len(b[0]))\n",
    "print(len(b[1]))\n",
    "\n",
    "print(b[0])\n",
    "print(b[1])\n",
    "\n",
    "print(b[1][idx-1])\n",
    "print(b[1][idx+3])\n"
   ]
  },
  {
   "cell_type": "code",
   "execution_count": 34,
   "metadata": {},
   "outputs": [
    {
     "name": "stdout",
     "output_type": "stream",
     "text": [
      "[    0.      0.      0.      0.   -752.  -1278.5  -869.  -1239.5  -986.\n",
      "  -557.   -459.5  -771.5  -401.    -69.5 -1142.  -1610. ]\n",
      "[    0.      0.      0.      0.   -674.  -1200.5  -791.  -1161.5  -908.\n",
      "  -479.   -381.5  -693.5  -323.    -50.  -1064.  -1532. ]\n",
      "[-1 -1 -1 -1  0  1 -1 -1 -1 -1 -1 -1 -1 -1  2  3]\n",
      "[[-752.0, -674.0], [-1142.0, -1064.0]]\n",
      "[[-1278.5, -1200.5], [-1610.0, -1532.0]]\n"
     ]
    }
   ],
   "source": [
    "limL=np.zeros(16)\n",
    "limR=np.zeros(16)\n",
    "for channel in range(4,16):\n",
    "    try:\n",
    "        b=np.histogram(charges[:, channel-4], bins=100, range=(-2000, -50))\n",
    "        idx=np.argmax(b[0])\n",
    "        limL[channel]=b[1][idx-1]\n",
    "        limR[channel]=b[1][idx+3]\n",
    "\n",
    "    except IndexError:\n",
    "        limL[channel]=b[1][idx]\n",
    "        limR[channel]=b[1][idx+1]\n",
    "        continue\n",
    "\n",
    "print(limL)\n",
    "print(limR)\n",
    "\n",
    "canale=[4,5,6,7,8,9,10,11,12,13,14,15]\n",
    "coppia=np.array([ [4,5], [6,7], [8,9], [10,11], [12,13], [14,15] ])\n",
    "coppia=np.array([[4,5], [14,15]])\n",
    "firstch = coppia[:,0]\n",
    "secondch = coppia[:,1]\n",
    "\n",
    "map = np.repeat(-1,16)\n",
    "\n",
    "for i in range(16):\n",
    "    if np.where(coppia.flatten()==i)[0].size>0:\n",
    "        map[i]=np.where(coppia.flatten()==i)[0]\n",
    "print(map)\n",
    "\n",
    "firstch_limits=[ [limL[coppia[i][0]], limR[coppia[i][0]]] for i in range(len(coppia))]\n",
    "secondch_limits=[[limL[coppia[i][1]], limR[coppia[i][1]]] for i in range(len(coppia))]\n",
    "\n",
    "print(firstch_limits)\n",
    "print(secondch_limits)"
   ]
  },
  {
   "cell_type": "code",
   "execution_count": 35,
   "metadata": {},
   "outputs": [],
   "source": [
    "paired_amp_1 = []\n",
    "paired_charge_1 = []\n",
    "paired_letime_1 = []\n",
    "paired_wf_1 = []\n",
    "\n",
    "paired_amp_2 = []\n",
    "paired_charge_2 = []\n",
    "paired_letime_2 = []\n",
    "paired_wf_2 = []\n",
    "\n",
    "whichpair=[]\n",
    "\n",
    "for event in range(N_ev):\n",
    "    for channel1, channel2, limF, limS in zip(map[firstch],map[secondch],firstch_limits,secondch_limits):\n",
    "        #controllo se c'è un evento nel primo della coppia\n",
    "        if(charges[event][channel1] >= limF[0] and charges[event][channel1] <= limF[1]):\n",
    "            #se sì, vedo se ce n'è uno anche nel secondo della coppia\n",
    "            if (charges[event][channel2] >= limS[0] and charges[event][channel2] <= limS[1]):\n",
    "                #salvo i parametri del primo canale della coppia\n",
    "                whichpair.append(channel1)\n",
    "\n",
    "                paired_amp_1.append(amp[event][channel1])\n",
    "                paired_charge_1.append(charges[event][channel1])\n",
    "                paired_letime_1.append(lead_edge[event][channel1])\n",
    "                paired_wf_1.append(waveform[event][channel1])\n",
    "\n",
    "                paired_amp_2.append(amp[event][channel2])\n",
    "                paired_charge_2.append(charges[event][channel2])\n",
    "                paired_letime_2.append(lead_edge[event][channel2])\n",
    "                paired_wf_2.append(waveform[event][channel2])\n",
    "\n",
    "#import gc\n",
    "#del waveform\n",
    "#gc.collect()\n",
    "\n"
   ]
  },
  {
   "cell_type": "code",
   "execution_count": 36,
   "metadata": {},
   "outputs": [
    {
     "name": "stdout",
     "output_type": "stream",
     "text": [
      "71\n"
     ]
    }
   ],
   "source": [
    "print(len(paired_amp_1))"
   ]
  },
  {
   "cell_type": "code",
   "execution_count": 3,
   "metadata": {},
   "outputs": [
    {
     "name": "stdout",
     "output_type": "stream",
     "text": [
      "98.125\n"
     ]
    }
   ],
   "source": [
    "x = [95, 102.5]\n",
    "y = [5, 17]\n",
    "\n",
    "x_new = 10\n",
    "\n",
    "y_new = np.interp(x_new, y,x)\n",
    "print(y_new)\n",
    "# 13.0"
   ]
  },
  {
   "cell_type": "code",
   "execution_count": 37,
   "metadata": {},
   "outputs": [
    {
     "name": "stdout",
     "output_type": "stream",
     "text": [
      "n = 8, \t thr = -1.0\t\n",
      "n = 8, \t thr = -0.9392857142857143\t\n",
      "n = 8, \t thr = -0.8785714285714286\t\n",
      "n = 8, \t thr = -0.8178571428571428\t\n",
      "n = 8, \t thr = -0.7571428571428571\t\n",
      "n = 8, \t thr = -0.6964285714285714\t\n",
      "n = 8, \t thr = -0.6357142857142857\t\n",
      "n = 8, \t thr = -0.575\t\n",
      "n = 8, \t thr = -0.5142857142857142\t\n",
      "n = 8, \t thr = -0.4535714285714286\t\n",
      "n = 8, \t thr = -0.3928571428571429\t\n",
      "n = 8, \t thr = -0.3321428571428572\t\n",
      "n = 8, \t thr = -0.27142857142857146\t\n",
      "n = 8, \t thr = -0.21071428571428574\t\n",
      "n = 8, \t thr = -0.15\t\n"
     ]
    }
   ],
   "source": [
    "stds = np.zeros([1, 15])\n",
    "i = 0\n",
    "j = 0\n",
    "for n in [8]:\n",
    "    for thr in np.linspace(-1, -0.15, 15):\n",
    "        print(f'{n = }, \\t {thr = }\\t')\n",
    "\n",
    "        wf_1_len = len(paired_wf_1)\n",
    "        wf_2_len = len(paired_wf_2)\n",
    "\n",
    "        new_wf_1 = np.array(paired_wf_1).reshape([np.array(paired_wf_1).shape[0], 1, np.array(paired_wf_1).shape[1]])\n",
    "        new_wf_2 = np.array(paired_wf_2).reshape([np.array(paired_wf_2).shape[0], 1, np.array(paired_wf_2).shape[1]])\n",
    "\n",
    "        for evt in range(new_wf_1.shape[0]):\n",
    "            for ch in range(new_wf_1.shape[1]):\n",
    "                bsl_1 = new_wf_1[evt, ch, 0:32].mean()\n",
    "                bsl_2 = new_wf_2[evt, ch, 0:32].mean()\n",
    "                new_wf_1[evt, ch, :] = np.convolve(new_wf_1[evt, ch], [1/n] * n, mode = \"same\") - bsl_1\n",
    "                new_wf_2[evt, ch, :] = np.convolve(new_wf_2[evt, ch], [1/n] * n, mode = \"same\") - bsl_2\n",
    "\n",
    "\n",
    "        new_wf_1 = -norm(-new_wf_1.reshape(-1, 1024), norm = \"max\", axis = 1, copy = True, return_norm = False)\n",
    "        new_wf_2 = -norm(-new_wf_2.reshape(-1, 1024), norm = \"max\", axis = 1, copy = True, return_norm = False)\n",
    "\n",
    "        threshold = thr\n",
    "                \n",
    "\n",
    "        ledges1 = np.zeros(new_wf_1.shape[0])\n",
    "        ledges2 = np.zeros(new_wf_2.shape[0])\n",
    "\n",
    "        for evt in range(new_wf_1.shape[0]):\n",
    "            ledges1[evt] = np.where(np.diff(np.sign(new_wf_1[evt] - threshold)))[0][0]\n",
    "            ledges2[evt] = np.where(np.diff(np.sign(new_wf_2[evt] - threshold)))[0][0]\n",
    "\n",
    "        stds[i][j] = np.std((ledges2 - ledges1)*1.8)\n",
    "        j += 1\n",
    "    j = 0\n",
    "    i += 1"
   ]
  },
  {
   "cell_type": "code",
   "execution_count": 16,
   "metadata": {},
   "outputs": [
    {
     "name": "stdout",
     "output_type": "stream",
     "text": [
      "15.93994137730866\n"
     ]
    },
    {
     "data": {
      "image/png": "[encoded data removed]",
      "text/plain": [
       "<Figure size 640x480 with 1 Axes>"
      ]
     },
     "metadata": {},
     "output_type": "display_data"
    }
   ],
   "source": [
    "for n in [0]:\n",
    "    plt.plot(np.linspace(-1, -0.10, 15), stds[n], '.', label = f'{n=}')\n",
    "plt.legend()\n",
    "plt.xlabel(\"threshold [V]\")\n",
    "plt.ylabel(\"std [ns]\")\n",
    "print(np.min(stds))"
   ]
  },
  {
   "cell_type": "code",
   "execution_count": 38,
   "metadata": {},
   "outputs": [
    {
     "name": "stdout",
     "output_type": "stream",
     "text": [
      "n = 5, \t thr = -0.2\t\n",
      "3.0582637609719043\n",
      "n = 5, \t thr = -0.15\t\n",
      "3.140036734479002\n",
      "n = 8, \t thr = -0.2\t\n",
      "3.0305117133741555\n",
      "n = 8, \t thr = -0.15\t\n",
      "3.122716033931268\n",
      "n = 10, \t thr = -0.2\t\n",
      "2.888416521210194\n",
      "n = 10, \t thr = -0.15\t\n",
      "3.0749291712433426\n",
      "n = 15, \t thr = -0.2\t\n",
      "2.976485973425711\n",
      "n = 15, \t thr = -0.15\t\n",
      "2.8751641257500418\n"
     ]
    },
    {
     "data": {
      "image/png": "[encoded data removed]",
      "text/plain": [
       "<Figure size 640x480 with 1 Axes>"
      ]
     },
     "metadata": {},
     "output_type": "display_data"
    }
   ],
   "source": [
    "stds = np.zeros([5, 3])\n",
    "i = 0\n",
    "j = 0\n",
    "sampling=1.87\n",
    "shift=5\n",
    "\n",
    "for n in [5,8,10,15]:\n",
    "    for thr in [-0.20, -0.15]:\n",
    "        print(f'{n = }, \\t {thr = }\\t')\n",
    "\n",
    "        wf_1_len = len(paired_wf_1)\n",
    "        wf_2_len = len(paired_wf_2)\n",
    "\n",
    "        new_wf_1 = np.array(paired_wf_1).reshape([np.array(paired_wf_1).shape[0], 1, np.array(paired_wf_1).shape[1]])\n",
    "        new_wf_2 = np.array(paired_wf_2).reshape([np.array(paired_wf_2).shape[0], 1, np.array(paired_wf_2).shape[1]])\n",
    "\n",
    "        for evt in range(new_wf_1.shape[0]):\n",
    "            for ch in range(new_wf_1.shape[1]):\n",
    "                bsl_1 = new_wf_1[evt, ch, 0:32].mean()\n",
    "                bsl_2 = new_wf_2[evt, ch, 0:32].mean()\n",
    "                new_wf_1[evt, ch, :] = np.convolve(new_wf_1[evt, ch], [1/n] * n, mode = \"same\") - bsl_1\n",
    "                new_wf_2[evt, ch, :] = np.convolve(new_wf_2[evt, ch], [1/n] * n, mode = \"same\") - bsl_2\n",
    "\n",
    "\n",
    "        new_wf_1 = -norm(-new_wf_1.reshape(-1, 1024), norm = \"max\", axis = 1, copy = True, return_norm = False)\n",
    "        new_wf_2 = -norm(-new_wf_2.reshape(-1, 1024), norm = \"max\", axis = 1, copy = True, return_norm = False)\n",
    "\n",
    "        threshold = thr\n",
    "                \n",
    "\n",
    "        ledges1 = np.zeros(new_wf_1.shape[0])\n",
    "        ledges2 = np.zeros(new_wf_2.shape[0])\n",
    "\n",
    "        for evt in range(new_wf_1.shape[0]):\n",
    "            ledge= np.where(np.diff(np.sign(new_wf_1[evt] - threshold)))[0][0]\n",
    "            ledges1[evt]=np.interp(threshold,  [new_wf_1[evt][ledge-shift], new_wf_1[evt][ledge+shift]], [ledge-shift, ledge+shift])\n",
    "\n",
    "            ledge = np.where(np.diff(np.sign(new_wf_2[evt] - threshold)))[0][0]\n",
    "            ledges2[evt]=np.interp(threshold,  [new_wf_2[evt][ledge-shift], new_wf_2[evt][ledge+shift]], [ledge-shift, ledge+shift])\n",
    "\n",
    "        \n",
    "\n",
    "        timeres=ledges1-ledges2\n",
    "        plt.hist(timeres*sampling, bins=50, range=(-20,20))\n",
    "\n",
    "        mask=np.where(np.abs(timeres*sampling) < 10)[0]\n",
    "\n",
    "        print(np.std(sampling*timeres[mask]))\n",
    "\n",
    "        stds[i][j] = np.std(sampling*timeres[mask])\n",
    "        j += 1\n",
    "    j = 0\n",
    "    i += 1\n",
    "\n",
    "\n",
    "#4.1669487180823195"
   ]
  },
  {
   "cell_type": "code",
   "execution_count": null,
   "metadata": {},
   "outputs": [],
   "source": [
    "paired_letime_1=np.array(paired_letime_1)\n",
    "paired_letime_2=np.array(paired_letime_2)\n",
    "plt.hist(paired_letime_1-paired_letime_2, bins=20, range=(-100,100) )\n",
    "print(np.std(paired_letime_1-paired_letime_2))"
   ]
  },
  {
   "cell_type": "code",
   "execution_count": null,
   "metadata": {},
   "outputs": [],
   "source": []
  }
 ],
 "metadata": {
  "kernelspec": {
   "display_name": "base",
   "language": "python",
   "name": "python3"
  },
  "language_info": {
   "codemirror_mode": {
    "name": "ipython",
    "version": 3
   },
   "file_extension": ".py",
   "mimetype": "text/x-python",
   "name": "python",
   "nbconvert_exporter": "python",
   "pygments_lexer": "ipython3",
   "version": "3.10.10"
  }
 },
 "nbformat": 4,
 "nbformat_minor": 2
}
