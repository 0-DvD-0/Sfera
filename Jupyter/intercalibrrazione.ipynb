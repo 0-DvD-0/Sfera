{
 "cells": [
  {
   "cell_type": "code",
   "execution_count": 1,
   "metadata": {},
   "outputs": [],
   "source": [
    "import pandas as pd\n",
    "import numpy as np\n",
    "import matplotlib.pyplot as plt\n",
    "import pickle"
   ]
  },
  {
   "cell_type": "markdown",
   "metadata": {},
   "source": [
    "Intercalibrazione"
   ]
  },
  {
   "cell_type": "code",
   "execution_count": 2,
   "metadata": {},
   "outputs": [
    {
     "data": {
      "text/html": [
       "<div>\n",
       "<style scoped>\n",
       "    .dataframe tbody tr th:only-of-type {\n",
       "        vertical-align: middle;\n",
       "    }\n",
       "\n",
       "    .dataframe tbody tr th {\n",
       "        vertical-align: top;\n",
       "    }\n",
       "\n",
       "    .dataframe thead th {\n",
       "        text-align: right;\n",
       "    }\n",
       "</style>\n",
       "<table border=\"1\" class=\"dataframe\">\n",
       "  <thead>\n",
       "    <tr style=\"text-align: right;\">\n",
       "      <th></th>\n",
       "      <th>12 aprile</th>\n",
       "      <th>val</th>\n",
       "      <th>err_stat</th>\n",
       "      <th>err_sist [pC]</th>\n",
       "    </tr>\n",
       "  </thead>\n",
       "  <tbody>\n",
       "    <tr>\n",
       "      <th>0</th>\n",
       "      <td>0</td>\n",
       "      <td>-309.82201</td>\n",
       "      <td>0.077</td>\n",
       "      <td>1.20</td>\n",
       "    </tr>\n",
       "    <tr>\n",
       "      <th>1</th>\n",
       "      <td>1</td>\n",
       "      <td>NaN</td>\n",
       "      <td>NaN</td>\n",
       "      <td>NaN</td>\n",
       "    </tr>\n",
       "    <tr>\n",
       "      <th>2</th>\n",
       "      <td>2</td>\n",
       "      <td>-330.64100</td>\n",
       "      <td>0.088</td>\n",
       "      <td>1.60</td>\n",
       "    </tr>\n",
       "    <tr>\n",
       "      <th>3</th>\n",
       "      <td>3</td>\n",
       "      <td>-319.28000</td>\n",
       "      <td>0.140</td>\n",
       "      <td>1.90</td>\n",
       "    </tr>\n",
       "    <tr>\n",
       "      <th>4</th>\n",
       "      <td>4</td>\n",
       "      <td>-295.11100</td>\n",
       "      <td>0.070</td>\n",
       "      <td>0.60</td>\n",
       "    </tr>\n",
       "    <tr>\n",
       "      <th>5</th>\n",
       "      <td>5</td>\n",
       "      <td>-295.76800</td>\n",
       "      <td>NaN</td>\n",
       "      <td>1.10</td>\n",
       "    </tr>\n",
       "    <tr>\n",
       "      <th>6</th>\n",
       "      <td>6</td>\n",
       "      <td>-284.11000</td>\n",
       "      <td>0.100</td>\n",
       "      <td>1.90</td>\n",
       "    </tr>\n",
       "    <tr>\n",
       "      <th>7</th>\n",
       "      <td>7</td>\n",
       "      <td>-339.05600</td>\n",
       "      <td>0.062</td>\n",
       "      <td>1.20</td>\n",
       "    </tr>\n",
       "    <tr>\n",
       "      <th>8</th>\n",
       "      <td>8</td>\n",
       "      <td>-311.56600</td>\n",
       "      <td>0.075</td>\n",
       "      <td>1.30</td>\n",
       "    </tr>\n",
       "    <tr>\n",
       "      <th>9</th>\n",
       "      <td>9</td>\n",
       "      <td>-286.21000</td>\n",
       "      <td>0.220</td>\n",
       "      <td>7.00</td>\n",
       "    </tr>\n",
       "    <tr>\n",
       "      <th>10</th>\n",
       "      <td>10</td>\n",
       "      <td>-379.95000</td>\n",
       "      <td>0.230</td>\n",
       "      <td>4.00</td>\n",
       "    </tr>\n",
       "    <tr>\n",
       "      <th>11</th>\n",
       "      <td>11</td>\n",
       "      <td>-291.92000</td>\n",
       "      <td>0.100</td>\n",
       "      <td>0.35</td>\n",
       "    </tr>\n",
       "    <tr>\n",
       "      <th>12</th>\n",
       "      <td>12</td>\n",
       "      <td>NaN</td>\n",
       "      <td>NaN</td>\n",
       "      <td>NaN</td>\n",
       "    </tr>\n",
       "    <tr>\n",
       "      <th>13</th>\n",
       "      <td>13</td>\n",
       "      <td>NaN</td>\n",
       "      <td>NaN</td>\n",
       "      <td>NaN</td>\n",
       "    </tr>\n",
       "    <tr>\n",
       "      <th>14</th>\n",
       "      <td>14</td>\n",
       "      <td>-317.27000</td>\n",
       "      <td>0.140</td>\n",
       "      <td>0.16</td>\n",
       "    </tr>\n",
       "    <tr>\n",
       "      <th>15</th>\n",
       "      <td>15</td>\n",
       "      <td>-315.34000</td>\n",
       "      <td>0.100</td>\n",
       "      <td>0.65</td>\n",
       "    </tr>\n",
       "  </tbody>\n",
       "</table>\n",
       "</div>"
      ],
      "text/plain": [
       "    12 aprile        val  err_stat  err_sist [pC]\n",
       "0           0 -309.82201     0.077           1.20\n",
       "1           1        NaN       NaN            NaN\n",
       "2           2 -330.64100     0.088           1.60\n",
       "3           3 -319.28000     0.140           1.90\n",
       "4           4 -295.11100     0.070           0.60\n",
       "5           5 -295.76800       NaN           1.10\n",
       "6           6 -284.11000     0.100           1.90\n",
       "7           7 -339.05600     0.062           1.20\n",
       "8           8 -311.56600     0.075           1.30\n",
       "9           9 -286.21000     0.220           7.00\n",
       "10         10 -379.95000     0.230           4.00\n",
       "11         11 -291.92000     0.100           0.35\n",
       "12         12        NaN       NaN            NaN\n",
       "13         13        NaN       NaN            NaN\n",
       "14         14 -317.27000     0.140           0.16\n",
       "15         15 -315.34000     0.100           0.65"
      ]
     },
     "metadata": {},
     "output_type": "display_data"
    }
   ],
   "source": [
    "PATH=\"../Dati/InterCalibrazione - Foglio1.csv\"  #importo il file con la calibrazione\n",
    "data=pd.read_csv(PATH, sep=',', decimal=',')\n",
    "display(data)\n",
    "#Ch=np.array(data[\"12 aprile\"])       #indice del canale \n",
    "peak_centers=np.array(data[\"val\"])     #posizioni dei picchi\n",
    "peak_err_stat=np.array(data[\"err_stat\"])      #errori stocastici sulla posizione dei picchi\n",
    "peak_err_sist=np.array(data[\"err_sist [pC]\"])\n",
    "peak_err=np.sqrt(peak_err_stat**2 + (0.34*peak_err_sist)**2)\n"
   ]
  },
  {
   "cell_type": "code",
   "execution_count": 3,
   "metadata": {},
   "outputs": [],
   "source": [
    "channel_ref=7"
   ]
  },
  {
   "cell_type": "code",
   "execution_count": 4,
   "metadata": {},
   "outputs": [
    {
     "name": "stdout",
     "output_type": "stream",
     "text": [
      "[0.91377828        nan 0.97518109 0.94167335 0.87039014 0.87232788\n",
      " 0.83794417 1.         0.91892195 0.84413784 1.12061134 0.86097872\n",
      "        nan        nan 0.93574513 0.93005285]\n",
      "[-0.00122458         nan -0.00162531 -0.00194952 -0.00063611         nan\n",
      " -0.00192798  0.         -0.00132225 -0.00704941 -0.00406809 -0.00045844\n",
      "         nan         nan -0.00044299 -0.00071543]\n"
     ]
    }
   ],
   "source": [
    "coeff_cal=peak_centers/peak_centers[channel_ref]\n",
    "coeff_err=peak_err/peak_centers[channel_ref]\n",
    "coeff_err[channel_ref]=0\n",
    "print(coeff_cal)\n",
    "print(coeff_err)"
   ]
  },
  {
   "cell_type": "code",
   "execution_count": 5,
   "metadata": {},
   "outputs": [
    {
     "name": "stdout",
     "output_type": "stream",
     "text": [
      "[-339.056      nan -339.056 -339.056 -339.056 -339.056 -339.056 -339.056\n",
      " -339.056 -339.056 -339.056 -339.056 -339.056 -339.056]\n",
      "[-339.056      nan -339.056 -339.056 -339.056 -339.056 -339.056 -339.056\n",
      " -339.056 -339.056 -339.056 -339.056 -339.056 -339.056]\n",
      "[0.64259002        nan 0.79916751 0.9926901  0.35043076        nan\n",
      " 1.1032514  0.4126839  0.68995778 4.00429568 1.74069353 0.25531718\n",
      " 0.22699736 0.36884796]\n"
     ]
    }
   ],
   "source": [
    "list=[0,1,2,3,4,5,6,7,8,9,10,11,14,15]\n",
    "train_peak_centers=np.array([peak_centers[i]/coeff_cal[i] for i in list])\n",
    "print(train_peak_centers)\n",
    "train_peak_errors=np.array([np.sqrt((peak_err[i]/coeff_cal[i])**2 + (coeff_err[i]*peak_centers[i]/coeff_cal[i]**2)**2) for i in list])\n",
    "\n",
    "print(train_peak_centers)\n",
    "print(train_peak_errors)\n"
   ]
  },
  {
   "cell_type": "code",
   "execution_count": 6,
   "metadata": {},
   "outputs": [
    {
     "data": {
      "text/plain": [
       "<matplotlib.legend.Legend at 0x7f4d66402e00>"
      ]
     },
     "execution_count": 6,
     "metadata": {},
     "output_type": "execute_result"
    },
    {
     "data": {
      "image/png": "[encoded data removed]",
      "text/plain": [
       "<Figure size 640x480 with 1 Axes>"
      ]
     },
     "metadata": {},
     "output_type": "display_data"
    }
   ],
   "source": [
    "#plot\n",
    "plt.errorbar(list, train_peak_centers, yerr=train_peak_errors, ls='', marker='o', color='navy')\n",
    "plt.plot(list, 0*np.array(list) + peak_centers[channel_ref], color='orchid', ls='--', label='Reference channel n.{}'.format(channel_ref))\n",
    "plt.xlabel('Channel')\n",
    "plt.ylabel('Intercalibrated peak charge')\n",
    "plt.legend()"
   ]
  },
  {
   "cell_type": "markdown",
   "metadata": {},
   "source": [
    "##  Test"
   ]
  },
  {
   "cell_type": "code",
   "execution_count": 7,
   "metadata": {},
   "outputs": [
    {
     "data": {
      "text/html": [
       "<div>\n",
       "<style scoped>\n",
       "    .dataframe tbody tr th:only-of-type {\n",
       "        vertical-align: middle;\n",
       "    }\n",
       "\n",
       "    .dataframe tbody tr th {\n",
       "        vertical-align: top;\n",
       "    }\n",
       "\n",
       "    .dataframe thead th {\n",
       "        text-align: right;\n",
       "    }\n",
       "</style>\n",
       "<table border=\"1\" class=\"dataframe\">\n",
       "  <thead>\n",
       "    <tr style=\"text-align: right;\">\n",
       "      <th></th>\n",
       "      <th>ch</th>\n",
       "      <th>val</th>\n",
       "      <th>err_stat</th>\n",
       "      <th>err_sist</th>\n",
       "    </tr>\n",
       "  </thead>\n",
       "  <tbody>\n",
       "    <tr>\n",
       "      <th>0</th>\n",
       "      <td>0</td>\n",
       "      <td>-310.39</td>\n",
       "      <td>0.12</td>\n",
       "      <td>1.00</td>\n",
       "    </tr>\n",
       "    <tr>\n",
       "      <th>1</th>\n",
       "      <td>1</td>\n",
       "      <td>NaN</td>\n",
       "      <td>NaN</td>\n",
       "      <td>NaN</td>\n",
       "    </tr>\n",
       "    <tr>\n",
       "      <th>2</th>\n",
       "      <td>2</td>\n",
       "      <td>-337.12</td>\n",
       "      <td>0.17</td>\n",
       "      <td>2.00</td>\n",
       "    </tr>\n",
       "    <tr>\n",
       "      <th>3</th>\n",
       "      <td>3</td>\n",
       "      <td>-320.46</td>\n",
       "      <td>0.20</td>\n",
       "      <td>3.00</td>\n",
       "    </tr>\n",
       "    <tr>\n",
       "      <th>4</th>\n",
       "      <td>4</td>\n",
       "      <td>NaN</td>\n",
       "      <td>NaN</td>\n",
       "      <td>NaN</td>\n",
       "    </tr>\n",
       "    <tr>\n",
       "      <th>5</th>\n",
       "      <td>5</td>\n",
       "      <td>-297.34</td>\n",
       "      <td>0.13</td>\n",
       "      <td>1.00</td>\n",
       "    </tr>\n",
       "    <tr>\n",
       "      <th>6</th>\n",
       "      <td>6</td>\n",
       "      <td>-278.20</td>\n",
       "      <td>0.20</td>\n",
       "      <td>3.00</td>\n",
       "    </tr>\n",
       "    <tr>\n",
       "      <th>7</th>\n",
       "      <td>7</td>\n",
       "      <td>-343.15</td>\n",
       "      <td>0.12</td>\n",
       "      <td>2.00</td>\n",
       "    </tr>\n",
       "    <tr>\n",
       "      <th>8</th>\n",
       "      <td>8</td>\n",
       "      <td>-317.29</td>\n",
       "      <td>0.12</td>\n",
       "      <td>1.00</td>\n",
       "    </tr>\n",
       "    <tr>\n",
       "      <th>9</th>\n",
       "      <td>9</td>\n",
       "      <td>-262.04</td>\n",
       "      <td>0.83</td>\n",
       "      <td>10.00</td>\n",
       "    </tr>\n",
       "    <tr>\n",
       "      <th>10</th>\n",
       "      <td>10</td>\n",
       "      <td>-377.67</td>\n",
       "      <td>0.21</td>\n",
       "      <td>4.00</td>\n",
       "    </tr>\n",
       "    <tr>\n",
       "      <th>11</th>\n",
       "      <td>11</td>\n",
       "      <td>NaN</td>\n",
       "      <td>0.24</td>\n",
       "      <td>0.48</td>\n",
       "    </tr>\n",
       "    <tr>\n",
       "      <th>12</th>\n",
       "      <td>12</td>\n",
       "      <td>NaN</td>\n",
       "      <td>NaN</td>\n",
       "      <td>NaN</td>\n",
       "    </tr>\n",
       "    <tr>\n",
       "      <th>13</th>\n",
       "      <td>13</td>\n",
       "      <td>NaN</td>\n",
       "      <td>NaN</td>\n",
       "      <td>NaN</td>\n",
       "    </tr>\n",
       "    <tr>\n",
       "      <th>14</th>\n",
       "      <td>14</td>\n",
       "      <td>-323.79</td>\n",
       "      <td>0.32</td>\n",
       "      <td>0.37</td>\n",
       "    </tr>\n",
       "    <tr>\n",
       "      <th>15</th>\n",
       "      <td>15</td>\n",
       "      <td>-315.58</td>\n",
       "      <td>0.26</td>\n",
       "      <td>1.47</td>\n",
       "    </tr>\n",
       "  </tbody>\n",
       "</table>\n",
       "</div>"
      ],
      "text/plain": [
       "    ch      val  err_stat  err_sist\n",
       "0     0 -310.39      0.12      1.00\n",
       "1     1     NaN       NaN       NaN\n",
       "2     2 -337.12      0.17      2.00\n",
       "3     3 -320.46      0.20      3.00\n",
       "4     4     NaN       NaN       NaN\n",
       "5     5 -297.34      0.13      1.00\n",
       "6     6 -278.20      0.20      3.00\n",
       "7     7 -343.15      0.12      2.00\n",
       "8     8 -317.29      0.12      1.00\n",
       "9     9 -262.04      0.83     10.00\n",
       "10   10 -377.67      0.21      4.00\n",
       "11   11     NaN      0.24      0.48\n",
       "12   12     NaN       NaN       NaN\n",
       "13   13     NaN       NaN       NaN\n",
       "14   14 -323.79      0.32      0.37\n",
       "15   15 -315.58      0.26      1.47"
      ]
     },
     "metadata": {},
     "output_type": "display_data"
    },
    {
     "name": "stdout",
     "output_type": "stream",
     "text": [
      "[-339.67758404           nan -345.69989421 -340.30908845           nan\n",
      " -340.85807471 -332.00302418 -343.15       -345.28503829 -310.42323553\n",
      " -337.02139629           nan -346.02370927 -339.31404985]\n",
      "[ 1.19251097         nan  2.13741832  3.26969586         nan         nan\n",
      "  3.66855009  2.00359677  1.20339035 12.1665286   3.77798701         nan\n",
      "  0.54783765  1.62617146]\n"
     ]
    }
   ],
   "source": [
    "PATH=\"../Dati/InterCalibrazione - Test.csv\"  #importo il file con i nuovi picchi da verificare\n",
    "data=pd.read_csv(PATH, sep=',', decimal=',')\n",
    "display(data)\n",
    "#Ch=np.array(data[\"ch\"])       #indice del canale \n",
    "peak_centers=np.array(data[\"val\"])     #posizioni dei picchi\n",
    "peak_err_stat=np.array(data[\"err_stat\"])      #errori stocastici sulla posizione dei picchi\n",
    "\n",
    "peak_err_sist=np.array(data[\"err_sist\"])\n",
    "peak_err=np.sqrt(peak_err_stat**2 + peak_err_sist**2)\n",
    "\n",
    "\n",
    "###########################################################################\n",
    "test_peak_centers=np.array([peak_centers[i]/coeff_cal[i] for i in list])\n",
    "print(test_peak_centers)\n",
    "test_peak_errors=np.array([np.sqrt((peak_err[i]/coeff_cal[i])**2 + (coeff_err[i]*peak_centers[i]/coeff_cal[i]**2)**2) for i in list])\n",
    "\n",
    "print(test_peak_errors)\n"
   ]
  },
  {
   "cell_type": "code",
   "execution_count": 8,
   "metadata": {},
   "outputs": [
    {
     "data": {
      "text/plain": [
       "<matplotlib.legend.Legend at 0x7f4d664fb2e0>"
      ]
     },
     "execution_count": 8,
     "metadata": {},
     "output_type": "execute_result"
    },
    {
     "data": {
      "image/png": "[encoded data removed]",
      "text/plain": [
       "<Figure size 640x480 with 1 Axes>"
      ]
     },
     "metadata": {},
     "output_type": "display_data"
    }
   ],
   "source": [
    "#plot\n",
    "plt.errorbar(list, test_peak_centers, yerr=test_peak_errors, ls='', marker='o', color='navy')\n",
    "plt.plot(list, 0*np.array(list) + peak_centers[channel_ref], color='orchid', ls='--', label='Reference channel n.{}'.format(channel_ref))\n",
    "plt.xlabel('Channel')\n",
    "plt.ylabel('Intercalibrated peak charge')\n",
    "plt.legend()\n",
    "    "
   ]
  },
  {
   "cell_type": "code",
   "execution_count": null,
   "metadata": {},
   "outputs": [],
   "source": []
  },
  {
   "cell_type": "code",
   "execution_count": null,
   "metadata": {},
   "outputs": [],
   "source": []
  }
 ],
 "metadata": {
  "kernelspec": {
   "display_name": "Python 3 (ipykernel)",
   "language": "python",
   "name": "python3"
  },
  "language_info": {
   "codemirror_mode": {
    "name": "ipython",
    "version": 3
   },
   "file_extension": ".py",
   "mimetype": "text/x-python",
   "name": "python",
   "nbconvert_exporter": "python",
   "pygments_lexer": "ipython3",
   "version": "3.10.12"
  }
 },
 "nbformat": 4,
 "nbformat_minor": 4
}
