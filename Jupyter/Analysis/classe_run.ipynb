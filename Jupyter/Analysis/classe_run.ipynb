{
 "cells": [
  {
   "cell_type": "code",
   "execution_count": 42,
   "metadata": {},
   "outputs": [],
   "source": [
    "import ROOT\n",
    "import uproot\n",
    "import matplotlib.pyplot as plt\n",
    "import numpy as np\n",
    "import scipy\n",
    "from scipy import fft"
   ]
  },
  {
   "cell_type": "code",
   "execution_count": 50,
   "metadata": {},
   "outputs": [],
   "source": []
  },
  {
   "cell_type": "code",
   "execution_count": 107,
   "metadata": {},
   "outputs": [],
   "source": [
    "class Run():\n",
    "    threshold_=0.01\n",
    "    def __init__(self, file_name, offset, Vmax, trigger):\n",
    "         #True=con waveforms, False=senza waveforms\n",
    "         \n",
    "         self.file_name=file_name\n",
    "         self.offset=offset #offset oscilloscopio\n",
    "         self.Vmax=Vmax #voltaggio dell'alta tensione\n",
    "         self.trigger=trigger \n",
    "\n",
    "         self.file=uproot.open(self.file_name)\n",
    "         self.tree=self.file['tree']\n",
    "         self.branches=self.tree.arrays()\n",
    "            \n",
    "         self.baselines=np.array(self.branches['base']).ravel()\n",
    "         self.charges=np.array(self.branches['charge']).ravel()\n",
    "         self.amplitudes=np.array(self.branches['amp']).ravel()\n",
    "         \n",
    "    \n",
    "    #elimina gli eventi a carica positiva dai parametri di wavecatcher\n",
    "    def pre_filter(self):  \n",
    "        threshold=0.\n",
    "        saturation=-1.250\n",
    "        index=np.logical_and(self.charges<=threshold, self.amplitudes>saturation)\n",
    "        self.baselines=self.baselines[index]\n",
    "        self.charges=self.charges[index]\n",
    "        self.amplitudes=self.amplitudes[index]\n",
    "\n",
    "    def charge_spectrum(self, bin_inp, density=False, lims=(-1000, 0)):\n",
    "        bins, edges, _ = plt.hist(self.charges, bins=bin_inp, density=density, range=lims)\n",
    "        plt.ylabel(\"counts\")\n",
    "        plt.xlabel(\"charge [pC]\")\n",
    "        return(bins, edges)\n",
    "\n",
    "    def amplitude_spectrum(self):\n",
    "        return 0\n",
    "        \n",
    "    \n"
   ]
  },
  {
   "cell_type": "code",
   "execution_count": 97,
   "metadata": {},
   "outputs": [],
   "source": [
    "class Run_wave(Run):\n",
    "    def __init__(self, file_name, offset, Vmax, trigger):\n",
    "        super().__init__(file_name, offset, Vmax, trigger)\n",
    "        self.waveforms=np.array(self.branches['pshape']).reshape((max(self.branches['ev']),1024)) \n",
    "        \n",
    "\n",
    "    #calcola la media dei primi 16 elementi\n",
    "    def baseline_measurement(self):\n",
    "       i=0\n",
    "       baseline=[]\n",
    "       for i in range(len(self.branches['ev'])):\n",
    "        baseline.append(np.mean(self.waveforms[i][:16]))\n",
    "       return np.array(baseline)\n",
    "\n",
    "    #calcola minimo-baseline  \n",
    "    def amplitude_measurement(self):\n",
    "       #amplitude=[]\n",
    "       amplitude=[np.min(self.waveforms[i]) for i in range(max(self.branches['ev']))]\n",
    "       return np.array(amplitude)-self.baseline_measurement()\n",
    "\n",
    "    #integra dal primo quarto di divisione fino all'ultimo quarto   \n",
    "    def charge_measurement(self):\n",
    "        start=int(0.25*1024/16)\n",
    "        stop=int(15.50*1024/16)\n",
    "        charge=[np.trapz(self.waveforms[i][start:stop]-self.baselines[i]) for i in range(max(self.branches['ev']))]\n",
    "        return np.array(charge)"
   ]
  },
  {
   "cell_type": "code",
   "execution_count": 108,
   "metadata": {},
   "outputs": [
    {
     "name": "stdout",
     "output_type": "stream",
     "text": [
      "100000\n",
      "85262\n",
      "-6154.341\n"
     ]
    },
    {
     "data": {
      "image/png": "[encoded data removed]",
      "text/plain": [
       "<Figure size 640x480 with 1 Axes>"
      ]
     },
     "metadata": {},
     "output_type": "display_data"
    }
   ],
   "source": [
    "data=Run_wave(\"../Dati/Run_ch0_Data_3_14_2024_Ascii.root\", 0, 1500, -0.03) \n",
    "data2=Run(\"../Dati/Run_ch2_Cs_Measurements_Only_3_21_2024.root\", 0, 1800, -0.03 ) \n",
    "print(len(data2.baselines))\n",
    "baseline_meas=data.baseline_measurement()\n",
    "data2.pre_filter()\n",
    "print(len(data2.baselines))\n",
    "\n",
    "plt.fig()\n",
    "data2.charge_spectrum(50, False)\n",
    "plt.title()\n",
    "print(np.min(data2.charges))\n",
    "\n"
   ]
  },
  {
   "cell_type": "code",
   "execution_count": 47,
   "metadata": {},
   "outputs": [
    {
     "name": "stdout",
     "output_type": "stream",
     "text": [
      "[-348.971 -231.982 -299.858 ... -181.209 -232.421 -612.068]\n"
     ]
    },
    {
     "ename": "AttributeError",
     "evalue": "'Run' object has no attribute 'baseline_measurement'",
     "output_type": "error",
     "traceback": [
      "\u001b[0;31m---------------------------------------------------------------------------\u001b[0m",
      "\u001b[0;31mAttributeError\u001b[0m                            Traceback (most recent call last)",
      "Cell \u001b[0;32mIn[47], line 6\u001b[0m\n\u001b[1;32m      4\u001b[0m saturation\u001b[38;5;241m=\u001b[39m\u001b[38;5;241m-\u001b[39m\u001b[38;5;241m1.250\u001b[39m\n\u001b[1;32m      5\u001b[0m \u001b[38;5;28mprint\u001b[39m(data\u001b[38;5;241m.\u001b[39mcharges)\n\u001b[0;32m----> 6\u001b[0m baselines_meas\u001b[38;5;241m=\u001b[39m\u001b[43mdata\u001b[49m\u001b[38;5;241;43m.\u001b[39;49m\u001b[43mbaseline_measurement\u001b[49m()\n\u001b[1;32m      7\u001b[0m \u001b[38;5;28mprint\u001b[39m()\n",
      "\u001b[0;31mAttributeError\u001b[0m: 'Run' object has no attribute 'baseline_measurement'"
     ]
    }
   ],
   "source": [
    "#data=Run(\"../Dati/Run_ch2_Cs_Measurements_Only_3_21_2024.root\", 0, 1450, -0.03, measurements='MO' )   #../ sale sopra di una cartella\n",
    "data=Run(\"../Dati/Run_ch0_Data_3_14_2024_Ascii.root\", 0, 1500, -0.03)\n",
    "threshold=0\n",
    "saturation=-1.250\n",
    "print(data.charges)\n",
    "baselines_meas=data.baseline_measurement()\n",
    "print()\n",
    "\n"
   ]
  },
  {
   "cell_type": "code",
   "execution_count": null,
   "metadata": {},
   "outputs": [],
   "source": []
  }
 ],
 "metadata": {
  "kernelspec": {
   "display_name": "base",
   "language": "python",
   "name": "python3"
  },
  "language_info": {
   "codemirror_mode": {
    "name": "ipython",
    "version": 3
   },
   "file_extension": ".py",
   "mimetype": "text/x-python",
   "name": "python",
   "nbconvert_exporter": "python",
   "pygments_lexer": "ipython3",
   "version": "3.10.12"
  }
 },
 "nbformat": 4,
 "nbformat_minor": 2
}
