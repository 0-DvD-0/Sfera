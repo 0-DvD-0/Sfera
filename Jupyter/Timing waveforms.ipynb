{
 "cells": [
  {
   "cell_type": "code",
   "execution_count": 1,
   "id": "21a31bef-f0b8-4536-ae7f-da5cced7f485",
   "metadata": {
    "metadata": {}
   },
   "outputs": [
    {
     "name": "stdout",
     "output_type": "stream",
     "text": [
      "Welcome to JupyROOT 6.30/04\n"
     ]
    }
   ],
   "source": [
    "import ROOT\n",
    "import uproot\n",
    "import matplotlib.pyplot as plt\n",
    "import scipy as scp\n",
    "from scipy.integrate import trapezoid\n",
    "import numpy as np\n",
    "import awkward as ak"
   ]
  },
  {
   "cell_type": "code",
   "execution_count": 58,
   "id": "bba78b4b",
   "metadata": {
    "metadata": {}
   },
   "outputs": [
    {
     "name": "stdout",
     "output_type": "stream",
     "text": [
      "name                 | typename                 | interpretation                \n",
      "---------------------+--------------------------+-------------------------------\n",
      "ev                   | int32_t                  | AsDtype('>i4')\n",
      "nch                  | int32_t                  | AsDtype('>i4')\n",
      "ch                   | int32_t[]                | AsJagged(AsDtype('>i4'))\n",
      "base                 | float[]                  | AsJagged(AsDtype('>f4'))\n",
      "amp                  | float[]                  | AsJagged(AsDtype('>f4'))\n",
      "charge               | float[]                  | AsJagged(AsDtype('>f4'))\n",
      "letime               | float[]                  | AsJagged(AsDtype('>f4'))\n",
      "tetime               | float[]                  | AsJagged(AsDtype('>f4'))\n",
      "ratecount            | float[]                  | AsJagged(AsDtype('>f4'))\n",
      "pshape               | float[][1024]            | AsJagged(AsDtype(\"('>f4', (...\n"
     ]
    }
   ],
   "source": [
    "#Open root file with both shapes and measurements\n",
    "\n",
    "FILE_PATH = \"../Dati/Run_Na_Prva_Data_5_9_2024_Ascii.root\" #Relative file path\n",
    "file = uproot.open(FILE_PATH)\n",
    "file[\"tree\"].show() #Display contents"
   ]
  },
  {
   "cell_type": "code",
   "execution_count": 59,
   "id": "1a80aad8",
   "metadata": {
    "metadata": {}
   },
   "outputs": [
    {
     "name": "stdout",
     "output_type": "stream",
     "text": [
      "<class 'awkward.highlevel.Array'>\n",
      "[2, 2, 2, 2, 2, 2, 2, 2, 2, 2, 2, 2, 2, ..., 2, 2, 2, 2, 2, 2, 2, 2, 2, 2, 2, 2]\n",
      "[2]\n"
     ]
    }
   ],
   "source": [
    "print(type(file[\"tree\"][\"base\"].array()))\n",
    "bl=file[\"tree\"][\"base\"].array()\n",
    "print(ak.num(bl))\n",
    "bl = bl[:-1]\n",
    "print(np.unique(ak.num(bl)))\n",
    "#l'ultimo array aveva una forma diversa, quindi l'ho tagliato altrimenti faceva casini"
   ]
  },
  {
   "cell_type": "code",
   "execution_count": 60,
   "id": "b516a8eb",
   "metadata": {
    "metadata": {}
   },
   "outputs": [
    {
     "name": "stdout",
     "output_type": "stream",
     "text": [
      "[[5, 13], [5, 13], [5, 13], [5, 13], ..., [5, ...], [5, 13], [5, 13], [5, 13]]\n"
     ]
    }
   ],
   "source": [
    "nch=file[\"tree\"][\"ch\"].array()[:-1]\n",
    "print(nch)"
   ]
  },
  {
   "cell_type": "code",
   "execution_count": 77,
   "id": "6b82a446",
   "metadata": {
    "metadata": {}
   },
   "outputs": [],
   "source": [
    "#Load data to numpy arrays\n",
    "\n",
    "baselines = np.array(file[\"tree\"][\"base\"].array()[:-1]) #il [:-1] toglie l'ultimo evento che si è splittato male\n",
    "charges = np.array(file[\"tree\"][\"charge\"].array()[:-1])\n",
    "amp = np.array(file[\"tree\"][\"amp\"].array()[:-1])\n",
    "lead_edge = np.array(file[\"tree\"][\"letime\"].array()[:-1])\n",
    "t_edge = np.array(file[\"tree\"][\"tetime\"].array()[:-1])\n",
    "channel= np.array(file[\"tree\"][\"ch\"].array()[:-1])\n",
    "waveform = np.array(file[\"tree\"][\"pshape\"].array()[:-1])"
   ]
  },
  {
   "cell_type": "code",
   "execution_count": 62,
   "id": "1d5588fb",
   "metadata": {
    "metadata": {}
   },
   "outputs": [
    {
     "name": "stdout",
     "output_type": "stream",
     "text": [
      "7999\n"
     ]
    }
   ],
   "source": [
    "N_ev=len(charges[:, 0])\n",
    "print(N_ev)"
   ]
  },
  {
   "cell_type": "code",
   "execution_count": 63,
   "id": "122f8082",
   "metadata": {
    "metadata": {}
   },
   "outputs": [
    {
     "name": "stdout",
     "output_type": "stream",
     "text": [
      "1024\n"
     ]
    }
   ],
   "source": [
    "print(len(waveform[0][0]))"
   ]
  },
  {
   "cell_type": "code",
   "execution_count": 79,
   "id": "8603a1fa",
   "metadata": {
    "metadata": {}
   },
   "outputs": [
    {
     "name": "stdout",
     "output_type": "stream",
     "text": [
      "(7999, 2, 1024)\n",
      "channel: 0 baseline: 0.0 charge 0.0 lead_edge 0.0 trailing_edge 0.0\n",
      "0.0 0.0\n"
     ]
    },
    {
     "ename": "IndexError",
     "evalue": "only integers, slices (`:`), ellipsis (`...`), numpy.newaxis (`None`) and integer or boolean arrays are valid indices",
     "output_type": "error",
     "traceback": [
      "\u001b[0;31m---------------------------------------------------------------------------\u001b[0m",
      "\u001b[0;31mIndexError\u001b[0m                                Traceback (most recent call last)",
      "Cell \u001b[0;32mIn[79], line 14\u001b[0m\n\u001b[1;32m     12\u001b[0m     t2\u001b[38;5;241m=\u001b[39mt_edge[event][channel]\n\u001b[1;32m     13\u001b[0m     \u001b[38;5;28mprint\u001b[39m(t1,t2)\n\u001b[0;32m---> 14\u001b[0m     plt\u001b[38;5;241m.\u001b[39mscatter( t1, \u001b[43mwaveform\u001b[49m\u001b[43m[\u001b[49m\u001b[43mevent\u001b[49m\u001b[43m]\u001b[49m\u001b[43m[\u001b[49m\u001b[43mchannel\u001b[49m\u001b[43m]\u001b[49m\u001b[43m[\u001b[49m\u001b[43mt1\u001b[49m\u001b[43m]\u001b[49m,s\u001b[38;5;241m=\u001b[39m\u001b[38;5;241m60\u001b[39m, color\u001b[38;5;241m=\u001b[39m\u001b[38;5;124m'\u001b[39m\u001b[38;5;124mred\u001b[39m\u001b[38;5;124m'\u001b[39m  )\n\u001b[1;32m     15\u001b[0m     plt\u001b[38;5;241m.\u001b[39mscatter( t2, waveform[event][channel][\u001b[38;5;28mint\u001b[39m(t2\u001b[38;5;241m/\u001b[39msampling)],s\u001b[38;5;241m=\u001b[39m\u001b[38;5;241m60\u001b[39m, color\u001b[38;5;241m=\u001b[39m\u001b[38;5;124m'\u001b[39m\u001b[38;5;124myellow\u001b[39m\u001b[38;5;124m'\u001b[39m  )\n\u001b[1;32m     17\u001b[0m plt\u001b[38;5;241m.\u001b[39mlegend()\n",
      "\u001b[0;31mIndexError\u001b[0m: only integers, slices (`:`), ellipsis (`...`), numpy.newaxis (`None`) and integer or boolean arrays are valid indices"
     ]
    },
    {
     "data": {
      "image/png": "[encoded data removed]",
      "text/plain": [
       "<Figure size 640x480 with 1 Axes>"
      ]
     },
     "metadata": {},
     "output_type": "display_data"
    }
   ],
   "source": [
    "print(waveform.shape)\n",
    "event= 89\n",
    "#tra 5 e 13\n",
    "list = [0,1,2,3,4,5,6,7,8,9,10,11,12,13,14,15]\n",
    "list=[0,1]\n",
    "sampling=2.5\n",
    "for channel in list:\n",
    "    time=np.arange(1024)\n",
    "    plt.plot(time*sampling, waveform[event][channel], label='{}'.format(channel), linewidth=0.5)\n",
    "    print(\"channel:\", channel, \"baseline:\",  baselines[event][channel],\"charge\", charges[event][channel], \"lead_edge\", lead_edge[event][channel], \"trailing_edge\", t_edge[event][channel] )\n",
    "    t1=lead_edge[event][channel]\n",
    "    t2=t_edge[event][channel]\n",
    "    print(t1,t2)\n",
    "    plt.scatter( t1, waveform[event][channel][t1],s=60, color='red'  )\n",
    "    plt.scatter( t2, waveform[event][channel][int(t2/sampling)],s=60, color='yellow'  )\n",
    "\n",
    "plt.legend()"
   ]
  },
  {
   "cell_type": "code",
   "execution_count": null,
   "id": "acf2e9df",
   "metadata": {
    "metadata": {}
   },
   "outputs": [],
   "source": []
  },
  {
   "cell_type": "code",
   "execution_count": null,
   "id": "aa9e6a10",
   "metadata": {},
   "outputs": [],
   "source": []
  },
  {
   "cell_type": "code",
   "execution_count": 71,
   "id": "9aecb3d6",
   "metadata": {
    "metadata": {}
   },
   "outputs": [],
   "source": [
    "canale=[0,1,2,3,4,5,8,9,12,13,14,15]\n",
    "#l'ultimo è il 15\n",
    "carica_gamma=[-492.991122,-869.542194, -755.683667, -1125.16284, -1223.87088, -1268.36734, 0, 0, -879.024502, -440.515158,0, 0,  -706.002694,\n",
    "              -734.448274, -1088.07980, -1595.94856]\n",
    "sigma_gamma=[55.3238139,60.6593683, 68.7226953, 89.3657356,  82.0439831, 97.4454060, 0, 0,  131.835623, 34.3645975, 0, 0, 122.979607,\n",
    "             72.0804643, 79.5176462 ,95.8597859]\n",
    "n=4 #sigma che accettiamo\n",
    "\n",
    "firstch_limits=[[carica_gamma[0]-n*sigma_gamma[0], carica_gamma[0]+n*sigma_gamma[0]], [carica_gamma[4]-n*sigma_gamma[4], carica_gamma[4]+n*sigma_gamma[4]], [carica_gamma[5]-n*sigma_gamma[5], carica_gamma[5]+n*sigma_gamma[5]] ,\n",
    " [carica_gamma[9]-n*sigma_gamma[9], carica_gamma[9]+n*sigma_gamma[9]] , [carica_gamma[12]-n*sigma_gamma[12], carica_gamma[12]+n*sigma_gamma[12]] , \n",
    " [carica_gamma[14]-n*sigma_gamma[14], carica_gamma[14]+n*sigma_gamma[14]]]\n",
    "\n",
    "secondch_limits=[[carica_gamma[8]-n*sigma_gamma[8], carica_gamma[8]+n*sigma_gamma[8]], [carica_gamma[1]-n*sigma_gamma[1], carica_gamma[1]+n*sigma_gamma[1]], [carica_gamma[13]-n*sigma_gamma[13], carica_gamma[13]+n*sigma_gamma[13]] ,\n",
    " [carica_gamma[2]-n*sigma_gamma[2], carica_gamma[2]+n*sigma_gamma[2]] , [carica_gamma[3]-n*sigma_gamma[3], carica_gamma[3]+n*sigma_gamma[3]] , \n",
    " [carica_gamma[15]-n*sigma_gamma[15], carica_gamma[15]+n*sigma_gamma[15]]]"
   ]
  },
  {
   "cell_type": "code",
   "execution_count": 74,
   "id": "7335e70f",
   "metadata": {
    "metadata": {}
   },
   "outputs": [
    {
     "name": "stdout",
     "output_type": "stream",
     "text": [
      "[ 0 -1 -1 -1 -1 -1 -1 -1  1 -1 -1 -1 -1 -1 -1 -1]\n"
     ]
    },
    {
     "name": "stderr",
     "output_type": "stream",
     "text": [
      "/tmp/ipykernel_8237/3087645826.py:14: DeprecationWarning: Conversion of an array with ndim > 0 to a scalar is deprecated, and will error in future. Ensure you extract a single element from your array before performing this operation. (Deprecated NumPy 1.25.)\n",
      "  map[i]=np.where(coppia.flatten()==i)[0]\n"
     ]
    }
   ],
   "source": [
    "#liste con le coppie\n",
    "\n",
    "#coppia=np.array([ [0,8], [4,1], [5,13], [9,2], [12,3], [14,15] ])\n",
    "coppia = np.array([[0,8]])\n",
    "\n",
    "firstch = coppia[:,0]\n",
    "secondch = coppia[:,1]\n",
    "\n",
    "\n",
    "map = np.repeat(-1,16)\n",
    "\n",
    "for i in range(16):\n",
    "    if np.where(coppia.flatten()==i)[0].size>0:\n",
    "        map[i]=np.where(coppia.flatten()==i)[0]\n",
    "print(map)\n",
    "\n",
    "firstch_limits=    [  [carica_gamma[coppia[i][0]]-n*sigma_gamma[coppia[i][0]], carica_gamma[coppia[i][0]]+n*sigma_gamma[coppia[i][0]] ] for i in range(len(coppia))]\n",
    "secondch_limits= [  [carica_gamma[coppia[i][1]]-n*sigma_gamma[coppia[i][0]], carica_gamma[coppia[i][1]]+n*sigma_gamma[coppia[i][1]] ] for i in range(len(coppia))   ]\n",
    "\n",
    "\n",
    "\n",
    "paired_amp_1 = []\n",
    "paired_charge_1 = []\n",
    "paired_letime_1 = []\n",
    "paired_wf_1 = []\n",
    "\n",
    "paired_amp_2 = []\n",
    "paired_charge_2 = []\n",
    "paired_letime_2 = []\n",
    "paired_wf_2 = []\n",
    "\n",
    "whichpair=[]\n",
    "\n",
    "for event in range(N_ev):\n",
    "    for channel1,channel2, limF, limS in zip(map[firstch],map[secondch],firstch_limits,secondch_limits):\n",
    "        \n",
    "        #controllo se c'è un evento nel primo della coppia\n",
    "        if(charges[event][channel1] >= limF[0] and charges[event][channel1] <= limF[1]):\n",
    "            #se sì, vedo se ce n'è uno anche nel secondo della coppia\n",
    "            if (charges[event][channel2] >= secondch_limits[0] and charges[event][channel2] <= secondch_limits[1]):\n",
    "                #salvo i parametri del primo canale della coppia\n",
    "                whichpair.append(channel1)\n",
    "\n",
    "                paired_amp_1.append(amp[event][channel])\n",
    "                paired_charge_1.append(charges[event][channel])\n",
    "                paired_letime_1.append(lead_edge[event][channel])\n",
    "                paired_wf_1.append(waveform[event][channel])\n",
    "\n",
    "                #salvo i parametri del secondo canale della coppia\n",
    "                paired_amp_2.append(amp[event][secondch[firstch.index(channel)]])\n",
    "                paired_charge_2.append(charges[event][secondch[firstch.index(channel)]])\n",
    "                paired_letime_2.append(lead_edge[event][secondch[firstch.index(channel)]])\n",
    "                paired_wf_2.append(waveform[event][secondch[firstch.index(channel)]])\n",
    "\n",
    "\n",
    "\n",
    "        \n"
   ]
  },
  {
   "cell_type": "code",
   "execution_count": null,
   "id": "09a2b9fc",
   "metadata": {},
   "outputs": [],
   "source": []
  },
  {
   "cell_type": "code",
   "execution_count": 75,
   "id": "ff708ea3",
   "metadata": {
    "metadata": {}
   },
   "outputs": [
    {
     "name": "stdout",
     "output_type": "stream",
     "text": [
      "0\n",
      "[]\n"
     ]
    },
    {
     "ename": "IndexError",
     "evalue": "list index out of range",
     "output_type": "error",
     "traceback": [
      "\u001b[0;31m---------------------------------------------------------------------------\u001b[0m",
      "\u001b[0;31mIndexError\u001b[0m                                Traceback (most recent call last)",
      "Cell \u001b[0;32mIn[75], line 4\u001b[0m\n\u001b[1;32m      1\u001b[0m \u001b[38;5;28mprint\u001b[39m(\u001b[38;5;28mlen\u001b[39m(paired_amp_1))\n\u001b[1;32m      2\u001b[0m \u001b[38;5;28mprint\u001b[39m(whichpair)\n\u001b[0;32m----> 4\u001b[0m plt\u001b[38;5;241m.\u001b[39mplot(time\u001b[38;5;241m*\u001b[39msampling, \u001b[43mpaired_wf_1\u001b[49m\u001b[43m[\u001b[49m\u001b[38;5;241;43m1\u001b[39;49m\u001b[43m]\u001b[49m, color \u001b[38;5;241m=\u001b[39m \u001b[38;5;124m'\u001b[39m\u001b[38;5;124mred\u001b[39m\u001b[38;5;124m'\u001b[39m)\n\u001b[1;32m      5\u001b[0m plt\u001b[38;5;241m.\u001b[39mplot(time\u001b[38;5;241m*\u001b[39msampling, paired_wf_2[\u001b[38;5;241m1\u001b[39m], color \u001b[38;5;241m=\u001b[39m \u001b[38;5;124m'\u001b[39m\u001b[38;5;124mgreen\u001b[39m\u001b[38;5;124m'\u001b[39m)\n",
      "\u001b[0;31mIndexError\u001b[0m: list index out of range"
     ]
    }
   ],
   "source": [
    "print(len(paired_amp_1))\n",
    "print(whichpair)\n",
    "\n",
    "plt.plot(time*sampling, paired_wf_1[1], color = 'red')\n",
    "plt.plot(time*sampling, paired_wf_2[1], color = 'green')"
   ]
  },
  {
   "cell_type": "code",
   "execution_count": 56,
   "id": "602b0cf8",
   "metadata": {
    "metadata": {}
   },
   "outputs": [
    {
     "ename": "ValueError",
     "evalue": "attempt to get argmax of an empty sequence",
     "output_type": "error",
     "traceback": [
      "\u001b[0;31m---------------------------------------------------------------------------\u001b[0m",
      "\u001b[0;31mValueError\u001b[0m                                Traceback (most recent call last)",
      "Cell \u001b[0;32mIn[56], line 12\u001b[0m\n\u001b[1;32m     10\u001b[0m triggering_index_2\u001b[38;5;241m=\u001b[39m np\u001b[38;5;241m.\u001b[39marray(triggering_index_2)\n\u001b[1;32m     11\u001b[0m rough_timeres\u001b[38;5;241m=\u001b[39m np\u001b[38;5;241m.\u001b[39mabs(triggering_index_1 \u001b[38;5;241m-\u001b[39m triggering_index_2)\u001b[38;5;241m*\u001b[39m\u001b[38;5;241m2.5\u001b[39m\n\u001b[0;32m---> 12\u001b[0m \u001b[38;5;28mprint\u001b[39m(\u001b[43mnp\u001b[49m\u001b[38;5;241;43m.\u001b[39;49m\u001b[43margmax\u001b[49m\u001b[43m(\u001b[49m\u001b[43mrough_timeres\u001b[49m\u001b[43m)\u001b[49m)\n\u001b[1;32m     13\u001b[0m \u001b[38;5;28mprint\u001b[39m(rough_timeres)\n\u001b[1;32m     14\u001b[0m plt\u001b[38;5;241m.\u001b[39mhist(rough_timeres)\n",
      "File \u001b[0;32m~/.local/lib/python3.10/site-packages/numpy/core/fromnumeric.py:1229\u001b[0m, in \u001b[0;36margmax\u001b[0;34m(a, axis, out, keepdims)\u001b[0m\n\u001b[1;32m   1142\u001b[0m \u001b[38;5;250m\u001b[39m\u001b[38;5;124;03m\"\"\"\u001b[39;00m\n\u001b[1;32m   1143\u001b[0m \u001b[38;5;124;03mReturns the indices of the maximum values along an axis.\u001b[39;00m\n\u001b[1;32m   1144\u001b[0m \n\u001b[0;32m   (...)\u001b[0m\n\u001b[1;32m   1226\u001b[0m \u001b[38;5;124;03m(2, 1, 4)\u001b[39;00m\n\u001b[1;32m   1227\u001b[0m \u001b[38;5;124;03m\"\"\"\u001b[39;00m\n\u001b[1;32m   1228\u001b[0m kwds \u001b[38;5;241m=\u001b[39m {\u001b[38;5;124m'\u001b[39m\u001b[38;5;124mkeepdims\u001b[39m\u001b[38;5;124m'\u001b[39m: keepdims} \u001b[38;5;28;01mif\u001b[39;00m keepdims \u001b[38;5;129;01mis\u001b[39;00m \u001b[38;5;129;01mnot\u001b[39;00m np\u001b[38;5;241m.\u001b[39m_NoValue \u001b[38;5;28;01melse\u001b[39;00m {}\n\u001b[0;32m-> 1229\u001b[0m \u001b[38;5;28;01mreturn\u001b[39;00m \u001b[43m_wrapfunc\u001b[49m\u001b[43m(\u001b[49m\u001b[43ma\u001b[49m\u001b[43m,\u001b[49m\u001b[43m \u001b[49m\u001b[38;5;124;43m'\u001b[39;49m\u001b[38;5;124;43margmax\u001b[39;49m\u001b[38;5;124;43m'\u001b[39;49m\u001b[43m,\u001b[49m\u001b[43m \u001b[49m\u001b[43maxis\u001b[49m\u001b[38;5;241;43m=\u001b[39;49m\u001b[43maxis\u001b[49m\u001b[43m,\u001b[49m\u001b[43m \u001b[49m\u001b[43mout\u001b[49m\u001b[38;5;241;43m=\u001b[39;49m\u001b[43mout\u001b[49m\u001b[43m,\u001b[49m\u001b[43m \u001b[49m\u001b[38;5;241;43m*\u001b[39;49m\u001b[38;5;241;43m*\u001b[39;49m\u001b[43mkwds\u001b[49m\u001b[43m)\u001b[49m\n",
      "File \u001b[0;32m~/.local/lib/python3.10/site-packages/numpy/core/fromnumeric.py:59\u001b[0m, in \u001b[0;36m_wrapfunc\u001b[0;34m(obj, method, *args, **kwds)\u001b[0m\n\u001b[1;32m     56\u001b[0m     \u001b[38;5;28;01mreturn\u001b[39;00m _wrapit(obj, method, \u001b[38;5;241m*\u001b[39margs, \u001b[38;5;241m*\u001b[39m\u001b[38;5;241m*\u001b[39mkwds)\n\u001b[1;32m     58\u001b[0m \u001b[38;5;28;01mtry\u001b[39;00m:\n\u001b[0;32m---> 59\u001b[0m     \u001b[38;5;28;01mreturn\u001b[39;00m \u001b[43mbound\u001b[49m\u001b[43m(\u001b[49m\u001b[38;5;241;43m*\u001b[39;49m\u001b[43margs\u001b[49m\u001b[43m,\u001b[49m\u001b[43m \u001b[49m\u001b[38;5;241;43m*\u001b[39;49m\u001b[38;5;241;43m*\u001b[39;49m\u001b[43mkwds\u001b[49m\u001b[43m)\u001b[49m\n\u001b[1;32m     60\u001b[0m \u001b[38;5;28;01mexcept\u001b[39;00m \u001b[38;5;167;01mTypeError\u001b[39;00m:\n\u001b[1;32m     61\u001b[0m     \u001b[38;5;66;03m# A TypeError occurs if the object does have such a method in its\u001b[39;00m\n\u001b[1;32m     62\u001b[0m     \u001b[38;5;66;03m# class, but its signature is not identical to that of NumPy's. This\u001b[39;00m\n\u001b[0;32m   (...)\u001b[0m\n\u001b[1;32m     66\u001b[0m     \u001b[38;5;66;03m# Call _wrapit from within the except clause to ensure a potential\u001b[39;00m\n\u001b[1;32m     67\u001b[0m     \u001b[38;5;66;03m# exception has a traceback chain.\u001b[39;00m\n\u001b[1;32m     68\u001b[0m     \u001b[38;5;28;01mreturn\u001b[39;00m _wrapit(obj, method, \u001b[38;5;241m*\u001b[39margs, \u001b[38;5;241m*\u001b[39m\u001b[38;5;241m*\u001b[39mkwds)\n",
      "\u001b[0;31mValueError\u001b[0m: attempt to get argmax of an empty sequence"
     ]
    }
   ],
   "source": [
    "#trigger di ogni canale\n",
    "firstch_trigger=[-0.028, -0.035, -0.028, -0.03, -0.03, -0.035]\n",
    "secondch_trigger = [-0.03, -0.027, -0.022, -0.03, -0.028, -0.04]\n",
    "\n",
    "triggering_index_1=[np.where(paired_wf_1[ind] <= firstch_trigger[pair])[0][0] for ind, pair in enumerate(whichpair)]\n",
    "triggering_index_2=[np.where(paired_wf_2[ind] <= secondch_trigger[pair])[0][0] for ind, pair in enumerate(whichpair)]\n",
    "\n",
    "#convert to numpy array\n",
    "triggering_index_1= np.array(triggering_index_1)\n",
    "triggering_index_2= np.array(triggering_index_2)\n",
    "rough_timeres= np.abs(triggering_index_1 - triggering_index_2)*2.5\n",
    "print(np.argmax(rough_timeres))\n",
    "print(rough_timeres)\n",
    "plt.hist(rough_timeres)"
   ]
  },
  {
   "cell_type": "code",
   "execution_count": null,
   "id": "86001699",
   "metadata": {},
   "outputs": [],
   "source": []
  },
  {
   "cell_type": "code",
   "execution_count": null,
   "id": "9c33ca34",
   "metadata": {},
   "outputs": [],
   "source": []
  }
 ],
 "metadata": {
  "kernelspec": {
   "display_name": "myrootenv_new",
   "language": "python",
   "name": "python3"
  },
  "language_info": {
   "codemirror_mode": {
    "name": "ipython",
    "version": 3
   },
   "file_extension": ".py",
   "mimetype": "text/x-python",
   "name": "python",
   "nbconvert_exporter": "python",
   "pygments_lexer": "ipython3",
   "version": "3.10.12"
  }
 },
 "nbformat": 4,
 "nbformat_minor": 5
}
