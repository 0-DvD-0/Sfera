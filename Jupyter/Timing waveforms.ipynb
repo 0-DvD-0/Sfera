{
 "cells": [
  {
   "cell_type": "code",
   "execution_count": 13,
   "id": "21a31bef-f0b8-4536-ae7f-da5cced7f485",
   "metadata": {},
   "outputs": [],
   "source": [
    "import ROOT\n",
    "import uproot\n",
    "import matplotlib.pyplot as plt\n",
    "import scipy as scp\n",
    "from scipy.integrate import trapezoid\n",
    "import numpy as np\n",
    "import awkward as ak"
   ]
  },
  {
   "cell_type": "code",
   "execution_count": 14,
   "id": "bba78b4b",
   "metadata": {},
   "outputs": [
    {
     "name": "stdout",
     "output_type": "stream",
     "text": [
      "name                 | typename                 | interpretation                \n",
      "---------------------+--------------------------+-------------------------------\n",
      "ev                   | int32_t                  | AsDtype('>i4')\n",
      "nch                  | int32_t                  | AsDtype('>i4')\n",
      "ch                   | int32_t[]                | AsJagged(AsDtype('>i4'))\n",
      "base                 | float[]                  | AsJagged(AsDtype('>f4'))\n",
      "amp                  | float[]                  | AsJagged(AsDtype('>f4'))\n",
      "charge               | float[]                  | AsJagged(AsDtype('>f4'))\n",
      "letime               | float[]                  | AsJagged(AsDtype('>f4'))\n",
      "tetime               | float[]                  | AsJagged(AsDtype('>f4'))\n",
      "ratecount            | float[]                  | AsJagged(AsDtype('>f4'))\n",
      "pshape               | float[][1024]            | AsJagged(AsDtype(\"('>f4', (...\n"
     ]
    }
   ],
   "source": [
    "#Open root file with both shapes and measurements\n",
    "\n",
    "FILE_PATH = \"../SplittedwaveRootFile/Run_Na_waveform_maggio_1.root\" #Relative file path\n",
    "file = uproot.open(FILE_PATH)\n",
    "file[\"tree\"].show() #Display contents"
   ]
  },
  {
   "cell_type": "code",
   "execution_count": 20,
   "id": "1a80aad8",
   "metadata": {},
   "outputs": [
    {
     "name": "stdout",
     "output_type": "stream",
     "text": [
      "<class 'awkward.highlevel.Array'>\n",
      "[16, 16, 16, 16, 16, 16, 16, 16, 16, ..., 16, 16, 16, 16, 16, 16, 16, 16, 10]\n",
      "[16]\n"
     ]
    }
   ],
   "source": [
    "print(type(file[\"tree\"][\"base\"].array()))\n",
    "bl=file[\"tree\"][\"base\"].array()\n",
    "print(ak.num(bl))\n",
    "bl = bl[:-1]\n",
    "print(np.unique(ak.num(bl)))\n",
    "#l'ultimo array aveva una forma diversa, quindi l'ho tagliato altrimenti faceva casini"
   ]
  },
  {
   "cell_type": "code",
   "execution_count": 34,
   "id": "b516a8eb",
   "metadata": {},
   "outputs": [
    {
     "name": "stdout",
     "output_type": "stream",
     "text": [
      "[[0, 1, 2, 3, 4, 5, 6, 7, 8, 9, 10, 11, 12, 13, 14, 15], ..., [0, 1, ..., 15]]\n"
     ]
    }
   ],
   "source": [
    "nch=file[\"tree\"][\"ch\"].array()[:-1]\n",
    "print(nch)"
   ]
  },
  {
   "cell_type": "code",
   "execution_count": 35,
   "id": "6b82a446",
   "metadata": {},
   "outputs": [],
   "source": [
    "#Load data to numpy arrays\n",
    "\n",
    "baselines = np.array(file[\"tree\"][\"base\"].array()[:-1]) #il [:-1] toglie l'ultimo evento che si è splittato male\n",
    "charges = np.array(file[\"tree\"][\"charge\"].array()[:-1])\n",
    "amp = np.array(file[\"tree\"][\"amp\"].array()[:-1])\n",
    "lead_edge = np.array(file[\"tree\"][\"letime\"].array()[:-1])\n",
    "channel=lead_edge = np.array(file[\"tree\"][\"ch\"].array()[:-1])\n",
    "waveform = np.array(file[\"tree\"][\"pshape\"].array()[:-1])"
   ]
  },
  {
   "cell_type": "code",
   "execution_count": 29,
   "id": "8603a1fa",
   "metadata": {},
   "outputs": [
    {
     "name": "stdout",
     "output_type": "stream",
     "text": [
      "[0 0 0 ... 0 0 0]\n"
     ]
    }
   ],
   "source": []
  }
 ],
 "metadata": {
  "kernelspec": {
   "display_name": "myrootenv_new",
   "language": "python",
   "name": "python3"
  },
  "language_info": {
   "codemirror_mode": {
    "name": "ipython",
    "version": 3
   },
   "file_extension": ".py",
   "mimetype": "text/x-python",
   "name": "python",
   "nbconvert_exporter": "python",
   "pygments_lexer": "ipython3",
   "version": "3.8.18"
  }
 },
 "nbformat": 4,
 "nbformat_minor": 5
}
