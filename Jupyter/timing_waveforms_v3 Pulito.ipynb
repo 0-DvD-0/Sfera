{
 "cells": [
  {
   "cell_type": "code",
   "execution_count": 1,
   "metadata": {},
   "outputs": [
    {
     "name": "stdout",
     "output_type": "stream",
     "text": [
      "Welcome to JupyROOT 6.30/04\n"
     ]
    }
   ],
   "source": [
    "import ROOT\n",
    "import uproot\n",
    "import matplotlib.pyplot as plt\n",
    "import numpy as np\n",
    "import awkward as ak\n",
    "\n",
    "from sklearn.preprocessing import normalize as norm"
   ]
  },
  {
   "cell_type": "code",
   "execution_count": 2,
   "metadata": {},
   "outputs": [],
   "source": [
    "FILE_PATH = \"../Dati/Run_Na_invertito_trigger512_Data_5_22_2024_Ascii_0000.root\" #Relative file path\n",
    "file1 = uproot.open(FILE_PATH)\n",
    "FILE_PATH = \"../Dati/Run_Na_invertito_trigger512_Data_5_22_2024_Ascii_0001.root\"\n",
    "file2 = uproot.open(FILE_PATH)"
   ]
  },
  {
   "cell_type": "code",
   "execution_count": 3,
   "metadata": {},
   "outputs": [
    {
     "name": "stdout",
     "output_type": "stream",
     "text": [
      "[[4, 5, 6, 7, 8, 9, 10, 11, 12, 13, 14, 15], ..., [4, 5, 6, 7, ..., 13, 14, 15]]\n"
     ]
    }
   ],
   "source": [
    "baselines = np.concatenate( (file1[\"tree\"][\"base\"].array()[:-1], file2[\"tree\"][\"base\"].array()[1:]) , axis=0 ) \n",
    "charges = np.concatenate( (file1[\"tree\"][\"charge\"].array()[:-1], file2[\"tree\"][\"charge\"].array()[1:]), axis=0 )\n",
    "amp = np.concatenate( (file1[\"tree\"][\"amp\"].array()[:-1], file2[\"tree\"][\"amp\"].array()[1:] ), axis=0 )\n",
    "lead_edge = np.concatenate( (file1[\"tree\"][\"letime\"].array()[:-1], file2[\"tree\"][\"letime\"].array()[1:]), axis=0 )\n",
    "t_edge = np.concatenate( (file1[\"tree\"][\"tetime\"].array()[:-1], file2[\"tree\"][\"tetime\"].array()[1:]), axis=0 )\n",
    "channel= np.concatenate( (file1[\"tree\"][\"ch\"].array()[:-1], file2[\"tree\"][\"ch\"].array()[1:]), axis=0 )\n",
    "waveform = np.concatenate( (file1[\"tree\"][\"pshape\"].array()[:-1], file2[\"tree\"][\"pshape\"].array()[1:] ), axis=0 )"
   ]
  },
  {
   "cell_type": "code",
   "execution_count": 4,
   "metadata": {},
   "outputs": [],
   "source": [
    "N_ev=len(charges[:, 0])\n",
    "print(N_ev)\n",
    "nch=file1[\"tree\"][\"ch\"].array()\n",
    "print(nch)\n"
   ]
  },
  {
   "cell_type": "code",
   "execution_count": 5,
   "metadata": {},
   "outputs": [
    {
     "name": "stdout",
     "output_type": "stream",
     "text": [
      "91\n",
      "2597\n"
     ]
    },
    {
     "data": {
      "text/plain": [
       "<matplotlib.legend.Legend at 0x2992cfee0>"
      ]
     },
     "execution_count": 7,
     "metadata": {},
     "output_type": "execute_result"
    },
    {
     "data": {
      "image/png": "[encoded data removed]",
      "text/plain": [
       "<Figure size 1000x300 with 2 Axes>"
      ]
     },
     "metadata": {},
     "output_type": "display_data"
    }
   ],
   "source": [
    "channel=15\n",
    "bins = 200\n",
    "\n",
    "#right = [8,14,7,7,14,8,8,8,8,0,7,10]\n",
    "right=  [14,8,7,7,8,14,8,8,0,8, 10,7]\n",
    "#left = [6,14,5,6,5,3,4,5,5,0,6,4]\n",
    "left = [14,6,6,5,3,5,5,4,0,5,4,6]\n",
    "#right = np.repeat(20,12)\n",
    "#left = np.repeat(20,12)\n",
    "plt.figure(figsize=(10,3))\n",
    "plt.subplot(1,2,1)\n",
    "a=plt.hist(amp[:, channel-4], bins=bins, range=(-1, -0.03), label='amp')\n",
    "plt.legend()\n",
    "plt.subplot(1,2,2)\n",
    "b=plt.hist(charges[:, channel-4], bins=bins, range=(-2000, -50), label='charge')\n",
    "\n",
    "\n",
    "print(np.argmax(b[0]))\n",
    "idx=np.argmax(b[0])\n",
    "mask=np.where( (charges[:,channel-4]>b[1][idx-left[channel-4]]) &( charges[:, channel-4]<b[1][idx+right[channel-4]]))[0]\n",
    "print(len(mask))\n",
    "\n",
    "b1=plt.hist(charges[:, channel-4][mask], bins=bins, range=(-2000, -50), label='charge')\n",
    "plt.legend()\n",
    "\n"
   ]
  },
  {
   "cell_type": "code",
   "execution_count": 43,
   "metadata": {},
   "outputs": [],
   "source": [
    "plt.plot()"
   ]
  },
  {
   "cell_type": "code",
   "execution_count": 47,
   "metadata": {},
   "outputs": [
    {
     "name": "stdout",
     "output_type": "stream",
     "text": [
      "mappa: [-1 -1 -1 -1  0  1  2  3  4  5  6  7  8  9 10 11]\n",
      "Primo limite: [[-1405.25, -1132.25], [-1278.5, -1151.75], [-576.5, -469.25], [-752.0, -625.25], [-2000.0, -2000.0], [-1610.0, -1473.5]]\n",
      "Secondo limite: [[-781.25, -644.75], [-888.5, -771.5], [-1005.5, -820.25], [-488.75, -371.75], [-69.5, -59.75], [-1171.25, -1044.5]]\n"
     ]
    }
   ],
   "source": [
    "limL=np.zeros(16)\n",
    "limR=np.zeros(16)\n",
    "for channel in range(4,16):\n",
    "    try:\n",
    "        b=np.histogram(charges[:, channel-4], bins=bins, range=(-2000, -50))\n",
    "        idx=np.argmax(b[0])\n",
    "        limL[channel]=b[1][idx-left[channel-4]]\n",
    "        limR[channel]=b[1][idx+right[channel-4]]\n",
    "\n",
    "    except IndexError:\n",
    "        limL[channel]=b[1][idx]\n",
    "        limR[channel]=b[1][idx+1]\n",
    "        continue\n",
    "\n",
    "canale=[4,5,6,7,8,9,10,11,12,13,14,15]\n",
    "coppia=np.array([ [4,5], [6,7], [8,9], [10,11],[12,13], [14,15] ])\n",
    "#coppia=np.array([[4,5]])\n",
    "firstch = coppia[:,0]\n",
    "secondch = coppia[:,1]\n",
    "\n",
    "map = np.repeat(-1,16)\n",
    "\n",
    "for i in range(16):\n",
    "    if np.where(coppia.flatten()==i)[0].size>0:\n",
    "        map[i]=np.where(coppia.flatten()==i)[0]\n",
    "print(\"mappa:\",map)\n",
    "\n",
    "firstch_limits=[ [limL[coppia[i][0]], limR[coppia[i][0]]] for i in range(len(coppia))]\n",
    "secondch_limits=[[limL[coppia[i][1]], limR[coppia[i][1]]] for i in range(len(coppia))]\n",
    "\n",
    "print(\"Primo limite:\",firstch_limits)\n",
    "print(\"Secondo limite:\",secondch_limits)"
   ]
  },
  {
   "cell_type": "code",
   "execution_count": 48,
   "metadata": {},
   "outputs": [],
   "source": [
    "paired_amp_1 = []\n",
    "paired_charge_1 = []\n",
    "paired_letime_1 = []\n",
    "paired_wf_1 = []\n",
    "\n",
    "\n",
    "paired_amp_2 = []\n",
    "paired_charge_2 = []\n",
    "paired_letime_2 = []\n",
    "paired_wf_2 = []\n",
    "\n",
    "whichpair=[]\n",
    "\n",
    "for event in range(N_ev):\n",
    "    for channel1, channel2, limF, limS in zip(map[firstch],map[secondch],firstch_limits,secondch_limits):\n",
    "        #controllo se c'è un evento nel primo della coppia\n",
    "        if(charges[event][channel1] >= limF[0] and charges[event][channel1] <= limF[1]):\n",
    "            #se sì, vedo se ce n'è uno anche nel secondo della coppia\n",
    "            if (charges[event][channel2] >= limS[0] and charges[event][channel2] <= limS[1]):\n",
    "                #salvo i parametri del primo canale della coppia\n",
    "                whichpair.append(channel1)\n",
    "\n",
    "                paired_amp_1.append(amp[event][channel1])\n",
    "                paired_charge_1.append(charges[event][channel1])\n",
    "                paired_letime_1.append(lead_edge[event][channel1])\n",
    "                paired_wf_1.append(waveform[event][channel1])\n",
    "\n",
    "                paired_amp_2.append(amp[event][channel2])\n",
    "                paired_charge_2.append(charges[event][channel2])\n",
    "                paired_letime_2.append(lead_edge[event][channel2])\n",
    "                paired_wf_2.append(waveform[event][channel2])\n",
    "\n",
    "#import gc\n",
    "#del waveform100\n",
    "#gc.collect()\n",
    "whichpair = np.array(whichpair)\n",
    "\n"
   ]
  },
  {
   "cell_type": "code",
   "execution_count": 49,
   "metadata": {},
   "outputs": [
    {
     "name": "stdout",
     "output_type": "stream",
     "text": [
      "6023\n"
     ]
    },
    {
     "data": {
      "text/plain": [
       "(array([1368.,    0.,  724.,    0., 1980.,    0.,  909.,    0.,  583.,\n",
       "         459.]),\n",
       " array([ 0.,  1.,  2.,  3.,  4.,  5.,  6.,  7.,  8.,  9., 10.]),\n",
       " <BarContainer object of 10 artists>)"
      ]
     },
     "execution_count": 49,
     "metadata": {},
     "output_type": "execute_result"
    },
    {
     "data": {
      "image/png": "[encoded data removed]",
      "text/plain": [
       "<Figure size 640x480 with 1 Axes>"
      ]
     },
     "metadata": {},
     "output_type": "display_data"
    }
   ],
   "source": [
    "print(len(paired_amp_1))\n",
    "plt.hist(whichpair)\n"
   ]
  },
  {
   "cell_type": "code",
   "execution_count": 101,
   "metadata": {},
   "outputs": [
    {
     "name": "stdout",
     "output_type": "stream",
     "text": [
      "n = 8, \t thr = -0.2\t\n",
      "coppia [ 4 5 ]: 2.851658540967086 3.380958418544495\n",
      "coppia [ 6 7 ]: 2.9337831294067414 2.615156489193419\n",
      "coppia [ 8 9 ]: 3.385203991205161 1.750746830423997\n",
      "coppia [ 10 11 ]: 2.9096787743717134 -2.08233055898752\n",
      "coppia [ 14 15 ]: 2.929859179780408 3.1311687568467494\n"
     ]
    },
    {
     "data": {
      "image/png": "[encoded data removed]",
      "text/plain": [
       "<Figure size 640x480 with 1 Axes>"
      ]
     },
     "metadata": {},
     "output_type": "display_data"
    }
   ],
   "source": [
    "i = 0\n",
    "j = 0\n",
    "sampling=1.875\n",
    "shiftR=8\n",
    "shiftL=2\n",
    "#mean = [7,8,9,10]\n",
    "#tresh = [-0.12,-0.11,-0.10,-0.09]\n",
    "mean=[8]\n",
    "tresh=[-0.20]\n",
    "stds = np.zeros([len(mean), len(tresh),4])\n",
    "\n",
    "for n in mean:\n",
    "    for thr in tresh:\n",
    "        print(f'{n = }, \\t {thr = }\\t')\n",
    "\n",
    "        wf_1_len = len(paired_wf_1)\n",
    "        wf_2_len = len(paired_wf_2)\n",
    "\n",
    "        new_wf_1 = np.array(paired_wf_1).reshape([np.array(paired_wf_1).shape[0], 1, np.array(paired_wf_1).shape[1]])\n",
    "        new_wf_2 = np.array(paired_wf_2).reshape([np.array(paired_wf_2).shape[0], 1, np.array(paired_wf_2).shape[1]])\n",
    "\n",
    "        for evt in range(new_wf_1.shape[0]):\n",
    "            for ch in range(new_wf_1.shape[1]):\n",
    "                bsl_1 = new_wf_1[evt, ch, 0:32].mean()\n",
    "                bsl_2 = new_wf_2[evt, ch, 0:32].mean()\n",
    "                new_wf_1[evt, ch, :] = np.convolve(new_wf_1[evt, ch], [1/n] * n, mode = \"same\") - bsl_1\n",
    "                new_wf_2[evt, ch, :] = np.convolve(new_wf_2[evt, ch], [1/n] * n, mode = \"same\") - bsl_2\n",
    "\n",
    "\n",
    "        new_wf_1 = -norm(-new_wf_1.reshape(-1, 1024), norm = \"max\", axis = 1, copy = True, return_norm = False)\n",
    "        new_wf_2 = -norm(-new_wf_2.reshape(-1, 1024), norm = \"max\", axis = 1, copy = True, return_norm = False)\n",
    "\n",
    "        threshold = thr\n",
    "                \n",
    "\n",
    "        ledges1 = np.zeros(new_wf_1.shape[0])\n",
    "        ledges2 = np.zeros(new_wf_2.shape[0])\n",
    "\n",
    "        for evt in range(new_wf_1.shape[0]):\n",
    "            ledge= np.where(np.diff(np.sign(new_wf_1[evt] - threshold)))[0][0]\n",
    "            #ledges1[evt]=np.interp(threshold,  [new_wf_1[evt][ledge-shift], new_wf_1[evt][ledge+shift]], [ledge-shift, ledge+shift])\n",
    "            coef = np.polyfit(new_wf_1[evt][ledge-shiftL:ledge+shiftR],np.arange(ledge-shiftL, ledge+shiftR),1)\n",
    "            ledges1[evt] = np.poly1d(coef)(threshold) \n",
    "            ledge = np.where(np.diff(np.sign(new_wf_2[evt] - threshold)))[0][0]\n",
    "            #ledges2[evt]=np.interp(threshold,  [new_wf_2[evt][ledge-shift], new_wf_2[evt][ledge+shift]], [ledge-shift, ledge+shift])\n",
    "            coef = np.polyfit(new_wf_2[evt][ledge-shiftL:ledge+shiftR],np.arange(ledge-shiftL, ledge+shiftR),1)\n",
    "            ledges2[evt] = np.poly1d(coef)(threshold)\n",
    "        \n",
    "\n",
    "        timeres=ledges1-ledges2\n",
    "        for select in [0, 2, 4, 6, 10]:\n",
    "            std = []\n",
    "            mask=np.where((np.abs(timeres*sampling) < 30)&(whichpair==select))[0]\n",
    "            plt.hist(timeres[mask]*sampling, bins=50, range=(-20,20),alpha=0.4)\n",
    "            print(\"coppia [\",select+4, select+5,\"]:\", np.std(sampling*timeres[mask]), np.mean(sampling*timeres[mask]))\n",
    "            std.append(np.std(sampling*timeres[mask]))\n",
    "        stds[i][j] = std\n",
    "        j += 1\n",
    "    j = 0\n",
    "    i += 1\n",
    "\n",
    "\n",
    "#4.1669487180823195evt = 5"
   ]
  },
  {
   "cell_type": "code",
   "execution_count": 104,
   "metadata": {},
   "outputs": [],
   "source": [
    "coppia [ 4 5 ]: 3.393261202748157 -3.235944663325697\n",
    "coppia [ 6 7 ]: 2.9567535119924653 -2.4601729003574317\n",
    "coppia [ 8 9 ]: 3.3338540526211076 -1.8920056851600038\n",
    "coppia [ 10 11 ]: 2.8772929428303313 1.816683658720582\n",
    "coppia [ 14 15 ]: 2.714846666672362 -2.835637654703014"
   ]
  },
  {
   "cell_type": "code",
   "execution_count": 70,
   "metadata": {},
   "outputs": [
    {
     "name": "stdout",
     "output_type": "stream",
     "text": [
      "coppia [ 4 5 ]: 6.9179525 -2.1585374\n",
      "coppia [ 6 7 ]: 7.4586387 0.46286175\n",
      "coppia [ 8 9 ]: 9.000173 -4.4304943\n",
      "coppia [ 10 11 ]: 5.3801003 0.6107854\n",
      "coppia [ 14 15 ]: 5.6861076 -2.470925\n"
     ]
    },
    {
     "data": {
      "text/plain": [
       "<matplotlib.legend.Legend at 0x2a6fc5690>"
      ]
     },
     "execution_count": 17,
     "metadata": {},
     "output_type": "execute_result"
    },
    {
     "data": {
      "image/png": "[encoded data removed]",
      "text/plain": [
       "<Figure size 640x480 with 1 Axes>"
      ]
     },
     "metadata": {},
     "output_type": "display_data"
    }
   ],
   "source": [
    "  for select in [0, 2, 4, 6, 10]:\n",
    "            std = []\n",
    "            letimes=np.array(paired_letime_1)-np.array(paired_letime_2)\n",
    "            mask=np.where((np.abs(letimes) < 40)&(whichpair==select))[0]\n",
    "            plt.hist(letimes[mask], bins=50, range=(-40,40),alpha=0.4, label={select})\n",
    "            print(\"coppia [\",select+4, select+5,\"]:\", np.std(letimes[mask]), np.mean(letimes[mask]))\n",
    "            std.append(np.std(letimes[mask]))\n",
    "plt.legend()"
   ]
  },
  {
   "cell_type": "code",
   "execution_count": null,
   "metadata": {},
   "outputs": [],
   "source": []
  },
  {
   "cell_type": "code",
   "execution_count": null,
   "metadata": {},
   "outputs": [],
   "source": []
  },
  {
   "cell_type": "code",
   "execution_count": null,
   "metadata": {},
   "outputs": [],
   "source": []
  },
  {
   "cell_type": "code",
   "execution_count": null,
   "metadata": {},
   "outputs": [],
   "source": []
  }
 ],
 "metadata": {
  "kernelspec": {
   "display_name": "base",
   "language": "python",
   "name": "python3"
  },
  "language_info": {
   "codemirror_mode": {
    "name": "ipython",
    "version": 3
   },
   "file_extension": ".py",
   "mimetype": "text/x-python",
   "name": "python",
   "nbconvert_exporter": "python",
   "pygments_lexer": "ipython3",
   "version": "3.10.10"
  }
 },
 "nbformat": 4,
 "nbformat_minor": 2
}
