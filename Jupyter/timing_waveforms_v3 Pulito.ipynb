{
 "cells": [
  {
   "cell_type": "code",
   "execution_count": 1,
   "metadata": {},
   "outputs": [
    {
     "name": "stdout",
     "output_type": "stream",
     "text": [
      "Welcome to JupyROOT 6.30/04\n"
     ]
    }
   ],
   "source": [
    "import ROOT\n",
    "import uproot\n",
    "import matplotlib.pyplot as plt\n",
    "import numpy as np\n",
    "import awkward as ak\n",
    "\n",
    "from sklearn.preprocessing import normalize as norm"
   ]
  },
  {
   "cell_type": "code",
   "execution_count": 2,
   "metadata": {},
   "outputs": [],
   "source": [
    "FILE_PATH = \"../Dati/Run_Natrigger512_Data_5_17_2024_Ascii_0000.root\" #Relative file path\n",
    "file1 = uproot.open(FILE_PATH)\n"
   ]
  },
  {
   "cell_type": "code",
   "execution_count": 3,
   "metadata": {},
   "outputs": [
    {
     "name": "stdout",
     "output_type": "stream",
     "text": [
      "[[4, 5, 6, 7, 8, 9, 10, 11, 12, 13, 14, 15], ..., [4, 5, 6, 7, ..., 13, 14, 15]]\n"
     ]
    }
   ],
   "source": [
    "nch=file1[\"tree\"][\"ch\"].array()\n",
    "print(nch)"
   ]
  },
  {
   "cell_type": "code",
   "execution_count": 4,
   "metadata": {},
   "outputs": [],
   "source": [
    "\n",
    "baselines = file1[\"tree\"][\"base\"].array()\n",
    "charges = file1[\"tree\"][\"charge\"].array()\n",
    "amp = file1[\"tree\"][\"amp\"].array()\n",
    "lead_edge = file1[\"tree\"][\"letime\"].array()\n",
    "t_edge = file1[\"tree\"][\"tetime\"].array()\n",
    "channel= file1[\"tree\"][\"ch\"].array()\n",
    "waveform = file1[\"tree\"][\"pshape\"].array()"
   ]
  },
  {
   "cell_type": "code",
   "execution_count": 5,
   "metadata": {},
   "outputs": [
    {
     "name": "stdout",
     "output_type": "stream",
     "text": [
      "30000\n"
     ]
    }
   ],
   "source": [
    "N_ev=len(charges[:, 0])\n",
    "print(N_ev)\n",
    "\n"
   ]
  },
  {
   "cell_type": "code",
   "execution_count": 6,
   "metadata": {},
   "outputs": [
    {
     "name": "stdout",
     "output_type": "stream",
     "text": [
      "42\n",
      "1473\n"
     ]
    },
    {
     "data": {
      "text/plain": [
       "<matplotlib.legend.Legend at 0x703f4016f700>"
      ]
     },
     "execution_count": 6,
     "metadata": {},
     "output_type": "execute_result"
    },
    {
     "data": {
      "image/png": "[encoded data removed]",
      "text/plain": [
       "<Figure size 1000x300 with 2 Axes>"
      ]
     },
     "metadata": {},
     "output_type": "display_data"
    }
   ],
   "source": [
    "channel=15\n",
    "bins = 200\n",
    "\n",
    "right = [8,14,7,7,14,8,8,8,8,0,7,10]\n",
    "left = [6,14,5,6,5,3,4,5,5,0,6,4]\n",
    "#right = np.repeat(20,12)\n",
    "#left = np.repeat(20,12)\n",
    "plt.figure(figsize=(10,3))\n",
    "plt.subplot(1,2,1)\n",
    "a=plt.hist(amp[:, channel-4], bins=bins, range=(-1, -0.03), label='amp')\n",
    "plt.legend()\n",
    "plt.subplot(1,2,2)\n",
    "b=plt.hist(charges[:, channel-4], bins=bins, range=(-2000, -50), label='charge')\n",
    "\n",
    "\n",
    "print(np.argmax(b[0]))\n",
    "idx=np.argmax(b[0])\n",
    "mask=np.where( (charges[:,channel-4]>b[1][idx-left[channel-4]]) &( charges[:, channel-4]<b[1][idx+right[channel-4]]))[0]\n",
    "print(len(mask))\n",
    "\n",
    "b1=plt.hist(charges[:, channel-4][mask], bins=bins, range=(-2000, -50), label='charge')\n",
    "plt.legend()\n",
    "\n"
   ]
  },
  {
   "cell_type": "code",
   "execution_count": 7,
   "metadata": {},
   "outputs": [
    {
     "name": "stdout",
     "output_type": "stream",
     "text": [
      "mappa: [-1 -1 -1 -1  0  1  2  3  4  5  6  7 -1 -1  8  9]\n",
      "Primo limite: [[-791.0, -654.5], [-888.5, -771.5], [-1015.25, -830.0], [-479.0, -362.0], [-1181.0, -1054.25]]\n",
      "Secondo limite: [[-1395.5, -1122.5], [-1278.5, -1151.75], [-557.0, -449.75], [-791.0, -664.25], [-1629.5, -1493.0]]\n"
     ]
    },
    {
     "name": "stderr",
     "output_type": "stream",
     "text": [
      "/tmp/ipykernel_59060/375166755.py:25: DeprecationWarning: Conversion of an array with ndim > 0 to a scalar is deprecated, and will error in future. Ensure you extract a single element from your array before performing this operation. (Deprecated NumPy 1.25.)\n",
      "  map[i]=np.where(coppia.flatten()==i)[0]\n"
     ]
    }
   ],
   "source": [
    "limL=np.zeros(16)\n",
    "limR=np.zeros(16)\n",
    "for channel in range(4,16):\n",
    "    try:\n",
    "        b=np.histogram(charges[:, channel-4], bins=bins, range=(-2000, -50))\n",
    "        idx=np.argmax(b[0])\n",
    "        limL[channel]=b[1][idx-left[channel-4]]\n",
    "        limR[channel]=b[1][idx+right[channel-4]]\n",
    "\n",
    "    except IndexError:\n",
    "        limL[channel]=b[1][idx]\n",
    "        limR[channel]=b[1][idx+1]\n",
    "        continue\n",
    "\n",
    "canale=[4,5,6,7,8,9,10,11,12,13,14,15]\n",
    "coppia=np.array([ [4,5], [6,7], [8,9], [10,11],[14,15] ])\n",
    "#coppia=np.array([[4,5]])\n",
    "firstch = coppia[:,0]\n",
    "secondch = coppia[:,1]\n",
    "\n",
    "map = np.repeat(-1,16)\n",
    "\n",
    "for i in range(16):\n",
    "    if np.where(coppia.flatten()==i)[0].size>0:\n",
    "        map[i]=np.where(coppia.flatten()==i)[0]\n",
    "print(\"mappa:\",map)\n",
    "\n",
    "firstch_limits=[ [limL[coppia[i][0]], limR[coppia[i][0]]] for i in range(len(coppia))]\n",
    "secondch_limits=[[limL[coppia[i][1]], limR[coppia[i][1]]] for i in range(len(coppia))]\n",
    "\n",
    "print(\"Primo limite:\",firstch_limits)\n",
    "print(\"Secondo limite:\",secondch_limits)"
   ]
  },
  {
   "cell_type": "code",
   "execution_count": 8,
   "metadata": {},
   "outputs": [],
   "source": [
    "paired_amp_1 = []\n",
    "paired_charge_1 = []\n",
    "paired_letime_1 = []\n",
    "paired_wf_1 = []\n",
    "\n",
    "\n",
    "paired_amp_2 = []\n",
    "paired_charge_2 = []\n",
    "paired_letime_2 = []\n",
    "paired_wf_2 = []\n",
    "\n",
    "whichpair=[]\n",
    "\n",
    "for event in range(N_ev):\n",
    "    for channel1, channel2, limF, limS in zip(map[firstch],map[secondch],firstch_limits,secondch_limits):\n",
    "        #controllo se c'è un evento nel primo della coppia\n",
    "        if(charges[event][channel1] >= limF[0] and charges[event][channel1] <= limF[1]):\n",
    "            #se sì, vedo se ce n'è uno anche nel secondo della coppia\n",
    "            if (charges[event][channel2] >= limS[0] and charges[event][channel2] <= limS[1]):\n",
    "                #salvo i parametri del primo canale della coppia\n",
    "                whichpair.append(channel1)\n",
    "\n",
    "                paired_amp_1.append(amp[event][channel1])\n",
    "                paired_charge_1.append(charges[event][channel1])\n",
    "                paired_letime_1.append(lead_edge[event][channel1])\n",
    "                paired_wf_1.append(waveform[event][channel1])\n",
    "\n",
    "                paired_amp_2.append(amp[event][channel2])\n",
    "                paired_charge_2.append(charges[event][channel2])\n",
    "                paired_letime_2.append(lead_edge[event][channel2])\n",
    "                paired_wf_2.append(waveform[event][channel2])\n",
    "\n",
    "#import gc\n",
    "#del waveform100\n",
    "#gc.collect()\n",
    "whichpair = np.array(whichpair)\n",
    "\n"
   ]
  },
  {
   "cell_type": "code",
   "execution_count": 9,
   "metadata": {},
   "outputs": [
    {
     "name": "stdout",
     "output_type": "stream",
     "text": [
      "1659\n"
     ]
    },
    {
     "data": {
      "text/plain": [
       "(array([194.,   0.,   0., 264.,   0.,   0., 818.,   0.,   0., 383.]),\n",
       " array([0. , 0.6, 1.2, 1.8, 2.4, 3. , 3.6, 4.2, 4.8, 5.4, 6. ]),\n",
       " <BarContainer object of 10 artists>)"
      ]
     },
     "execution_count": 9,
     "metadata": {},
     "output_type": "execute_result"
    },
    {
     "data": {
      "image/png": "[encoded data removed]",
      "text/plain": [
       "<Figure size 640x480 with 1 Axes>"
      ]
     },
     "metadata": {},
     "output_type": "display_data"
    }
   ],
   "source": [
    "print(len(paired_amp_1))\n",
    "plt.hist(whichpair)\n"
   ]
  },
  {
   "cell_type": "code",
   "execution_count": 10,
   "metadata": {},
   "outputs": [
    {
     "name": "stdout",
     "output_type": "stream",
     "text": [
      "n = 7, \t thr = -0.12\t\n",
      "channel: 0 2.7352853007462965 -3.34891046919984\n",
      "channel: 2 2.6202088821934644 -2.793552113226951\n",
      "channel: 4 2.6306975889342086 -1.4827770337773432\n",
      "channel: 6 2.6122184757632625 2.2509968954692177\n",
      "n = 7, \t thr = -0.11\t\n",
      "channel: 0 2.731046501926144 -3.32659093559692\n",
      "channel: 2 2.61282053516111 -2.7976488920552103\n",
      "channel: 4 2.6154888201335313 -1.4647762373893978\n",
      "channel: 6 2.611976626954326 2.2531528653062494\n",
      "n = 7, \t thr = -0.1\t\n",
      "channel: 0 2.7455610711784417 -3.307875210488663\n",
      "channel: 2 2.593291297678609 -2.7779243624870746\n",
      "channel: 4 2.6071751463422035 -1.4334035949495563\n",
      "channel: 6 2.6158912740456004 2.273588751655351\n",
      "n = 7, \t thr = -0.09\t\n",
      "channel: 0 2.7495330678053915 -3.2886471752494737\n",
      "channel: 2 2.5625747737614217 -2.7805384879951838\n",
      "channel: 4 2.5809501078945596 -1.4317243732409894\n",
      "channel: 6 2.568169406373626 2.2632322657140045\n",
      "n = 8, \t thr = -0.12\t\n",
      "channel: 0 2.736086235212861 -3.411183506541317\n",
      "channel: 2 2.6436524795696905 -2.8371277487205093\n",
      "channel: 4 2.6659980023916954 -1.4768473492157483\n",
      "channel: 6 2.5716175289320105 2.2175425375099214\n",
      "n = 8, \t thr = -0.11\t\n",
      "channel: 0 2.717556903048498 -3.340617562621024\n",
      "channel: 2 2.623583624061483 -2.8330918543549197\n",
      "channel: 4 2.6469590626328605 -1.4518284625264772\n",
      "channel: 6 2.5715801594910035 2.2329308163333144\n",
      "n = 8, \t thr = -0.1\t\n",
      "channel: 0 2.7170825475951284 -3.3221013672696222\n",
      "channel: 2 2.616055086673347 -2.823696942012738\n",
      "channel: 4 2.617102377175781 -1.4285294881116244\n",
      "channel: 6 2.566355519363279 2.238500390528357\n",
      "n = 8, \t thr = -0.09\t\n",
      "channel: 0 2.723469199451852 -3.3185735267446943\n",
      "channel: 2 2.5817519970262506 -2.7873201437750135\n",
      "channel: 4 2.6041432775841447 -1.3927382957914813\n",
      "channel: 6 2.6006215133953403 2.2748462570558425\n",
      "n = 9, \t thr = -0.12\t\n",
      "channel: 0 2.757151821045981 -3.4633100619837887\n",
      "channel: 2 2.5937291890067913 -2.89535907519239\n",
      "channel: 4 2.674460744984679 -1.4481303276040085\n",
      "channel: 6 2.5753834837369656 2.2154757817833093\n",
      "n = 9, \t thr = -0.11\t\n",
      "channel: 0 2.7223342342222154 -3.434832468260833\n",
      "channel: 2 2.633517752309167 -2.8630802978472625\n",
      "channel: 4 2.6594199178123836 -1.4391337177663572\n",
      "channel: 6 2.564035986556053 2.2126428880479887\n",
      "n = 9, \t thr = -0.1\t\n",
      "channel: 0 2.7126634991391745 -3.3551364706308977\n",
      "channel: 2 2.613951498501987 -2.852741796536395\n",
      "channel: 4 2.644900826764676 -1.4204462256796537\n",
      "channel: 6 2.551102925173066 2.24067938193282\n",
      "n = 9, \t thr = -0.09\t\n",
      "channel: 0 2.700581050308631 -3.336959787820753\n",
      "channel: 2 2.5966149117950326 -2.8197637147592647\n",
      "channel: 4 2.6118487314966092 -1.3842162872502408\n",
      "channel: 6 2.5585094285080237 2.241832059142476\n",
      "n = 10, \t thr = -0.12\t\n",
      "channel: 0 2.7389765088706586 -3.479586430781901\n",
      "channel: 2 2.5920660691264916 -2.88449699458375\n",
      "channel: 4 2.6931015416889044 -1.4636895543908957\n",
      "channel: 6 2.6003740204717376 2.2049484529511334\n",
      "n = 10, \t thr = -0.11\t\n",
      "channel: 0 2.7519306600333318 -3.4720606980830575\n",
      "channel: 2 2.583792657158398 -2.924013491578589\n",
      "channel: 4 2.6602872005145426 -1.4312599211709598\n",
      "channel: 6 2.5642884790363487 2.2182269416634486\n",
      "n = 10, \t thr = -0.1\t\n",
      "channel: 0 2.716141106266609 -3.4388265370760243\n",
      "channel: 2 2.6160794051629073 -2.8827977091400165\n",
      "channel: 4 2.6522908187990706 -1.422783335566751\n",
      "channel: 6 2.566366516735796 2.2244862851540206\n",
      "n = 10, \t thr = -0.09\t\n",
      "channel: 0 2.688374047604409 -3.348572055688394\n",
      "channel: 2 2.6508421073115005 -2.8869223670183035\n",
      "channel: 4 2.638812258530061 -1.3954535119635452\n",
      "channel: 6 2.566974102747196 2.2611810576372795\n"
     ]
    },
    {
     "data": {
      "image/png": "[encoded data removed]",
      "text/plain": [
       "<Figure size 640x480 with 1 Axes>"
      ]
     },
     "metadata": {},
     "output_type": "display_data"
    }
   ],
   "source": [
    "i = 0\n",
    "j = 0\n",
    "sampling=1.875\n",
    "shiftR=8\n",
    "shiftL=2\n",
    "mean = [7,8,9,10]\n",
    "tresh = [-0.12,-0.11,-0.10,-0.09]\n",
    "stds = np.zeros([len(mean), len(tresh),4])\n",
    "\n",
    "for n in mean:\n",
    "    for thr in tresh:\n",
    "        print(f'{n = }, \\t {thr = }\\t')\n",
    "\n",
    "        wf_1_len = len(paired_wf_1)\n",
    "        wf_2_len = len(paired_wf_2)\n",
    "\n",
    "        new_wf_1 = np.array(paired_wf_1).reshape([np.array(paired_wf_1).shape[0], 1, np.array(paired_wf_1).shape[1]])\n",
    "        new_wf_2 = np.array(paired_wf_2).reshape([np.array(paired_wf_2).shape[0], 1, np.array(paired_wf_2).shape[1]])\n",
    "\n",
    "        for evt in range(new_wf_1.shape[0]):\n",
    "            for ch in range(new_wf_1.shape[1]):\n",
    "                bsl_1 = new_wf_1[evt, ch, 0:32].mean()\n",
    "                bsl_2 = new_wf_2[evt, ch, 0:32].mean()\n",
    "                new_wf_1[evt, ch, :] = np.convolve(new_wf_1[evt, ch], [1/n] * n, mode = \"same\") - bsl_1\n",
    "                new_wf_2[evt, ch, :] = np.convolve(new_wf_2[evt, ch], [1/n] * n, mode = \"same\") - bsl_2\n",
    "\n",
    "\n",
    "        new_wf_1 = -norm(-new_wf_1.reshape(-1, 1024), norm = \"max\", axis = 1, copy = True, return_norm = False)\n",
    "        new_wf_2 = -norm(-new_wf_2.reshape(-1, 1024), norm = \"max\", axis = 1, copy = True, return_norm = False)\n",
    "\n",
    "        threshold = thr\n",
    "                \n",
    "\n",
    "        ledges1 = np.zeros(new_wf_1.shape[0])\n",
    "        ledges2 = np.zeros(new_wf_2.shape[0])\n",
    "\n",
    "        for evt in range(new_wf_1.shape[0]):\n",
    "            ledge= np.where(np.diff(np.sign(new_wf_1[evt] - threshold)))[0][0]\n",
    "            #ledges1[evt]=np.interp(threshold,  [new_wf_1[evt][ledge-shift], new_wf_1[evt][ledge+shift]], [ledge-shift, ledge+shift])\n",
    "            coef = np.polyfit(new_wf_1[evt][ledge-shiftL:ledge+shiftR],np.arange(ledge-shiftL, ledge+shiftR),1)\n",
    "            ledges1[evt] = np.poly1d(coef)(threshold) \n",
    "            ledge = np.where(np.diff(np.sign(new_wf_2[evt] - threshold)))[0][0]\n",
    "            #ledges2[evt]=np.interp(threshold,  [new_wf_2[evt][ledge-shift], new_wf_2[evt][ledge+shift]], [ledge-shift, ledge+shift])\n",
    "            coef = np.polyfit(new_wf_2[evt][ledge-shiftL:ledge+shiftR],np.arange(ledge-shiftL, ledge+shiftR),1)\n",
    "            ledges2[evt] = np.poly1d(coef)(threshold)\n",
    "        \n",
    "\n",
    "        timeres=ledges1-ledges2\n",
    "        for select in range(0,8,2):\n",
    "            std = []\n",
    "            mask=np.where((np.abs(timeres*sampling) < 10)&(whichpair==select))[0]\n",
    "            plt.hist(timeres[mask]*sampling, bins=50, range=(-20,20),alpha=0.4)\n",
    "            print(\"channel:\",select,np.std(sampling*timeres[mask]), np.mean(sampling*timeres[mask]))\n",
    "            std.append(np.std(sampling*timeres[mask]))\n",
    "        stds[i][j] = std\n",
    "        j += 1\n",
    "    j = 0\n",
    "    i += 1\n",
    "\n",
    "\n",
    "#4.1669487180823195evt = 5"
   ]
  },
  {
   "cell_type": "code",
   "execution_count": 11,
   "metadata": {},
   "outputs": [
    {
     "data": {
      "text/plain": [
       "Text(0, 0.5, 'std [ns]')"
      ]
     },
     "execution_count": 11,
     "metadata": {},
     "output_type": "execute_result"
    },
    {
     "data": {
      "image/png": "[encoded data removed]",
      "text/plain": [
       "<Figure size 640x480 with 1 Axes>"
      ]
     },
     "metadata": {},
     "output_type": "display_data"
    }
   ],
   "source": [
    "select = 0\n",
    "for n in range(len(tresh)):\n",
    "    plt.plot(tresh, stds[n,:][select], label = f'{n=}')\n",
    "plt.legend()\n",
    "plt.xlabel(\"threshold [V]\")\n",
    "plt.ylabel(\"std [ns]\")"
   ]
  },
  {
   "cell_type": "code",
   "execution_count": 12,
   "metadata": {},
   "outputs": [
    {
     "name": "stdout",
     "output_type": "stream",
     "text": [
      "-6.129394390615843\n"
     ]
    },
    {
     "data": {
      "text/plain": [
       "(220.0, 400.0)"
      ]
     },
     "execution_count": 12,
     "metadata": {},
     "output_type": "execute_result"
    },
    {
     "data": {
      "image/png": "[encoded data removed]",
      "text/plain": [
       "<Figure size 640x480 with 1 Axes>"
      ]
     },
     "metadata": {},
     "output_type": "display_data"
    }
   ],
   "source": [
    "evt = 2\n",
    "plt.plot(np.arange(0, 1024)*sampling, new_wf_1[evt],'.')\n",
    "plt.plot(np.arange(0, 1024)*sampling, new_wf_2[evt],'.')\n",
    "plt.scatter(ledges1[evt]*sampling,threshold,c=\"red\")\n",
    "plt.scatter(ledges2[evt]*sampling,threshold,c=\"yellow\")\n",
    "print((ledges1[evt]-ledges2[evt])*sampling)\n",
    "plt.xlim(220,400)"
   ]
  },
  {
   "cell_type": "code",
   "execution_count": null,
   "metadata": {},
   "outputs": [],
   "source": []
  },
  {
   "cell_type": "code",
   "execution_count": null,
   "metadata": {},
   "outputs": [],
   "source": []
  },
  {
   "cell_type": "code",
   "execution_count": null,
   "metadata": {},
   "outputs": [],
   "source": []
  },
  {
   "cell_type": "code",
   "execution_count": null,
   "metadata": {},
   "outputs": [],
   "source": []
  }
 ],
 "metadata": {
  "kernelspec": {
   "display_name": "base",
   "language": "python",
   "name": "python3"
  },
  "language_info": {
   "codemirror_mode": {
    "name": "ipython",
    "version": 3
   },
   "file_extension": ".py",
   "mimetype": "text/x-python",
   "name": "python",
   "nbconvert_exporter": "python",
   "pygments_lexer": "ipython3",
   "version": "3.10.12"
  }
 },
 "nbformat": 4,
 "nbformat_minor": 2
}
