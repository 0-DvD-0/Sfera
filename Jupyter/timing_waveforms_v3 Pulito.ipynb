{
 "cells": [
  {
   "cell_type": "code",
   "execution_count": 1,
   "metadata": {},
   "outputs": [
    {
     "name": "stdout",
     "output_type": "stream",
     "text": [
      "Welcome to JupyROOT 6.30/04\n"
     ]
    }
   ],
   "source": [
    "import ROOT\n",
    "import uproot\n",
    "import matplotlib.pyplot as plt\n",
    "import numpy as np\n",
    "import awkward as ak\n",
    "\n",
    "from sklearn.preprocessing import normalize as norm"
   ]
  },
  {
   "cell_type": "code",
   "execution_count": 2,
   "metadata": {},
   "outputs": [],
   "source": [
    "FILE_PATH = \"../Dati/Run_Natrigger512_Data_5_17_2024_Ascii_0000.root\" #Relative file path\n",
    "file1 = uproot.open(FILE_PATH)\n"
   ]
  },
  {
   "cell_type": "code",
   "execution_count": 4,
   "metadata": {},
   "outputs": [
    {
     "name": "stdout",
     "output_type": "stream",
     "text": [
      "[[4, 5, 6, 7, 8, 9, 10, 11, 12, 13, 14, 15], ..., [4, 5, 6, 7, ..., 13, 14, 15]]\n"
     ]
    }
   ],
   "source": [
    "nch=file1[\"tree\"][\"ch\"].array()\n",
    "print(nch)"
   ]
  },
  {
   "cell_type": "code",
   "execution_count": 5,
   "metadata": {},
   "outputs": [],
   "source": [
    "\n",
    "baselines = file1[\"tree\"][\"base\"].array()\n",
    "charges = file1[\"tree\"][\"charge\"].array()\n",
    "amp = file1[\"tree\"][\"amp\"].array()\n",
    "lead_edge = file1[\"tree\"][\"letime\"].array()\n",
    "t_edge = file1[\"tree\"][\"tetime\"].array()\n",
    "channel= file1[\"tree\"][\"ch\"].array()\n",
    "waveform = file1[\"tree\"][\"pshape\"].array()"
   ]
  },
  {
   "cell_type": "code",
   "execution_count": 6,
   "metadata": {},
   "outputs": [
    {
     "name": "stdout",
     "output_type": "stream",
     "text": [
      "30000\n"
     ]
    }
   ],
   "source": [
    "N_ev=len(charges[:, 0])\n",
    "print(N_ev)\n",
    "\n"
   ]
  },
  {
   "cell_type": "code",
   "execution_count": 7,
   "metadata": {},
   "outputs": [
    {
     "name": "stdout",
     "output_type": "stream",
     "text": [
      "42\n",
      "1473\n"
     ]
    },
    {
     "data": {
      "text/plain": [
       "<matplotlib.legend.Legend at 0x7f14f02baec0>"
      ]
     },
     "execution_count": 7,
     "metadata": {},
     "output_type": "execute_result"
    },
    {
     "data": {
      "image/png": "[encoded data removed]",
      "text/plain": [
       "<Figure size 1000x300 with 2 Axes>"
      ]
     },
     "metadata": {},
     "output_type": "display_data"
    }
   ],
   "source": [
    "channel=15\n",
    "bins = 200\n",
    "\n",
    "right = [8,14,7,7,14,8,8,8,8,0,7,10]\n",
    "left = [6,14,5,6,5,3,4,5,5,0,6,4]\n",
    "#right = np.repeat(20,12)\n",
    "#left = np.repeat(20,12)\n",
    "plt.figure(figsize=(10,3))\n",
    "plt.subplot(1,2,1)\n",
    "a=plt.hist(amp[:, channel-4], bins=bins, range=(-1, -0.03), label='amp')\n",
    "plt.legend()\n",
    "plt.subplot(1,2,2)\n",
    "b=plt.hist(charges[:, channel-4], bins=bins, range=(-2000, -50), label='charge')\n",
    "\n",
    "\n",
    "print(np.argmax(b[0]))\n",
    "idx=np.argmax(b[0])\n",
    "mask=np.where( (charges[:,channel-4]>b[1][idx-left[channel-4]]) &( charges[:, channel-4]<b[1][idx+right[channel-4]]))[0]\n",
    "print(len(mask))\n",
    "\n",
    "b1=plt.hist(charges[:, channel-4][mask], bins=bins, range=(-2000, -50), label='charge')\n",
    "plt.legend()\n",
    "\n"
   ]
  },
  {
   "cell_type": "code",
   "execution_count": 9,
   "metadata": {},
   "outputs": [
    {
     "name": "stdout",
     "output_type": "stream",
     "text": [
      "mappa: [-1 -1 -1 -1  0  1  2  3  4  5  6  7 -1 -1  8  9]\n",
      "Primo limite: [[-791.0, -654.5], [-888.5, -771.5], [-1015.25, -830.0], [-479.0, -362.0], [-1181.0, -1054.25]]\n",
      "Secondo limite: [[-1395.5, -1122.5], [-1278.5, -1151.75], [-557.0, -449.75], [-791.0, -664.25], [-1629.5, -1493.0]]\n"
     ]
    },
    {
     "name": "stderr",
     "output_type": "stream",
     "text": [
      "/tmp/ipykernel_57239/375166755.py:25: DeprecationWarning: Conversion of an array with ndim > 0 to a scalar is deprecated, and will error in future. Ensure you extract a single element from your array before performing this operation. (Deprecated NumPy 1.25.)\n",
      "  map[i]=np.where(coppia.flatten()==i)[0]\n"
     ]
    }
   ],
   "source": [
    "limL=np.zeros(16)\n",
    "limR=np.zeros(16)\n",
    "for channel in range(4,16):\n",
    "    try:\n",
    "        b=np.histogram(charges[:, channel-4], bins=bins, range=(-2000, -50))\n",
    "        idx=np.argmax(b[0])\n",
    "        limL[channel]=b[1][idx-left[channel-4]]\n",
    "        limR[channel]=b[1][idx+right[channel-4]]\n",
    "\n",
    "    except IndexError:\n",
    "        limL[channel]=b[1][idx]\n",
    "        limR[channel]=b[1][idx+1]\n",
    "        continue\n",
    "\n",
    "canale=[4,5,6,7,8,9,10,11,12,13,14,15]\n",
    "coppia=np.array([ [4,5], [6,7], [8,9], [10,11],[14,15] ])\n",
    "#coppia=np.array([[4,5]])\n",
    "firstch = coppia[:,0]\n",
    "secondch = coppia[:,1]\n",
    "\n",
    "map = np.repeat(-1,16)\n",
    "\n",
    "for i in range(16):\n",
    "    if np.where(coppia.flatten()==i)[0].size>0:\n",
    "        map[i]=np.where(coppia.flatten()==i)[0]\n",
    "print(\"mappa:\",map)\n",
    "\n",
    "firstch_limits=[ [limL[coppia[i][0]], limR[coppia[i][0]]] for i in range(len(coppia))]\n",
    "secondch_limits=[[limL[coppia[i][1]], limR[coppia[i][1]]] for i in range(len(coppia))]\n",
    "\n",
    "print(\"Primo limite:\",firstch_limits)\n",
    "print(\"Secondo limite:\",secondch_limits)"
   ]
  },
  {
   "cell_type": "code",
   "execution_count": 10,
   "metadata": {},
   "outputs": [],
   "source": [
    "paired_amp_1 = []\n",
    "paired_charge_1 = []\n",
    "paired_letime_1 = []\n",
    "paired_wf_1 = []\n",
    "\n",
    "\n",
    "paired_amp_2 = []\n",
    "paired_charge_2 = []\n",
    "paired_letime_2 = []\n",
    "paired_wf_2 = []\n",
    "\n",
    "whichpair=[]\n",
    "\n",
    "for event in range(N_ev):\n",
    "    for channel1, channel2, limF, limS in zip(map[firstch],map[secondch],firstch_limits,secondch_limits):\n",
    "        #controllo se c'è un evento nel primo della coppia\n",
    "        if(charges[event][channel1] >= limF[0] and charges[event][channel1] <= limF[1]):\n",
    "            #se sì, vedo se ce n'è uno anche nel secondo della coppia\n",
    "            if (charges[event][channel2] >= limS[0] and charges[event][channel2] <= limS[1]):\n",
    "                #salvo i parametri del primo canale della coppia\n",
    "                whichpair.append(channel1)\n",
    "\n",
    "                paired_amp_1.append(amp[event][channel1])\n",
    "                paired_charge_1.append(charges[event][channel1])\n",
    "                paired_letime_1.append(lead_edge[event][channel1])\n",
    "                paired_wf_1.append(waveform[event][channel1])\n",
    "\n",
    "                paired_amp_2.append(amp[event][channel2])\n",
    "                paired_charge_2.append(charges[event][channel2])\n",
    "                paired_letime_2.append(lead_edge[event][channel2])\n",
    "                paired_wf_2.append(waveform[event][channel2])\n",
    "\n",
    "#import gc\n",
    "#del waveform100\n",
    "#gc.collect()\n",
    "whichpair = np.array(whichpair)\n",
    "\n"
   ]
  },
  {
   "cell_type": "code",
   "execution_count": 11,
   "metadata": {},
   "outputs": [
    {
     "name": "stdout",
     "output_type": "stream",
     "text": [
      "1659\n"
     ]
    },
    {
     "data": {
      "text/plain": [
       "(array([194.,   0.,   0., 264.,   0.,   0., 818.,   0.,   0., 383.]),\n",
       " array([0. , 0.6, 1.2, 1.8, 2.4, 3. , 3.6, 4.2, 4.8, 5.4, 6. ]),\n",
       " <BarContainer object of 10 artists>)"
      ]
     },
     "execution_count": 11,
     "metadata": {},
     "output_type": "execute_result"
    },
    {
     "data": {
      "image/png": "[encoded data removed]",
      "text/plain": [
       "<Figure size 640x480 with 1 Axes>"
      ]
     },
     "metadata": {},
     "output_type": "display_data"
    }
   ],
   "source": [
    "print(len(paired_amp_1))\n",
    "plt.hist(whichpair)\n"
   ]
  },
  {
   "cell_type": "code",
   "execution_count": 22,
   "metadata": {},
   "outputs": [
    {
     "name": "stdout",
     "output_type": "stream",
     "text": [
      "n = 7, \t thr = -0.12\t\n",
      "channel: 0 2.715770039372332 -2.929260929062491\n",
      "channel: 2 2.6354593275824496 -2.3420702342637867\n",
      "channel: 4 2.6559467955827647 -1.0649428256500888\n",
      "channel: 6 2.5710700347293733 2.6633524087973344\n",
      "n = 7, \t thr = -0.11\t\n",
      "channel: 0 2.703390178226985 -2.8843417417710815\n",
      "channel: 2 2.625311577015518 -2.3321269779340796\n",
      "channel: 4 2.623261436558106 -1.00284381706706\n",
      "channel: 6 2.571829235905841 2.7009509691639564\n",
      "n = 7, \t thr = -0.1\t\n",
      "channel: 0 2.71862703922622 -2.8314300909429253\n",
      "channel: 2 2.644805496140516 -2.323830711776514\n",
      "channel: 4 2.6153109898528757 -0.9373160699767086\n",
      "channel: 6 2.5729218664764324 2.763625755376888\n",
      "n = 7, \t thr = -0.09\t\n",
      "channel: 0 2.7276697139392656 -2.7817383834869185\n",
      "channel: 2 2.588993371086168 -2.2802467431402476\n",
      "channel: 4 2.5859503189621824 -0.9026239958452426\n",
      "channel: 6 2.534235830663864 2.7900452818455266\n",
      "n = 8, \t thr = -0.12\t\n",
      "channel: 0 2.715792858243275 -2.988294698905016\n",
      "channel: 2 2.671642386581084 -2.4018203674070793\n",
      "channel: 4 2.679929458408796 -1.0377477828735313\n",
      "channel: 6 2.565135187036428 2.657049636301332\n",
      "n = 8, \t thr = -0.11\t\n",
      "channel: 0 2.7049238509389184 -2.901200969801152\n",
      "channel: 2 2.650149093758086 -2.3730437577347234\n",
      "channel: 4 2.6644524943308174 -0.9855872323435766\n",
      "channel: 6 2.5612836469539833 2.7085461551467382\n",
      "n = 8, \t thr = -0.1\t\n",
      "channel: 0 2.7049760274504107 -2.848343060491349\n",
      "channel: 2 2.6481400186932706 -2.342292980487196\n",
      "channel: 4 2.636731942240478 -0.9251260473795664\n",
      "channel: 6 2.5584669944372322 2.7530805183596554\n",
      "n = 8, \t thr = -0.09\t\n",
      "channel: 0 2.7064164960296075 -2.8091026740323533\n",
      "channel: 2 2.6106232993440504 -2.288122045819007\n",
      "channel: 4 2.6210561137780077 -0.8510328585247241\n",
      "channel: 6 2.5408527812916013 2.792808567447377\n",
      "n = 9, \t thr = -0.12\t\n",
      "channel: 0 2.745823834010915 -3.0360211870919738\n",
      "channel: 2 2.6238291508142995 -2.4658007851825\n",
      "channel: 4 2.6893920981982573 -0.9982806237135844\n",
      "channel: 6 2.568639387410704 2.657196691868572\n",
      "n = 9, \t thr = -0.11\t\n",
      "channel: 0 2.7065246070357736 -2.9812774513927174\n",
      "channel: 2 2.6721673520329476 -2.4011916173419428\n",
      "channel: 4 2.677066148785254 -0.9593772697422893\n",
      "channel: 6 2.559331072669763 2.69555535647391\n",
      "n = 9, \t thr = -0.1\t\n",
      "channel: 0 2.7033073712881266 -2.8752115251162014\n",
      "channel: 2 2.6513193538100297 -2.3652608660200736\n",
      "channel: 4 2.6654643471388395 -0.9076626645931603\n",
      "channel: 6 2.5445233318472846 2.7666059294713015\n",
      "n = 9, \t thr = -0.09\t\n",
      "channel: 0 2.6930884041252146 -2.817576683576177\n",
      "channel: 2 2.633182546683011 -2.3056822973168227\n",
      "channel: 4 2.631042443591946 -0.8296060496648031\n",
      "channel: 6 2.529222725495351 2.7897159354023806\n",
      "n = 10, \t thr = -0.12\t\n",
      "channel: 0 2.7292741094878266 -3.0383539894204086\n",
      "channel: 2 2.6509879195075134 -2.4692438994632155\n",
      "channel: 4 2.707269043604508 -1.0021602522767064\n",
      "channel: 6 2.5632810764301794 2.6398874354338773\n",
      "n = 10, \t thr = -0.11\t\n",
      "channel: 0 2.74212294832821 -2.997928487466602\n",
      "channel: 2 2.646522475604089 -2.490875966080704\n",
      "channel: 4 2.6708097519971177 -0.9359903272459744\n",
      "channel: 6 2.5541239838555905 2.709085747268421\n",
      "n = 10, \t thr = -0.1\t\n",
      "channel: 0 2.7020125141443305 -2.936714892395207\n",
      "channel: 2 2.6486998985623758 -2.3825675401193096\n",
      "channel: 4 2.663876259855097 -0.8905920184254944\n",
      "channel: 6 2.5575066226757275 2.757621854070616\n",
      "n = 10, \t thr = -0.09\t\n",
      "channel: 0 2.673266534944623 -2.811696816784691\n",
      "channel: 2 2.655212360889729 -2.3279360117837924\n",
      "channel: 4 2.6529597679614643 -0.827049602880926\n",
      "channel: 6 2.5079986669577132 2.7991589952517466\n"
     ]
    },
    {
     "data": {
      "image/png": "[encoded data removed]",
      "text/plain": [
       "<Figure size 640x480 with 1 Axes>"
      ]
     },
     "metadata": {},
     "output_type": "display_data"
    }
   ],
   "source": [
    "i = 0\n",
    "j = 0\n",
    "sampling=1.875\n",
    "shiftR=10\n",
    "shiftL=4\n",
    "mean = [7,8,9,10]\n",
    "tresh = [-0.12,-0.11,-0.10,-0.09]\n",
    "stds = np.zeros([len(mean), len(tresh),4])\n",
    "\n",
    "for n in mean:\n",
    "    for thr in tresh:\n",
    "        print(f'{n = }, \\t {thr = }\\t')\n",
    "\n",
    "        wf_1_len = len(paired_wf_1)\n",
    "        wf_2_len = len(paired_wf_2)\n",
    "\n",
    "        new_wf_1 = np.array(paired_wf_1).reshape([np.array(paired_wf_1).shape[0], 1, np.array(paired_wf_1).shape[1]])\n",
    "        new_wf_2 = np.array(paired_wf_2).reshape([np.array(paired_wf_2).shape[0], 1, np.array(paired_wf_2).shape[1]])\n",
    "\n",
    "        for evt in range(new_wf_1.shape[0]):\n",
    "            for ch in range(new_wf_1.shape[1]):\n",
    "                bsl_1 = new_wf_1[evt, ch, 0:32].mean()\n",
    "                bsl_2 = new_wf_2[evt, ch, 0:32].mean()\n",
    "                new_wf_1[evt, ch, :] = np.convolve(new_wf_1[evt, ch], [1/n] * n, mode = \"same\") - bsl_1\n",
    "                new_wf_2[evt, ch, :] = np.convolve(new_wf_2[evt, ch], [1/n] * n, mode = \"same\") - bsl_2\n",
    "\n",
    "\n",
    "        new_wf_1 = -norm(-new_wf_1.reshape(-1, 1024), norm = \"max\", axis = 1, copy = True, return_norm = False)\n",
    "        new_wf_2 = -norm(-new_wf_2.reshape(-1, 1024), norm = \"max\", axis = 1, copy = True, return_norm = False)\n",
    "\n",
    "        threshold = thr\n",
    "                \n",
    "\n",
    "        ledges1 = np.zeros(new_wf_1.shape[0])\n",
    "        ledges2 = np.zeros(new_wf_2.shape[0])\n",
    "\n",
    "        for evt in range(new_wf_1.shape[0]):\n",
    "            ledge= np.where(np.diff(np.sign(new_wf_1[evt] - threshold)))[0][0]+1\n",
    "            #ledges1[evt]=np.interp(threshold,  [new_wf_1[evt][ledge-shift], new_wf_1[evt][ledge+shift]], [ledge-shift, ledge+shift])\n",
    "            coef = np.polyfit(new_wf_1[evt][ledge-shiftL:ledge+shiftR],np.arange(ledge-shiftL, ledge+shiftR),1)\n",
    "            ledges1[evt] = np.poly1d(coef)(threshold) \n",
    "            ledge = np.where(np.diff(np.sign(new_wf_2[evt] - threshold)))[0][0]\n",
    "            #ledges2[evt]=np.interp(threshold,  [new_wf_2[evt][ledge-shift], new_wf_2[evt][ledge+shift]], [ledge-shift, ledge+shift])\n",
    "            coef = np.polyfit(new_wf_2[evt][ledge-shiftL:ledge+shiftR],np.arange(ledge-shiftL, ledge+shiftR),1)\n",
    "            ledges2[evt] = np.poly1d(coef)(threshold)\n",
    "        \n",
    "\n",
    "        timeres=ledges1-ledges2\n",
    "        for select in range(0,8,2):\n",
    "            std = []\n",
    "            mask=np.where((np.abs(timeres*sampling) < 10)&(whichpair==select))[0]\n",
    "            plt.hist(timeres[mask]*sampling, bins=50, range=(-20,20),alpha=0.4)\n",
    "            print(\"channel:\",select,np.std(sampling*timeres[mask]), np.mean(sampling*timeres[mask]))\n",
    "            std.append(np.std(sampling*timeres[mask]))\n",
    "        stds[i][j] = std\n",
    "        j += 1\n",
    "    j = 0\n",
    "    i += 1\n",
    "\n",
    "\n",
    "#4.1669487180823195evt = 5"
   ]
  },
  {
   "cell_type": "code",
   "execution_count": 23,
   "metadata": {},
   "outputs": [
    {
     "data": {
      "text/plain": [
       "Text(0, 0.5, 'std [ns]')"
      ]
     },
     "execution_count": 23,
     "metadata": {},
     "output_type": "execute_result"
    },
    {
     "data": {
      "image/png": "[encoded data removed]",
      "text/plain": [
       "<Figure size 640x480 with 1 Axes>"
      ]
     },
     "metadata": {},
     "output_type": "display_data"
    }
   ],
   "source": [
    "select = 0\n",
    "for n in range(len(tresh)):\n",
    "    plt.plot(tresh, stds[n,:][select], label = f'{n=}')\n",
    "plt.legend()\n",
    "plt.xlabel(\"threshold [V]\")\n",
    "plt.ylabel(\"std [ns]\")"
   ]
  },
  {
   "cell_type": "code",
   "execution_count": 24,
   "metadata": {},
   "outputs": [
    {
     "name": "stdout",
     "output_type": "stream",
     "text": [
      "-5.569440174385694\n"
     ]
    },
    {
     "data": {
      "text/plain": [
       "(220.0, 400.0)"
      ]
     },
     "execution_count": 24,
     "metadata": {},
     "output_type": "execute_result"
    },
    {
     "data": {
      "image/png": "[encoded data removed]",
      "text/plain": [
       "<Figure size 640x480 with 1 Axes>"
      ]
     },
     "metadata": {},
     "output_type": "display_data"
    }
   ],
   "source": [
    "evt = 2\n",
    "plt.plot(np.arange(0, 1024)*sampling, new_wf_1[evt],'.')\n",
    "plt.plot(np.arange(0, 1024)*sampling, new_wf_2[evt],'.')\n",
    "plt.scatter(ledges1[evt]*sampling,threshold,c=\"red\")\n",
    "plt.scatter(ledges2[evt]*sampling,threshold,c=\"yellow\")\n",
    "print((ledges1[evt]-ledges2[evt])*sampling)\n",
    "plt.xlim(220,400)"
   ]
  },
  {
   "cell_type": "code",
   "execution_count": null,
   "metadata": {},
   "outputs": [],
   "source": []
  },
  {
   "cell_type": "code",
   "execution_count": null,
   "metadata": {},
   "outputs": [],
   "source": []
  },
  {
   "cell_type": "code",
   "execution_count": null,
   "metadata": {},
   "outputs": [],
   "source": []
  },
  {
   "cell_type": "code",
   "execution_count": null,
   "metadata": {},
   "outputs": [],
   "source": []
  }
 ],
 "metadata": {
  "kernelspec": {
   "display_name": "base",
   "language": "python",
   "name": "python3"
  },
  "language_info": {
   "codemirror_mode": {
    "name": "ipython",
    "version": 3
   },
   "file_extension": ".py",
   "mimetype": "text/x-python",
   "name": "python",
   "nbconvert_exporter": "python",
   "pygments_lexer": "ipython3",
   "version": "3.10.12"
  }
 },
 "nbformat": 4,
 "nbformat_minor": 2
}
