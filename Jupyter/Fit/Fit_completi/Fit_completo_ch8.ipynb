{
 "cells": [
  {
   "cell_type": "code",
   "execution_count": 10,
   "metadata": {},
   "outputs": [],
   "source": [
    "import ROOT\n",
    "import uproot\n",
    "import matplotlib.pyplot as plt\n",
    "import numpy as np\n",
    "import scipy"
   ]
  },
  {
   "cell_type": "code",
   "execution_count": 11,
   "metadata": {},
   "outputs": [],
   "source": [
    "channel = 8"
   ]
  },
  {
   "cell_type": "code",
   "execution_count": 12,
   "metadata": {},
   "outputs": [],
   "source": [
    "#Tensione per considerare il segnale come saturato\n",
    "Vt = np.array([-1.3, -1.3, -1.3, -1.3, -1.3, -1.3, -1.5, -1.3, \n",
    "               -1.3, -1.3, -1.3, -1.3, -1.3, -1.3, -1.3, -1.3]) #V\n",
    "#Carica per filtrare spike ed eventi triggerati male\n",
    "Q_max = np.array([-30, -30, -30, -30, -30, -30, -30, -30, \n",
    "                  -30, -30, -30, -30, -30, -30, -30, -30, ]) #pC\n",
    "#Carica per filtrare cosmici\n",
    "Q_min = np.array([-1000, -1000, -1000, -1000, -1000, -1000, -1000, -1000, \n",
    "                  -1000, -1000, -1000, -1000, -1000, -1000, -1000, -1000, ]) #pC\n",
    "\n",
    "Vt = Vt[channel]\n",
    "Q_max = Q_max[channel]\n",
    "Q_min = Q_min[channel]"
   ]
  },
  {
   "cell_type": "code",
   "execution_count": 13,
   "metadata": {},
   "outputs": [
    {
     "data": {
      "text/plain": [
       "\"  PATH = f'../Dati/Dati_belli/Ch{channel}/Run_ch{channel}_Cs.root'\\n#PATH = '../Dati/21-03/Run_ch' + str(channel) + '_Cs_Measurements_Only_3_21_2024_0000.root' #Percorso relativo del file da analizzare\\nRunCs = uproot.open(PATH) #Apertura file da analizzare\\n\\n\\n#noise_file = '../Dati/21-03/Run_ch' + str(channel) + '_X_Measurements_Only_3_21_2024_0000.root'  #File di rumore di riferimento per il canale\\nnoise_file = f'../Dati/Dati_belli/Ch{channel}/Run_ch{channel}_X.root'\\nRunNoise = uproot.open(noise_file)  #Apertura rumore \""
      ]
     },
     "execution_count": 13,
     "metadata": {},
     "output_type": "execute_result"
    }
   ],
   "source": [
    "\"\"\"  PATH = f'../Dati/Dati_belli/Ch{channel}/Run_ch{channel}_Cs.root'\n",
    "#PATH = '../Dati/21-03/Run_ch' + str(channel) + '_Cs_Measurements_Only_3_21_2024_0000.root' #Percorso relativo del file da analizzare\n",
    "RunCs = uproot.open(PATH) #Apertura file da analizzare\n",
    "\n",
    "\n",
    "#noise_file = '../Dati/21-03/Run_ch' + str(channel) + '_X_Measurements_Only_3_21_2024_0000.root'  #File di rumore di riferimento per il canale\n",
    "noise_file = f'../Dati/Dati_belli/Ch{channel}/Run_ch{channel}_X.root'\n",
    "RunNoise = uproot.open(noise_file)  #Apertura rumore \"\"\""
   ]
  },
  {
   "cell_type": "code",
   "execution_count": 15,
   "metadata": {},
   "outputs": [
    {
     "ename": "FileNotFoundError",
     "evalue": "[Errno 2] No such file or directory: '/Applications/Coding/Sfera/Sfera/Jupyter/Fit_completi/../../Dati/27_03/Run_ch0_Cs_Measurements_Only_4_3_2024_0000.root'",
     "output_type": "error",
     "traceback": [
      "\u001b[0;31m---------------------------------------------------------------------------\u001b[0m",
      "\u001b[0;31mFileNotFoundError\u001b[0m                         Traceback (most recent call last)",
      "Cell \u001b[0;32mIn[15], line 6\u001b[0m\n\u001b[1;32m      1\u001b[0m PATH \u001b[38;5;241m=\u001b[39m \u001b[38;5;124m'\u001b[39m\u001b[38;5;124m../../Dati/27_03/Run_ch0_Cs_Measurements_Only_4_3_2024_0000.root\u001b[39m\u001b[38;5;124m'\u001b[39m \u001b[38;5;66;03m#Percorso relativo del file da analizzare\u001b[39;00m\n\u001b[1;32m      2\u001b[0m \u001b[38;5;66;03m#PATH = '../Dati/27_03/Run_ch4_Cs_Measurements_Only_4_21_2024_0000.root' #Percorso relativo del file da analizzare\u001b[39;00m\n\u001b[1;32m      3\u001b[0m \u001b[38;5;66;03m#PATH = '../Dati/27_03/Run_ch7_Cs_Measurements_Only_3_27_2024_0000.root' #Percorso relativo del file da analizzare\u001b[39;00m\n\u001b[0;32m----> 6\u001b[0m RunCs \u001b[38;5;241m=\u001b[39m \u001b[43muproot\u001b[49m\u001b[38;5;241;43m.\u001b[39;49m\u001b[43mopen\u001b[49m\u001b[43m(\u001b[49m\u001b[43mPATH\u001b[49m\u001b[43m)\u001b[49m \u001b[38;5;66;03m#Apertura file da analizzare\u001b[39;00m\n\u001b[1;32m      8\u001b[0m noise_file \u001b[38;5;241m=\u001b[39m \u001b[38;5;124m'\u001b[39m\u001b[38;5;124m../../Dati/Noises/ch\u001b[39m\u001b[38;5;124m'\u001b[39m \u001b[38;5;241m+\u001b[39m \u001b[38;5;28mstr\u001b[39m(channel) \u001b[38;5;241m+\u001b[39m \u001b[38;5;124m'\u001b[39m\u001b[38;5;124m.root\u001b[39m\u001b[38;5;124m'\u001b[39m  \u001b[38;5;66;03m#File di rumore di riferimento per il canale\u001b[39;00m\n\u001b[1;32m      9\u001b[0m RunNoise \u001b[38;5;241m=\u001b[39m uproot\u001b[38;5;241m.\u001b[39mopen(noise_file)  \u001b[38;5;66;03m#Apertura rumore\u001b[39;00m\n",
      "File \u001b[0;32m~/Library/Python/3.9/lib/python/site-packages/uproot/reading.py:141\u001b[0m, in \u001b[0;36mopen\u001b[0;34m(path, object_cache, array_cache, custom_classes, decompression_executor, interpretation_executor, **options)\u001b[0m\n\u001b[1;32m    132\u001b[0m \u001b[38;5;28;01mif\u001b[39;00m \u001b[38;5;129;01mnot\u001b[39;00m \u001b[38;5;28misinstance\u001b[39m(file_path, \u001b[38;5;28mstr\u001b[39m) \u001b[38;5;129;01mand\u001b[39;00m \u001b[38;5;129;01mnot\u001b[39;00m (\n\u001b[1;32m    133\u001b[0m     \u001b[38;5;28mhasattr\u001b[39m(file_path, \u001b[38;5;124m\"\u001b[39m\u001b[38;5;124mread\u001b[39m\u001b[38;5;124m\"\u001b[39m) \u001b[38;5;129;01mand\u001b[39;00m \u001b[38;5;28mhasattr\u001b[39m(file_path, \u001b[38;5;124m\"\u001b[39m\u001b[38;5;124mseek\u001b[39m\u001b[38;5;124m\"\u001b[39m)\n\u001b[1;32m    134\u001b[0m ):\n\u001b[1;32m    135\u001b[0m     \u001b[38;5;28;01mraise\u001b[39;00m \u001b[38;5;167;01mValueError\u001b[39;00m(\n\u001b[1;32m    136\u001b[0m         \u001b[38;5;124m\"\u001b[39m\u001b[38;5;124m'\u001b[39m\u001b[38;5;124mpath\u001b[39m\u001b[38;5;124m'\u001b[39m\u001b[38;5;124m must be a string, pathlib.Path, an object with \u001b[39m\u001b[38;5;124m'\u001b[39m\u001b[38;5;124mread\u001b[39m\u001b[38;5;124m'\u001b[39m\u001b[38;5;124m and \u001b[39m\u001b[38;5;124m\"\u001b[39m\n\u001b[1;32m    137\u001b[0m         \u001b[38;5;124m\"\u001b[39m\u001b[38;5;124m'\u001b[39m\u001b[38;5;124mseek\u001b[39m\u001b[38;5;124m'\u001b[39m\u001b[38;5;124m methods, or a length-1 dict of \u001b[39m\u001b[38;5;124m{\u001b[39m\u001b[38;5;124mfile_path: object_path}, \u001b[39m\u001b[38;5;124m\"\u001b[39m\n\u001b[1;32m    138\u001b[0m         \u001b[38;5;124mf\u001b[39m\u001b[38;5;124m\"\u001b[39m\u001b[38;5;124mnot \u001b[39m\u001b[38;5;132;01m{\u001b[39;00mpath\u001b[38;5;132;01m!r}\u001b[39;00m\u001b[38;5;124m\"\u001b[39m\n\u001b[1;32m    139\u001b[0m     )\n\u001b[0;32m--> 141\u001b[0m file \u001b[38;5;241m=\u001b[39m \u001b[43mReadOnlyFile\u001b[49m\u001b[43m(\u001b[49m\n\u001b[1;32m    142\u001b[0m \u001b[43m    \u001b[49m\u001b[43mfile_path\u001b[49m\u001b[43m,\u001b[49m\n\u001b[1;32m    143\u001b[0m \u001b[43m    \u001b[49m\u001b[43mobject_cache\u001b[49m\u001b[38;5;241;43m=\u001b[39;49m\u001b[43mobject_cache\u001b[49m\u001b[43m,\u001b[49m\n\u001b[1;32m    144\u001b[0m \u001b[43m    \u001b[49m\u001b[43marray_cache\u001b[49m\u001b[38;5;241;43m=\u001b[39;49m\u001b[43marray_cache\u001b[49m\u001b[43m,\u001b[49m\n\u001b[1;32m    145\u001b[0m \u001b[43m    \u001b[49m\u001b[43mcustom_classes\u001b[49m\u001b[38;5;241;43m=\u001b[39;49m\u001b[43mcustom_classes\u001b[49m\u001b[43m,\u001b[49m\n\u001b[1;32m    146\u001b[0m \u001b[43m    \u001b[49m\u001b[43mdecompression_executor\u001b[49m\u001b[38;5;241;43m=\u001b[39;49m\u001b[43mdecompression_executor\u001b[49m\u001b[43m,\u001b[49m\n\u001b[1;32m    147\u001b[0m \u001b[43m    \u001b[49m\u001b[43minterpretation_executor\u001b[49m\u001b[38;5;241;43m=\u001b[39;49m\u001b[43minterpretation_executor\u001b[49m\u001b[43m,\u001b[49m\n\u001b[1;32m    148\u001b[0m \u001b[43m    \u001b[49m\u001b[38;5;241;43m*\u001b[39;49m\u001b[38;5;241;43m*\u001b[39;49m\u001b[43moptions\u001b[49m\u001b[43m,\u001b[49m\n\u001b[1;32m    149\u001b[0m \u001b[43m\u001b[49m\u001b[43m)\u001b[49m\n\u001b[1;32m    151\u001b[0m \u001b[38;5;28;01mif\u001b[39;00m object_path \u001b[38;5;129;01mis\u001b[39;00m \u001b[38;5;28;01mNone\u001b[39;00m:\n\u001b[1;32m    152\u001b[0m     \u001b[38;5;28;01mreturn\u001b[39;00m file\u001b[38;5;241m.\u001b[39mroot_directory\n",
      "File \u001b[0;32m~/Library/Python/3.9/lib/python/site-packages/uproot/reading.py:559\u001b[0m, in \u001b[0;36mReadOnlyFile.__init__\u001b[0;34m(self, file_path, object_cache, array_cache, custom_classes, decompression_executor, interpretation_executor, **options)\u001b[0m\n\u001b[1;32m    554\u001b[0m \u001b[38;5;28mself\u001b[39m\u001b[38;5;241m.\u001b[39mhook_before_create_source()\n\u001b[1;32m    556\u001b[0m source_cls, file_path \u001b[38;5;241m=\u001b[39m uproot\u001b[38;5;241m.\u001b[39m_util\u001b[38;5;241m.\u001b[39mfile_path_to_source_class(\n\u001b[1;32m    557\u001b[0m     file_path, \u001b[38;5;28mself\u001b[39m\u001b[38;5;241m.\u001b[39m_options\n\u001b[1;32m    558\u001b[0m )\n\u001b[0;32m--> 559\u001b[0m \u001b[38;5;28mself\u001b[39m\u001b[38;5;241m.\u001b[39m_source \u001b[38;5;241m=\u001b[39m \u001b[43msource_cls\u001b[49m\u001b[43m(\u001b[49m\u001b[43mfile_path\u001b[49m\u001b[43m,\u001b[49m\u001b[43m \u001b[49m\u001b[38;5;241;43m*\u001b[39;49m\u001b[38;5;241;43m*\u001b[39;49m\u001b[38;5;28;43mself\u001b[39;49m\u001b[38;5;241;43m.\u001b[39;49m\u001b[43m_options\u001b[49m\u001b[43m)\u001b[49m\n\u001b[1;32m    561\u001b[0m \u001b[38;5;28mself\u001b[39m\u001b[38;5;241m.\u001b[39mhook_before_get_chunks()\n\u001b[1;32m    563\u001b[0m \u001b[38;5;28;01mif\u001b[39;00m \u001b[38;5;28mself\u001b[39m\u001b[38;5;241m.\u001b[39m_options[\u001b[38;5;124m\"\u001b[39m\u001b[38;5;124mbegin_chunk_size\u001b[39m\u001b[38;5;124m\"\u001b[39m] \u001b[38;5;241m<\u001b[39m _file_header_fields_big\u001b[38;5;241m.\u001b[39msize:\n",
      "File \u001b[0;32m~/Library/Python/3.9/lib/python/site-packages/uproot/source/fsspec.py:41\u001b[0m, in \u001b[0;36mFSSpecSource.__init__\u001b[0;34m(self, file_path, **options)\u001b[0m\n\u001b[1;32m     38\u001b[0m \u001b[38;5;28mself\u001b[39m\u001b[38;5;241m.\u001b[39m_file \u001b[38;5;241m=\u001b[39m \u001b[38;5;28;01mNone\u001b[39;00m\n\u001b[1;32m     39\u001b[0m \u001b[38;5;28mself\u001b[39m\u001b[38;5;241m.\u001b[39m_fh \u001b[38;5;241m=\u001b[39m \u001b[38;5;28;01mNone\u001b[39;00m\n\u001b[0;32m---> 41\u001b[0m \u001b[38;5;28;43mself\u001b[39;49m\u001b[38;5;241;43m.\u001b[39;49m\u001b[43m_open\u001b[49m\u001b[43m(\u001b[49m\u001b[43m)\u001b[49m\n\u001b[1;32m     43\u001b[0m \u001b[38;5;28mself\u001b[39m\u001b[38;5;241m.\u001b[39m\u001b[38;5;21m__enter__\u001b[39m()\n",
      "File \u001b[0;32m~/Library/Python/3.9/lib/python/site-packages/uproot/source/fsspec.py:55\u001b[0m, in \u001b[0;36mFSSpecSource._open\u001b[0;34m(self)\u001b[0m\n\u001b[1;32m     53\u001b[0m \u001b[38;5;28;01mdef\u001b[39;00m \u001b[38;5;21m_open\u001b[39m(\u001b[38;5;28mself\u001b[39m):\n\u001b[1;32m     54\u001b[0m     \u001b[38;5;28mself\u001b[39m\u001b[38;5;241m.\u001b[39m_executor \u001b[38;5;241m=\u001b[39m FSSpecLoopExecutor()\n\u001b[0;32m---> 55\u001b[0m     \u001b[38;5;28mself\u001b[39m\u001b[38;5;241m.\u001b[39m_file \u001b[38;5;241m=\u001b[39m \u001b[38;5;28;43mself\u001b[39;49m\u001b[38;5;241;43m.\u001b[39;49m\u001b[43m_fs\u001b[49m\u001b[38;5;241;43m.\u001b[39;49m\u001b[43mopen\u001b[49m\u001b[43m(\u001b[49m\u001b[38;5;28;43mself\u001b[39;49m\u001b[38;5;241;43m.\u001b[39;49m\u001b[43m_file_path\u001b[49m\u001b[43m)\u001b[49m\n",
      "File \u001b[0;32m~/Library/Python/3.9/lib/python/site-packages/fsspec/spec.py:1293\u001b[0m, in \u001b[0;36mAbstractFileSystem.open\u001b[0;34m(self, path, mode, block_size, cache_options, compression, **kwargs)\u001b[0m\n\u001b[1;32m   1291\u001b[0m \u001b[38;5;28;01melse\u001b[39;00m:\n\u001b[1;32m   1292\u001b[0m     ac \u001b[38;5;241m=\u001b[39m kwargs\u001b[38;5;241m.\u001b[39mpop(\u001b[38;5;124m\"\u001b[39m\u001b[38;5;124mautocommit\u001b[39m\u001b[38;5;124m\"\u001b[39m, \u001b[38;5;129;01mnot\u001b[39;00m \u001b[38;5;28mself\u001b[39m\u001b[38;5;241m.\u001b[39m_intrans)\n\u001b[0;32m-> 1293\u001b[0m     f \u001b[38;5;241m=\u001b[39m \u001b[38;5;28;43mself\u001b[39;49m\u001b[38;5;241;43m.\u001b[39;49m\u001b[43m_open\u001b[49m\u001b[43m(\u001b[49m\n\u001b[1;32m   1294\u001b[0m \u001b[43m        \u001b[49m\u001b[43mpath\u001b[49m\u001b[43m,\u001b[49m\n\u001b[1;32m   1295\u001b[0m \u001b[43m        \u001b[49m\u001b[43mmode\u001b[49m\u001b[38;5;241;43m=\u001b[39;49m\u001b[43mmode\u001b[49m\u001b[43m,\u001b[49m\n\u001b[1;32m   1296\u001b[0m \u001b[43m        \u001b[49m\u001b[43mblock_size\u001b[49m\u001b[38;5;241;43m=\u001b[39;49m\u001b[43mblock_size\u001b[49m\u001b[43m,\u001b[49m\n\u001b[1;32m   1297\u001b[0m \u001b[43m        \u001b[49m\u001b[43mautocommit\u001b[49m\u001b[38;5;241;43m=\u001b[39;49m\u001b[43mac\u001b[49m\u001b[43m,\u001b[49m\n\u001b[1;32m   1298\u001b[0m \u001b[43m        \u001b[49m\u001b[43mcache_options\u001b[49m\u001b[38;5;241;43m=\u001b[39;49m\u001b[43mcache_options\u001b[49m\u001b[43m,\u001b[49m\n\u001b[1;32m   1299\u001b[0m \u001b[43m        \u001b[49m\u001b[38;5;241;43m*\u001b[39;49m\u001b[38;5;241;43m*\u001b[39;49m\u001b[43mkwargs\u001b[49m\u001b[43m,\u001b[49m\n\u001b[1;32m   1300\u001b[0m \u001b[43m    \u001b[49m\u001b[43m)\u001b[49m\n\u001b[1;32m   1301\u001b[0m     \u001b[38;5;28;01mif\u001b[39;00m compression \u001b[38;5;129;01mis\u001b[39;00m \u001b[38;5;129;01mnot\u001b[39;00m \u001b[38;5;28;01mNone\u001b[39;00m:\n\u001b[1;32m   1302\u001b[0m         \u001b[38;5;28;01mfrom\u001b[39;00m \u001b[38;5;21;01mfsspec\u001b[39;00m\u001b[38;5;21;01m.\u001b[39;00m\u001b[38;5;21;01mcompression\u001b[39;00m \u001b[38;5;28;01mimport\u001b[39;00m compr\n",
      "File \u001b[0;32m~/Library/Python/3.9/lib/python/site-packages/fsspec/implementations/local.py:184\u001b[0m, in \u001b[0;36mLocalFileSystem._open\u001b[0;34m(self, path, mode, block_size, **kwargs)\u001b[0m\n\u001b[1;32m    182\u001b[0m \u001b[38;5;28;01mif\u001b[39;00m \u001b[38;5;28mself\u001b[39m\u001b[38;5;241m.\u001b[39mauto_mkdir \u001b[38;5;129;01mand\u001b[39;00m \u001b[38;5;124m\"\u001b[39m\u001b[38;5;124mw\u001b[39m\u001b[38;5;124m\"\u001b[39m \u001b[38;5;129;01min\u001b[39;00m mode:\n\u001b[1;32m    183\u001b[0m     \u001b[38;5;28mself\u001b[39m\u001b[38;5;241m.\u001b[39mmakedirs(\u001b[38;5;28mself\u001b[39m\u001b[38;5;241m.\u001b[39m_parent(path), exist_ok\u001b[38;5;241m=\u001b[39m\u001b[38;5;28;01mTrue\u001b[39;00m)\n\u001b[0;32m--> 184\u001b[0m \u001b[38;5;28;01mreturn\u001b[39;00m \u001b[43mLocalFileOpener\u001b[49m\u001b[43m(\u001b[49m\u001b[43mpath\u001b[49m\u001b[43m,\u001b[49m\u001b[43m \u001b[49m\u001b[43mmode\u001b[49m\u001b[43m,\u001b[49m\u001b[43m \u001b[49m\u001b[43mfs\u001b[49m\u001b[38;5;241;43m=\u001b[39;49m\u001b[38;5;28;43mself\u001b[39;49m\u001b[43m,\u001b[49m\u001b[43m \u001b[49m\u001b[38;5;241;43m*\u001b[39;49m\u001b[38;5;241;43m*\u001b[39;49m\u001b[43mkwargs\u001b[49m\u001b[43m)\u001b[49m\n",
      "File \u001b[0;32m~/Library/Python/3.9/lib/python/site-packages/fsspec/implementations/local.py:306\u001b[0m, in \u001b[0;36mLocalFileOpener.__init__\u001b[0;34m(self, path, mode, autocommit, fs, compression, **kwargs)\u001b[0m\n\u001b[1;32m    304\u001b[0m \u001b[38;5;28mself\u001b[39m\u001b[38;5;241m.\u001b[39mcompression \u001b[38;5;241m=\u001b[39m get_compression(path, compression)\n\u001b[1;32m    305\u001b[0m \u001b[38;5;28mself\u001b[39m\u001b[38;5;241m.\u001b[39mblocksize \u001b[38;5;241m=\u001b[39m io\u001b[38;5;241m.\u001b[39mDEFAULT_BUFFER_SIZE\n\u001b[0;32m--> 306\u001b[0m \u001b[38;5;28;43mself\u001b[39;49m\u001b[38;5;241;43m.\u001b[39;49m\u001b[43m_open\u001b[49m\u001b[43m(\u001b[49m\u001b[43m)\u001b[49m\n",
      "File \u001b[0;32m~/Library/Python/3.9/lib/python/site-packages/fsspec/implementations/local.py:311\u001b[0m, in \u001b[0;36mLocalFileOpener._open\u001b[0;34m(self)\u001b[0m\n\u001b[1;32m    309\u001b[0m \u001b[38;5;28;01mif\u001b[39;00m \u001b[38;5;28mself\u001b[39m\u001b[38;5;241m.\u001b[39mf \u001b[38;5;129;01mis\u001b[39;00m \u001b[38;5;28;01mNone\u001b[39;00m \u001b[38;5;129;01mor\u001b[39;00m \u001b[38;5;28mself\u001b[39m\u001b[38;5;241m.\u001b[39mf\u001b[38;5;241m.\u001b[39mclosed:\n\u001b[1;32m    310\u001b[0m     \u001b[38;5;28;01mif\u001b[39;00m \u001b[38;5;28mself\u001b[39m\u001b[38;5;241m.\u001b[39mautocommit \u001b[38;5;129;01mor\u001b[39;00m \u001b[38;5;124m\"\u001b[39m\u001b[38;5;124mw\u001b[39m\u001b[38;5;124m\"\u001b[39m \u001b[38;5;129;01mnot\u001b[39;00m \u001b[38;5;129;01min\u001b[39;00m \u001b[38;5;28mself\u001b[39m\u001b[38;5;241m.\u001b[39mmode:\n\u001b[0;32m--> 311\u001b[0m         \u001b[38;5;28mself\u001b[39m\u001b[38;5;241m.\u001b[39mf \u001b[38;5;241m=\u001b[39m \u001b[38;5;28;43mopen\u001b[39;49m\u001b[43m(\u001b[49m\u001b[38;5;28;43mself\u001b[39;49m\u001b[38;5;241;43m.\u001b[39;49m\u001b[43mpath\u001b[49m\u001b[43m,\u001b[49m\u001b[43m \u001b[49m\u001b[43mmode\u001b[49m\u001b[38;5;241;43m=\u001b[39;49m\u001b[38;5;28;43mself\u001b[39;49m\u001b[38;5;241;43m.\u001b[39;49m\u001b[43mmode\u001b[49m\u001b[43m)\u001b[49m\n\u001b[1;32m    312\u001b[0m         \u001b[38;5;28;01mif\u001b[39;00m \u001b[38;5;28mself\u001b[39m\u001b[38;5;241m.\u001b[39mcompression:\n\u001b[1;32m    313\u001b[0m             compress \u001b[38;5;241m=\u001b[39m compr[\u001b[38;5;28mself\u001b[39m\u001b[38;5;241m.\u001b[39mcompression]\n",
      "\u001b[0;31mFileNotFoundError\u001b[0m: [Errno 2] No such file or directory: '/Applications/Coding/Sfera/Sfera/Jupyter/Fit_completi/../../Dati/27_03/Run_ch0_Cs_Measurements_Only_4_3_2024_0000.root'"
     ]
    }
   ],
   "source": [
    "PATH = '../../Dati/27_03/Run_ch0_Cs_Measurements_Only_4_3_2024_0000.root' #Percorso relativo del file da analizzare\n",
    "#PATH = '../Dati/27_03/Run_ch4_Cs_Measurements_Only_4_21_2024_0000.root' #Percorso relativo del file da analizzare\n",
    "#PATH = '../Dati/27_03/Run_ch7_Cs_Measurements_Only_3_27_2024_0000.root' #Percorso relativo del file da analizzare\n",
    "\n",
    "\n",
    "RunCs = uproot.open(PATH) #Apertura file da analizzare\n",
    "\n",
    "noise_file = '../../Dati/Noises/ch' + str(channel) + '.root'  #File di rumore di riferimento per il canale\n",
    "RunNoise = uproot.open(noise_file)  #Apertura rumore"
   ]
  },
  {
   "cell_type": "code",
   "execution_count": null,
   "metadata": {},
   "outputs": [],
   "source": [
    "#Estrazione dati da file \n",
    "\n",
    "chargeCs = np.array(RunCs['tree'].arrays()['charge'])\n",
    "ampCs = np.array(RunCs['tree'].arrays()['amp'])\n",
    "\n",
    "chargeN = np.array(RunNoise['tree'].arrays()['charge'])\n",
    "ampN = np.array(RunNoise['tree'].arrays()['amp'])\n",
    "\n",
    "evCsT = np.array(RunCs['tree'].arrays()['ev'])[-1]\n",
    "evNT = np.array(RunNoise['tree'].arrays()['ev'])[-1]"
   ]
  },
  {
   "cell_type": "code",
   "execution_count": null,
   "metadata": {},
   "outputs": [
    {
     "name": "stdout",
     "output_type": "stream",
     "text": [
      "#Eventi ripuliti su ch 0 = 906223\n",
      "#Noise ripulita su ch 0 = 246046\n"
     ]
    }
   ],
   "source": [
    "trueCs = ampCs>Vt  #Seleziono solo gli eventi che non saturano\n",
    "chargeCs = chargeCs[trueCs]\n",
    "ampCs=ampCs[trueCs]\n",
    "\n",
    "trueCs = (chargeCs < Q_max) & (chargeCs > Q_min)\n",
    "chargeCs = chargeCs[trueCs] #Seleziono solo gli eventi con una carica sotto una certa soglia\n",
    "ampCs=ampCs[trueCs]         #così da trascurare spike ed eventi dovuti a trigger su altro canale\n",
    "\n",
    "\n",
    "trueX = ampN>Vt             #Procedo allo stesso modo per \"ripulire\" il rumore\n",
    "chargeN = chargeN[trueX]\n",
    "ampN=ampN[trueX]\n",
    "\n",
    "trueX = (chargeN < Q_max) & (chargeN > Q_min)\n",
    "chargeN = chargeN[trueX]\n",
    "ampN=ampN[trueX]\n",
    "\n",
    "print(\"#Eventi ripuliti su ch \" + str(channel) + \" = \" + str(len(chargeCs)))\n",
    "print(\"#Noise ripulita su ch \" + str(channel) + \" = \" + str(len(chargeN)))"
   ]
  },
  {
   "cell_type": "code",
   "execution_count": null,
   "metadata": {},
   "outputs": [
    {
     "data": {
      "image/png": "[encoded data removed]",
      "text/plain": [
       "<Figure size 640x480 with 1 Axes>"
      ]
     },
     "metadata": {},
     "output_type": "display_data"
    }
   ],
   "source": [
    "Nbin = 200\n",
    "bin_lims = [int(Nbin *45 / 100), int(Nbin * 86 / 100)] #Scelgo gli estremi\n",
    "_, edges, _ = plt.hist(chargeCs, bins = Nbin, color = \"r\")\n",
    "plt.clf()\n",
    "lims = [edges[bin_lims[0]], edges[bin_lims[1]]]\n",
    "binCs, edgesCs, _ = plt.hist(chargeCs, bins = Nbin, range = lims, color = \"b\", alpha = 0.5)\n",
    "centersCs = np.convolve(edgesCs, [0.5, 0.5], \"valid\")\n",
    "errCs = np.sqrt(binCs)\n",
    "\n",
    "plt.errorbar(centersCs, binCs, errCs, color = \"red\", fmt='|')\n",
    "plt.grid()\n",
    "plt.xlabel(\"Charge [pC]\")\n",
    "plt.ylabel(\"Counts\")\n",
    "plt.title(\"Rumore + sorgente\")\n",
    "\n",
    "plt.show()\n"
   ]
  },
  {
   "cell_type": "code",
   "execution_count": null,
   "metadata": {},
   "outputs": [
    {
     "data": {
      "image/png": "[encoded data removed]",
      "text/plain": [
       "<Figure size 640x480 with 1 Axes>"
      ]
     },
     "metadata": {},
     "output_type": "display_data"
    },
    {
     "data": {
      "text/plain": [
       "148821.0"
      ]
     },
     "execution_count": 18,
     "metadata": {},
     "output_type": "execute_result"
    }
   ],
   "source": [
    "binN, edgesN, _ = plt.hist(chargeN, bins = Nbin, range = lims, color = \"b\", alpha = 0.5)\n",
    "centersN = np.convolve(edgesN, [0.5, 0.5], \"valid\")\n",
    "errN = np.sqrt(binN)\n",
    "plt.errorbar(centersN, binN, errN, color = \"red\", fmt='|')\n",
    "plt.grid()\n",
    "plt.xlabel(\"Charge [pC]\")\n",
    "plt.ylabel(\"Counts\")\n",
    "plt.title(\"Rumore\")\n",
    "\n",
    "plt.show()\n",
    "\n",
    "binN.sum()\n"
   ]
  },
  {
   "cell_type": "code",
   "execution_count": 8,
   "metadata": {},
   "outputs": [],
   "source": [
    "from lmfit import minimize, Parameters, Model\n",
    "from lmfit.models import GaussianModel, ExponentialModel, \\\n",
    "                         ThermalDistributionModel, StepModel #Modelli vari, l'ultimo è Fermi (o Bose)"
   ]
  },
  {
   "cell_type": "code",
   "execution_count": 9,
   "metadata": {},
   "outputs": [
    {
     "ename": "NameError",
     "evalue": "name 'binN' is not defined",
     "output_type": "error",
     "traceback": [
      "\u001b[0;31m---------------------------------------------------------------------------\u001b[0m",
      "\u001b[0;31mNameError\u001b[0m                                 Traceback (most recent call last)",
      "Cell \u001b[0;32mIn[9], line 10\u001b[0m\n\u001b[1;32m      5\u001b[0m sigmoid \u001b[38;5;241m=\u001b[39m StepModel(form \u001b[38;5;241m=\u001b[39m \u001b[38;5;124m\"\u001b[39m\u001b[38;5;124mlogistic\u001b[39m\u001b[38;5;124m\"\u001b[39m, prefix \u001b[38;5;241m=\u001b[39m \u001b[38;5;124m\"\u001b[39m\u001b[38;5;124ms1_\u001b[39m\u001b[38;5;124m\"\u001b[39m) \u001b[38;5;66;03m#Sigmoide\u001b[39;00m\n\u001b[1;32m      6\u001b[0m sigmoid2 \u001b[38;5;241m=\u001b[39m StepModel(form \u001b[38;5;241m=\u001b[39m \u001b[38;5;124m\"\u001b[39m\u001b[38;5;124mlogistic\u001b[39m\u001b[38;5;124m\"\u001b[39m, prefix \u001b[38;5;241m=\u001b[39m \u001b[38;5;124m\"\u001b[39m\u001b[38;5;124ms2_\u001b[39m\u001b[38;5;124m\"\u001b[39m) \u001b[38;5;66;03m#Sigmoide\u001b[39;00m\n\u001b[0;32m---> 10\u001b[0m params \u001b[38;5;241m=\u001b[39m exp1\u001b[38;5;241m.\u001b[39mguess(\u001b[43mbinN\u001b[49m, x\u001b[38;5;241m=\u001b[39mcentersN)           \u001b[38;5;66;03m#Inizializzo i parametri dell'esponenziale\u001b[39;00m\n\u001b[1;32m     11\u001b[0m params\u001b[38;5;241m.\u001b[39mupdate(sigmoid\u001b[38;5;241m.\u001b[39mguess(binN, x\u001b[38;5;241m=\u001b[39mcentersN))   \u001b[38;5;66;03m#Indovina i parametri della sigmoide\u001b[39;00m\n\u001b[1;32m     12\u001b[0m \u001b[38;5;66;03m#params.update(gauss1.make_params(amplitude = 0, center = -320, sigma = 25))\u001b[39;00m\n",
      "\u001b[0;31mNameError\u001b[0m: name 'binN' is not defined"
     ]
    }
   ],
   "source": [
    "exp1   = ExponentialModel(prefix='e1_') #Esponenziale \n",
    "gauss1 = GaussianModel(prefix='g1_')    #Gaussiana\n",
    "gauss2 = GaussianModel(prefix='g2_')    #Gaussiana\n",
    "fd1    = ThermalDistributionModel(form = \"fermi\", prefix = \"fd1_\") #Fermi Dirac\n",
    "sigmoid = StepModel(form = \"logistic\", prefix = \"s1_\") #Sigmoide\n",
    "sigmoid2 = StepModel(form = \"logistic\", prefix = \"s2_\") #Sigmoide\n",
    "\n",
    "\n",
    " \n",
    "params = exp1.guess(binN, x=centersN)           #Inizializzo i parametri dell'esponenziale\n",
    "params.update(sigmoid.guess(binN, x=centersN))   #Indovina i parametri della sigmoide\n",
    "#params.update(gauss1.make_params(amplitude = 0, center = -320, sigma = 25))\n",
    "params.update(gauss2.make_params(amplitude = 0, center = -320, sigma = 25)) #Imposta la seconda gaussiana con A = 0 (necessario per primo fit)\n",
    "params.update(sigmoid2.make_params(amplitude = 0, center = -320, sigma = 25))\n",
    "#params.update(fd1.make_params(amplitude = 0, center = -200, kt = -15))     #Imposta la Fermi Dirac con A = 0 (necessario per primo fit)\n",
    "#params.update(sigmoid.make_params(amplitude = 0, center = -200, sigma = 50))\n",
    "\n",
    "#params[\"g1_amplitude\"].min = 500\n",
    "params[\"e1_amplitude\"].min = 0\n",
    "\n",
    "params[\"g2_amplitude\"].vary = False    #Blocco i parametri della seconda gaussiana e della \n",
    "params[\"g2_center\"].vary = False       #Fermi Dirac: non servono nel primo fit\n",
    "params[\"g2_sigma\"].vary = False\n",
    "params[\"s2_amplitude\"].vary = False\n",
    "params[\"s2_center\"].vary = False\n",
    "params[\"s2_sigma\"].vary = False\n",
    "\n",
    "model = exp1  + gauss2 + sigmoid + sigmoid2   #Per ora non usiamo la Fermi Dirac at all\n",
    "\n",
    "# Fit the model to the data\n",
    "result = model.fit(binN, params, x = centersN, weights = 1 / errN, nan_policy='omit')\n",
    "\n",
    "\n",
    "fig, (ax1, ax2) = plt.subplots(2, 1, figsize=(8, 6))\n",
    "\n",
    "_ = ax1.hist(chargeN, bins = Nbin, range = lims, color = \"cyan\", alpha = 0.5, label = \"Background\")\n",
    "ax1.set_xlabel('Charge [pC]')\n",
    "ax1.set_ylabel('Counts')\n",
    "ax1.legend()\n",
    "\n",
    "comps = result.eval_components()                        #Plotto il best fit + le componenti\n",
    "ax1.plot(centersN, result.best_fit, label='best fit')\n",
    "ax1.plot(centersN, comps['e1_'], label='exp 1')\n",
    "ax1.plot(centersN, comps['s1_'], label='sigm1')\n",
    "\n",
    "\n",
    "ax1.legend()\n",
    "ax1.errorbar(centersN, binN, errN, color = \"red\", fmt='|')\n",
    "ax1.grid()\n",
    "\n",
    "residueN = binN - result.best_fit\n",
    "norm_resN = residueN / errN\n",
    "\n",
    "ax2.errorbar(centersN, norm_resN, 1, ls = \"\", marker = \".\")\n",
    "ax2.grid()\n",
    "\n",
    "ax2.set_xlabel('Charge [pC]')\n",
    "ax2.set_ylabel('Normalized residues')\n",
    "\n",
    "xlim = ax2.get_xlim()\n",
    "\n",
    "ax2.fill_between(xlim, [-1, -1], [1, 1], color = \"orange\", alpha = 0.2, label = r'$1\\sigma$')\n",
    "ax2.fill_between(xlim, [-2, -2], [-1, -1], color = \"lightgreen\", alpha = 0.2, label = r'$2\\sigma$')\n",
    "ax2.fill_between(xlim, [1, 1], [2, 2], color = \"lightgreen\", alpha = 0.2)\n",
    "ax2.fill_between(xlim, [2, 2], [3, 3], color = \"lightgray\", alpha = 0.2, label = r'$3\\sigma$')\n",
    "ax2.fill_between(xlim, [-3, -3], [-2, -2], color = \"lightgray\", alpha = 0.2)\n",
    "\n",
    "ax2.legend()\n",
    "fig.tight_layout()\n",
    "plt.show()\n",
    "\n",
    "# Print fit statistics and parameter values\n",
    "print(result.fit_report())"
   ]
  },
  {
   "cell_type": "code",
   "execution_count": null,
   "metadata": {},
   "outputs": [
    {
     "data": {
      "text/html": [
       "<table class=\"jp-toc-ignore\"><caption>Parameters</caption><tr><th style='text-align:left'>name</th><th style='text-align:left'>value</th><th style='text-align:left'>standard error</th><th style='text-align:left'>relative error</th><th style='text-align:left'>initial value</th><th style='text-align:left'>min</th><th style='text-align:left'>max</th><th style='text-align:left'>vary</th><th style='text-align:right'>expression</th></tr><tr><td style='text-align:left'>e1_amplitude</td><td style='text-align:left'> 17304.5602</td><td style='text-align:left'> 802.905869</td><td style='text-align:left'>(4.64%)</td><td style='text-align:left'>33319.18025469015</td><td style='text-align:left'> 0.00000000</td><td style='text-align:left'>        inf</td><td style='text-align:left'>True</td><td style='text-align:right'></td></tr><tr><td style='text-align:left'>e1_decay</td><td style='text-align:left'>-81.9600651</td><td style='text-align:left'> 2.06738982</td><td style='text-align:left'>(2.52%)</td><td style='text-align:left'>-85.3387687880428</td><td style='text-align:left'>       -inf</td><td style='text-align:left'>        inf</td><td style='text-align:left'>True</td><td style='text-align:right'></td></tr><tr><td style='text-align:left'>s1_amplitude</td><td style='text-align:left'> 589.933747</td><td style='text-align:left'> 27.1022779</td><td style='text-align:left'>(4.59%)</td><td style='text-align:left'>2590.0</td><td style='text-align:left'>       -inf</td><td style='text-align:left'>        inf</td><td style='text-align:left'>True</td><td style='text-align:right'></td></tr><tr><td style='text-align:left'>s1_center</td><td style='text-align:left'>-426.772049</td><td style='text-align:left'> 2.00114682</td><td style='text-align:left'>(0.47%)</td><td style='text-align:left'>-388.4246253967285</td><td style='text-align:left'>       -inf</td><td style='text-align:left'>        inf</td><td style='text-align:left'>True</td><td style='text-align:right'></td></tr><tr><td style='text-align:left'>s1_sigma</td><td style='text-align:left'> 33.9694985</td><td style='text-align:left'> 1.52002055</td><td style='text-align:left'>(4.47%)</td><td style='text-align:left'>61.12932368687221</td><td style='text-align:left'> 0.00000000</td><td style='text-align:left'>        inf</td><td style='text-align:left'>True</td><td style='text-align:right'></td></tr><tr><td style='text-align:left'>g2_amplitude</td><td style='text-align:left'> 0.00000000</td><td style='text-align:left'> 0.00000000</td><td style='text-align:left'></td><td style='text-align:left'>0.0</td><td style='text-align:left'>       -inf</td><td style='text-align:left'>        inf</td><td style='text-align:left'>False</td><td style='text-align:right'></td></tr><tr><td style='text-align:left'>g2_center</td><td style='text-align:left'>-320.000000</td><td style='text-align:left'> 0.00000000</td><td style='text-align:left'>(0.00%)</td><td style='text-align:left'>-320.0</td><td style='text-align:left'>       -inf</td><td style='text-align:left'>        inf</td><td style='text-align:left'>False</td><td style='text-align:right'></td></tr><tr><td style='text-align:left'>g2_sigma</td><td style='text-align:left'> 25.0000000</td><td style='text-align:left'> 0.00000000</td><td style='text-align:left'>(0.00%)</td><td style='text-align:left'>25.0</td><td style='text-align:left'> 0.00000000</td><td style='text-align:left'>        inf</td><td style='text-align:left'>False</td><td style='text-align:right'></td></tr><tr><td style='text-align:left'>g2_fwhm</td><td style='text-align:left'> 58.8705000</td><td style='text-align:left'> 0.00000000</td><td style='text-align:left'>(0.00%)</td><td style='text-align:left'>58.87050000000001</td><td style='text-align:left'>       -inf</td><td style='text-align:left'>        inf</td><td style='text-align:left'>False</td><td style='text-align:right'>2.3548200*g2_sigma</td></tr><tr><td style='text-align:left'>g2_height</td><td style='text-align:left'> 0.00000000</td><td style='text-align:left'> 0.00000000</td><td style='text-align:left'></td><td style='text-align:left'>0.0</td><td style='text-align:left'>       -inf</td><td style='text-align:left'>        inf</td><td style='text-align:left'>False</td><td style='text-align:right'>0.3989423*g2_amplitude/max(1e-15, g2_sigma)</td></tr></table>"
      ],
      "text/plain": [
       "Parameters([('e1_amplitude', <Parameter 'e1_amplitude', value=17304.56018345645 +/- 803, bounds=[0:inf]>), ('e1_decay', <Parameter 'e1_decay', value=-81.96006510905127 +/- 2.07, bounds=[-inf:inf]>), ('s1_amplitude', <Parameter 's1_amplitude', value=589.9337466788493 +/- 27.1, bounds=[-inf:inf]>), ('s1_center', <Parameter 's1_center', value=-426.772048730921 +/- 2, bounds=[-inf:inf]>), ('s1_sigma', <Parameter 's1_sigma', value=33.96949847594549 +/- 1.52, bounds=[0.0:inf]>), ('g2_amplitude', <Parameter 'g2_amplitude', value=0.0 (fixed), bounds=[-inf:inf]>), ('g2_center', <Parameter 'g2_center', value=-320.0 (fixed), bounds=[-inf:inf]>), ('g2_sigma', <Parameter 'g2_sigma', value=25.0 (fixed), bounds=[0:inf]>), ('g2_fwhm', <Parameter 'g2_fwhm', value=58.87050000000001 +/- 0, bounds=[-inf:inf], expr='2.3548200*g2_sigma'>), ('g2_height', <Parameter 'g2_height', value=0.0 +/- 0, bounds=[-inf:inf], expr='0.3989423*g2_amplitude/max(1e-15, g2_sigma)'>)])"
      ]
     },
     "execution_count": 47,
     "metadata": {},
     "output_type": "execute_result"
    }
   ],
   "source": [
    "params.update(result.params)\n",
    "params"
   ]
  },
  {
   "cell_type": "code",
   "execution_count": 7,
   "metadata": {},
   "outputs": [
    {
     "ename": "NameError",
     "evalue": "name 'params' is not defined",
     "output_type": "error",
     "traceback": [
      "\u001b[0;31m---------------------------------------------------------------------------\u001b[0m",
      "\u001b[0;31mNameError\u001b[0m                                 Traceback (most recent call last)",
      "Cell \u001b[0;32mIn[7], line 3\u001b[0m\n\u001b[1;32m      1\u001b[0m \u001b[38;5;66;03m#params[\"g1_sigma\"].vary = False   #Blocco i parametri dell'esponenziale e della prima fermi-dirac\u001b[39;00m\n\u001b[1;32m      2\u001b[0m \u001b[38;5;66;03m#params[\"g1_center\"].vary = False  #lasciando libere le ampiezze\u001b[39;00m\n\u001b[0;32m----> 3\u001b[0m \u001b[43mparams\u001b[49m[\u001b[38;5;124m\"\u001b[39m\u001b[38;5;124me1_decay\u001b[39m\u001b[38;5;124m\"\u001b[39m]\u001b[38;5;241m.\u001b[39mvary \u001b[38;5;241m=\u001b[39m \u001b[38;5;28;01mFalse\u001b[39;00m\n\u001b[1;32m      4\u001b[0m params[\u001b[38;5;124m\"\u001b[39m\u001b[38;5;124ms1_amplitude\u001b[39m\u001b[38;5;124m\"\u001b[39m]\u001b[38;5;241m.\u001b[39mvary \u001b[38;5;241m=\u001b[39m \u001b[38;5;28;01mTrue\u001b[39;00m\n\u001b[1;32m      5\u001b[0m params[\u001b[38;5;124m\"\u001b[39m\u001b[38;5;124ms1_center\u001b[39m\u001b[38;5;124m\"\u001b[39m]\u001b[38;5;241m.\u001b[39mvary \u001b[38;5;241m=\u001b[39m \u001b[38;5;28;01mFalse\u001b[39;00m\n",
      "\u001b[0;31mNameError\u001b[0m: name 'params' is not defined"
     ]
    }
   ],
   "source": [
    "#params[\"g1_sigma\"].vary = False   #Blocco i parametri dell'esponenziale e della prima fermi-dirac\n",
    "#params[\"g1_center\"].vary = False  #lasciando libere le ampiezze\n",
    "params[\"e1_decay\"].vary = False\n",
    "params[\"s1_amplitude\"].vary = True\n",
    "params[\"s1_center\"].vary = False\n",
    "params[\"s1_sigma\"].vary = False\n",
    "\n",
    "params[\"g2_amplitude\"].vary = True  #Sblocco i parametri di seconda Fermi Dirac e seconda gaussiana\n",
    "params[\"g2_center\"].vary = True\n",
    "params[\"g2_sigma\"].vary = True\n",
    "params[\"s2_amplitude\"].vary = True\n",
    "params[\"s2_center\"].vary = True\n",
    "params[\"s2_sigma\"].vary = True\n",
    "\n",
    "\n",
    "\n",
    "\n",
    "params[\"e1_amplitude\"].value = 180000\n",
    "#params[\"g1_amplitude\"].value = 748294\n",
    "\n",
    "params[\"g2_amplitude\"].value = 5000     #Parametri da aggiustare to make the magic happen\n",
    "params[\"g2_center\"].min = -400          #Si possono, se serve, specificare canale per canale\n",
    "params[\"g2_center\"].max = -300\n",
    "params[\"g2_center\"].set(value = -350)\n",
    "params[\"g2_sigma\"].set(value = 0.5)\n",
    "\n",
    "params[\"s2_amplitude\"].set(value = 6000)\n",
    "params[\"s2_amplitude\"].min = 0\n",
    "params[\"s2_center\"].set(value = -200)\n",
    "params[\"s2_sigma\"].set(value = 0.5)\n",
    "params[\"s2_center\"].min = -250\n",
    "params[\"s2_center\"].max = -100\n",
    "\n",
    "params.update(params)\n",
    "\n",
    "#([8107.195996702572, -85.85438088148673], [300.4111326417898, 23.898908796533565, -394.0780331034476], 26.987002530194488)\n",
    "params.add(\"ratio\", value = 26.987002530194488)\n",
    "#params.add(\"e1_amplitude\", expr = 's1_amplitude * ratio')\n",
    "params[\"e1_amplitude\"].expr = 's1_amplitude * ratio'\n",
    "params[\"e1_amplitude\"].vary = False\n",
    "params[\"ratio\"].vary = False\n",
    "params[\"s1_amplitude\"].value = 1000\n",
    "\n",
    "\n",
    "params[\"g1_amplitude\"].value = 900000    #Parametri da aggiustare to make the magic happen\n",
    "params[\"g1_center\"].min = -320          #Si possono, se serve, specificare canale per canale\n",
    "params[\"g1_center\"].max = -230\n",
    "params[\"g1_center\"].set(value = -300)\n",
    "params[\"g1_sigma\"].set(value = 15)\n",
    "\n",
    "params[\"s2_amplitude\"].set(value = 30)\n",
    "params[\"s2_center\"].set(value = -175)\n",
    "params[\"s2_sigma\"].set(value = 5)\n",
    "params[\"s2_center\"].min = -200\n",
    "params[\"s2_center\"].max = -100\n",
    "\n",
    "params.update(params)\n",
    "\n",
    "\n",
    "params[\"ratio\"].value = 26.987002530194488\n",
    "params[\"e1_amplitude\"].value = 8107.195996702572\n",
    "params[\"e1_decay\"].value = -85.85438088148673\n",
    "params[\"s1_center\"].value =  -394.0780331034476\n",
    "params[\"s1_sigma\"].value = 23.898908796533565\n",
    "\n",
    "# Fit the model to the data\n",
    "result = model.fit(binCs, params, x = centersCs, weights = 1 / errCs)\n",
    "\n",
    "\n",
    "fig, (ax1, ax2) = plt.subplots(2, 1, figsize=(8, 6))\n",
    "\n",
    "_ = ax1.hist(chargeCs, bins = Nbin, range = lims, color = \"cyan\", alpha = 0.5, label = \"Dati sperimentali\")\n",
    "ax1.set_xlabel('Charge [pC]')\n",
    "ax1.set_ylabel('Counts')\n",
    "ax1.legend()\n",
    "\n",
    "comps = result.eval_components()                        #Plotto il best fit + le componenti\n",
    "ax1.plot(centersCs, result.best_fit, label='best fit')\n",
    "ax1.plot(centersCs, comps['e1_'], label='exp 1')\n",
    "#ax1.plot(centersCs, comps['g1_'], label='gauss 1')\n",
    "ax1.plot(centersCs, comps['g2_'], label='gauss 2')\n",
    "ax1.plot(centersCs, comps['s1_'], label='Sigmoide 1')\n",
    "ax1.plot(centersCs, comps['s2_'], label='Sigmoide 2')\n",
    "\n",
    "\n",
    "\n",
    "ax1.legend()\n",
    "ax1.errorbar(centersCs, binCs, errCs, color = \"red\", fmt='|')\n",
    "ax1.grid()\n",
    "\n",
    "residueCs = binCs - result.best_fit\n",
    "norm_resCs = residueCs / errCs\n",
    "\n",
    "ax2.errorbar(centersCs, norm_resCs, 1, ls = \"\", marker = \".\")\n",
    "ax2.grid()\n",
    "\n",
    "ax2.set_xlabel('Charge [pC]')\n",
    "ax2.set_ylabel('Normalized residues')\n",
    "\n",
    "xlim = ax2.get_xlim()\n",
    "\n",
    "ax2.fill_between(xlim, [-1, -1], [1, 1], color = \"orange\", alpha = 0.2, label = r'$1\\sigma$')\n",
    "ax2.fill_between(xlim, [-2, -2], [-1, -1], color = \"lightgreen\", alpha = 0.2, label = r'$2\\sigma$')\n",
    "ax2.fill_between(xlim, [1, 1], [2, 2], color = \"lightgreen\", alpha = 0.2)\n",
    "ax2.fill_between(xlim, [2, 2], [3, 3], color = \"lightgray\", alpha = 0.2, label = r'$3\\sigma$')\n",
    "ax2.fill_between(xlim, [-3, -3], [-2, -2], color = \"lightgray\", alpha = 0.2)\n",
    "\n",
    "ax2.legend()\n",
    "fig.tight_layout()\n",
    "plt.show()\n",
    "\n",
    "# Print fit statistics and parameter values\n",
    "#print(result.fit_report())\n",
    "\n"
   ]
  },
  {
   "cell_type": "code",
   "execution_count": null,
   "metadata": {},
   "outputs": [
    {
     "name": "stdout",
     "output_type": "stream",
     "text": [
      "[[Model]]\n",
      "    (((Model(exponential, prefix='e1_') + Model(gaussian, prefix='g1_')) + Model(gaussian, prefix='g2_')) + Model(step, prefix='s1_', form='logistic'))\n",
      "[[Fit Statistics]]\n",
      "    # fitting method   = leastsq\n",
      "    # function evals   = 170\n",
      "    # data points      = 100\n",
      "    # variables        = 8\n",
      "    chi-square         = 128.763361\n",
      "    reduced chi-square = 1.39960175\n",
      "    Akaike info crit   = 41.2806122\n",
      "    Bayesian info crit = 62.1219737\n",
      "    R-squared          = 0.99999996\n",
      "[[Variables]]\n",
      "    e1_amplitude:  105347.272 +/- 2123.05330 (2.02%) (init = 180000)\n",
      "    e1_decay:     -73.19132 (fixed)\n",
      "    g1_amplitude:  862330.375 +/- 7565.43031 (0.88%) (init = 748294)\n",
      "    g1_center:    -286.6989 (fixed)\n",
      "    g1_sigma:      76.98773 (fixed)\n",
      "    g1_fwhm:       181.292239 +/- 0.00000000 (0.00%) == '2.3548200*g1_sigma'\n",
      "    g1_height:     4468.50526 +/- 39.2032637 (0.88%) == '0.3989423*g1_amplitude/max(1e-15, g1_sigma)'\n",
      "    g2_amplitude:  539183.388 +/- 2497.81818 (0.46%) (init = 1000)\n",
      "    g2_center:    -376.332941 +/- 0.07102182 (0.02%) (init = -350)\n",
      "    g2_sigma:      15.8867478 +/- 0.06829995 (0.43%) (init = 0.5)\n",
      "    g2_fwhm:       37.4104316 +/- 0.16083408 (0.43%) == '2.3548200*g2_sigma'\n",
      "    g2_height:     13539.7794 +/- 62.9576205 (0.46%) == '0.3989423*g2_amplitude/max(1e-15, g2_sigma)'\n",
      "    s1_amplitude:  4837.11736 +/- 132.578450 (2.74%) (init = 2000)\n",
      "    s1_center:    -265.379715 +/- 0.61328067 (0.23%) (init = -250)\n",
      "    s1_sigma:      10.6880669 +/- 0.50496919 (4.72%) (init = 1)\n",
      "[[Correlations]] (unreported correlations are < 0.100)\n",
      "    C(e1_amplitude, s1_amplitude) = -0.9425\n",
      "    C(s1_amplitude, s1_sigma)     = +0.7153\n",
      "    C(g1_amplitude, s1_center)    = +0.6383\n",
      "    C(e1_amplitude, g1_amplitude) = -0.6008\n",
      "    C(e1_amplitude, s1_sigma)     = -0.5939\n",
      "    C(s1_amplitude, s1_center)    = +0.5818\n",
      "    C(e1_amplitude, s1_center)    = -0.5647\n",
      "    C(g2_amplitude, g2_sigma)     = +0.4600\n",
      "    C(g1_amplitude, g2_amplitude) = -0.4269\n",
      "    C(g1_amplitude, s1_amplitude) = +0.4246\n",
      "    C(s1_center, s1_sigma)        = +0.3826\n",
      "    C(g1_amplitude, g2_sigma)     = -0.3515\n",
      "    C(g2_center, g2_sigma)        = +0.2376\n",
      "    C(g2_amplitude, s1_sigma)     = +0.2187\n",
      "    C(g2_amplitude, g2_center)    = +0.2109\n",
      "    C(g2_sigma, s1_sigma)         = +0.1924\n",
      "    C(g2_amplitude, s1_center)    = -0.1923\n",
      "    C(g1_amplitude, g2_center)    = -0.1821\n",
      "    C(g2_sigma, s1_center)        = -0.1536\n",
      "    C(g2_amplitude, s1_amplitude) = +0.1268\n",
      "    C(g2_sigma, s1_amplitude)     = +0.1255\n"
     ]
    }
   ],
   "source": [
    "print(result.fit_report())"
   ]
  },
  {
   "cell_type": "markdown",
   "metadata": {},
   "source": [
    "def gauss(x, m, s):\n",
    "    return 1 / np.sqrt((np.pi * 2) * s) * np.exp(-(x - m)**2 / (2 * s**2))\n",
    "\n",
    "norm = float(len(norm_resCs))\n",
    "bin_res_norm, edg_res_norm, _ = plt.hist(norm_resCs, bins = 9, density = True)\n",
    "res_norm_cnt = np.convolve(edg_res_norm, [0.5, 0.5], \"valid\")\n",
    "plt.errorbar(res_norm_cnt, bin_res_norm, np.sqrt(bin_res_norm * norm) / norm, ls = \"\")\n",
    "norm_res_mean = res_norm_cnt.mean()\n",
    "norm_res_std  = res_norm_cnt.std()\n",
    "\n",
    "rng_gauss = np.arange(edg_res_norm[0], edg_res_norm[-1], 0.1)\n",
    "best_gauss = gauss(rng_gauss, norm_res_mean, norm_res_std)\n",
    "\n",
    "plt.plot(rng_gauss, best_gauss)"
   ]
  },
  {
   "cell_type": "code",
   "execution_count": null,
   "metadata": {},
   "outputs": [],
   "source": []
  },
  {
   "cell_type": "code",
   "execution_count": null,
   "metadata": {},
   "outputs": [],
   "source": []
  },
  {
   "cell_type": "code",
   "execution_count": null,
   "metadata": {},
   "outputs": [],
   "source": []
  },
  {
   "cell_type": "code",
   "execution_count": null,
   "metadata": {},
   "outputs": [],
   "source": []
  }
 ],
 "metadata": {
  "kernelspec": {
   "display_name": "Python 3",
   "language": "python",
   "name": "python3"
  },
  "language_info": {
   "codemirror_mode": {
    "name": "ipython",
    "version": 3
   },
   "file_extension": ".py",
   "mimetype": "text/x-python",
   "name": "python",
   "nbconvert_exporter": "python",
   "pygments_lexer": "ipython3",
   "version": "3.9.6"
  }
 },
 "nbformat": 4,
 "nbformat_minor": 2
}
